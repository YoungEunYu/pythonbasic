{
 "cells": [
  {
   "cell_type": "code",
   "execution_count": 1,
   "id": "b4f11a43-963a-40e9-84be-6afd77f96d69",
   "metadata": {},
   "outputs": [
    {
     "ename": "NameError",
     "evalue": "name 'l1' is not defined",
     "output_type": "error",
     "traceback": [
      "\u001b[0;31m---------------------------------------------------------------------------\u001b[0m",
      "\u001b[0;31mNameError\u001b[0m                                 Traceback (most recent call last)",
      "\u001b[0;32m/var/folders/pj/m08knkgx3rz6pmvhgttqvmyc0000gn/T/ipykernel_49563/2518099335.py\u001b[0m in \u001b[0;36m<module>\u001b[0;34m\u001b[0m\n\u001b[0;32m----> 1\u001b[0;31m \u001b[0ml1\u001b[0m\u001b[0;34m[\u001b[0m\u001b[0;34m-\u001b[0m\u001b[0;36m1\u001b[0m\u001b[0;34m]\u001b[0m \u001b[0;32mis\u001b[0m \u001b[0ml2\u001b[0m\u001b[0;34m[\u001b[0m\u001b[0;34m-\u001b[0m\u001b[0;36m1\u001b[0m\u001b[0;34m]\u001b[0m\u001b[0;34m\u001b[0m\u001b[0;34m\u001b[0m\u001b[0m\n\u001b[0m",
      "\u001b[0;31mNameError\u001b[0m: name 'l1' is not defined"
     ]
    }
   ],
   "source": [
    "l1[-1] is l2[-1]"
   ]
  },
  {
   "cell_type": "code",
   "execution_count": 4,
   "id": "0fb3bf28-600a-4722-8a1b-2a94cce10c47",
   "metadata": {},
   "outputs": [
    {
     "name": "stderr",
     "output_type": "stream",
     "text": [
      "<>:6: SyntaxWarning: \"is\" with a literal. Did you mean \"==\"?\n",
      "<>:6: SyntaxWarning: \"is\" with a literal. Did you mean \"==\"?\n",
      "/var/folders/pj/m08knkgx3rz6pmvhgttqvmyc0000gn/T/ipykernel_49563/3174542382.py:6: SyntaxWarning: \"is\" with a literal. Did you mean \"==\"?\n",
      "  l5 is 16\n"
     ]
    },
    {
     "data": {
      "text/plain": [
       "False"
      ]
     },
     "execution_count": 4,
     "metadata": {},
     "output_type": "execute_result"
    }
   ],
   "source": [
    "# 아래 튜플인 9,10이라는 거에 대한 거까지 카피를 해주는 게 딥카피다.\n",
    "\n",
    "l5 = [7,8,(9,10)]\n",
    "l6 = l5.copy()\n",
    "\n",
    "l5 is 16"
   ]
  },
  {
   "cell_type": "code",
   "execution_count": 5,
   "id": "72963f20-b0c0-4173-b8a6-63b02f4302f9",
   "metadata": {},
   "outputs": [
    {
     "data": {
      "text/plain": [
       "True"
      ]
     },
     "execution_count": 5,
     "metadata": {},
     "output_type": "execute_result"
    }
   ],
   "source": [
    "l5[-1] is l6[-1]"
   ]
  },
  {
   "cell_type": "code",
   "execution_count": 6,
   "id": "a63d047f-838c-4906-90d4-9d4acd737ce3",
   "metadata": {},
   "outputs": [
    {
     "name": "stdout",
     "output_type": "stream",
     "text": [
      "1\n",
      "2\n",
      "3\n",
      "4\n",
      "5\n",
      "3\n",
      "4\n"
     ]
    }
   ],
   "source": [
    "easy_list = [[1,2,3,4,5], [3,4]]\n",
    "for item in easy_list:\n",
    "    for i in item:\n",
    "        print(i)\n",
    "        "
   ]
  },
  {
   "cell_type": "code",
   "execution_count": 7,
   "id": "da045bcf-9fe2-4160-94a6-820deee86a49",
   "metadata": {},
   "outputs": [],
   "source": [
    "easy_list = [[1,2,3,4,5], [3,4]]\n",
    "\n",
    "while i < len(easy_list):\n",
    "    j = 0\n",
    "    while j < len(easy_list[i]):\n",
    "        print(easy_list[i][j])\n",
    "        j += 1\n",
    "    i += 1\n",
    "\n"
   ]
  },
  {
   "cell_type": "code",
   "execution_count": 8,
   "id": "cba3fd9f-f301-4841-8e0e-b2671889de8c",
   "metadata": {},
   "outputs": [],
   "source": [
    "gen = (i for i in range(10))"
   ]
  },
  {
   "cell_type": "code",
   "execution_count": 9,
   "id": "838d6b3d-43ff-4f2d-8a8d-461c1266717b",
   "metadata": {},
   "outputs": [
    {
     "data": {
      "text/plain": [
       "generator"
      ]
     },
     "execution_count": 9,
     "metadata": {},
     "output_type": "execute_result"
    }
   ],
   "source": [
    "type(gen)"
   ]
  },
  {
   "cell_type": "code",
   "execution_count": 26,
   "id": "fe944d40-e69c-4be1-a548-03e180c47893",
   "metadata": {},
   "outputs": [
    {
     "data": {
      "text/plain": [
       "()"
      ]
     },
     "execution_count": 26,
     "metadata": {},
     "output_type": "execute_result"
    }
   ],
   "source": [
    "tuple(gen)"
   ]
  },
  {
   "cell_type": "code",
   "execution_count": 27,
   "id": "84c4c667-7b0c-47a0-bdf6-8fb1d66daff8",
   "metadata": {},
   "outputs": [
    {
     "ename": "NameError",
     "evalue": "name 'j' is not defined",
     "output_type": "error",
     "traceback": [
      "\u001b[0;31m---------------------------------------------------------------------------\u001b[0m",
      "\u001b[0;31mNameError\u001b[0m                                 Traceback (most recent call last)",
      "\u001b[0;32m/var/folders/pj/m08knkgx3rz6pmvhgttqvmyc0000gn/T/ipykernel_49563/1421655922.py\u001b[0m in \u001b[0;36m<module>\u001b[0;34m\u001b[0m\n\u001b[0;32m----> 1\u001b[0;31m \u001b[0mprint\u001b[0m\u001b[0;34m(\u001b[0m\u001b[0mj\u001b[0m\u001b[0;34m)\u001b[0m\u001b[0;34m\u001b[0m\u001b[0;34m\u001b[0m\u001b[0m\n\u001b[0m",
      "\u001b[0;31mNameError\u001b[0m: name 'j' is not defined"
     ]
    }
   ],
   "source": [
    "print(j)"
   ]
  },
  {
   "cell_type": "code",
   "execution_count": 42,
   "id": "7d72b082-a65b-499a-a954-eb77ebaeb195",
   "metadata": {},
   "outputs": [
    {
     "name": "stdout",
     "output_type": "stream",
     "text": [
      "['alpha', 'bravo', 'delta', 'hotel', 'india']\n"
     ]
    }
   ],
   "source": [
    "a = ['alpha', 'bravo', 'charlie', 'delta', 'echo', 'foxtrot', 'golf', 'hotel','india']\n",
    "b = [s for s in a if len(s) == 5]\n",
    "\n",
    "print(b)"
   ]
  },
  {
   "cell_type": "code",
   "execution_count": 94,
   "id": "ff2eb72b-f3a6-4901-b5e9-e5cf370b1941",
   "metadata": {},
   "outputs": [
    {
     "name": "stdin",
     "output_type": "stream",
     "text": [
      "정수 두개 입력하세요 60 1\n"
     ]
    },
    {
     "name": "stdout",
     "output_type": "stream",
     "text": [
      "첫번째 입력값은 두번째 입력값보다 작게 입력하세요\n",
      "[]\n"
     ]
    }
   ],
   "source": [
    "#x = input(\"정수 두개 입력하세요\")\n",
    "#weight = map(float,input(\"몸무게 적어주세요\").split())\n",
    "#x_list = x.split(\" \")\n",
    "\n",
    "x, y = map(int, input(\"정수 두개 입력하세요\").split())\n",
    "x_list2 = list(x_list2)\n",
    "\n",
    "c = [2**i for i in range (x, y+1)\n",
    "     if i != x+1 and i != y-1]\n",
    "\n",
    "if x_list2[0] > 20 and x_list2[0] < 1:\n",
    "    print(\"첫번째 입력값의 범위는 1~20 입니다.\")\n",
    "    \n",
    "    \n",
    "if x_list2[1] > 30 and x_list2[1] < 10:\n",
    "    print(\"두번째 입력값의 범위는 10~30입니다.\")\n",
    "    \n",
    "\n",
    "if x_list2[0] > x_list2[1]:\n",
    "    print(\"첫번째 입력값은 두번째 입력값보다 작게 입력하세요\")\n",
    "    \n",
    "print(c)"
   ]
  },
  {
   "cell_type": "code",
   "execution_count": 104,
   "id": "056985eb-856b-4851-9019-28609a621180",
   "metadata": {},
   "outputs": [
    {
     "name": "stdin",
     "output_type": "stream",
     "text": [
      "정수 두개 입력해: 1 100\n"
     ]
    },
    {
     "name": "stdout",
     "output_type": "stream",
     "text": [
      "두번째 입력값의 범위는 10~30입니다.\n"
     ]
    },
    {
     "name": "stdin",
     "output_type": "stream",
     "text": [
      "정수 두개 입력해: 10 100\n"
     ]
    },
    {
     "name": "stdout",
     "output_type": "stream",
     "text": [
      "두번째 입력값의 범위는 10~30입니다.\n"
     ]
    },
    {
     "name": "stdin",
     "output_type": "stream",
     "text": [
      "정수 두개 입력해: 11 100\n"
     ]
    },
    {
     "name": "stdout",
     "output_type": "stream",
     "text": [
      "두번째 입력값의 범위는 10~30입니다.\n"
     ]
    },
    {
     "ename": "KeyboardInterrupt",
     "evalue": "Interrupted by user",
     "output_type": "error",
     "traceback": [
      "\u001b[0;31m---------------------------------------------------------------------------\u001b[0m",
      "\u001b[0;31mKeyboardInterrupt\u001b[0m                         Traceback (most recent call last)",
      "\u001b[0;32m/var/folders/pj/m08knkgx3rz6pmvhgttqvmyc0000gn/T/ipykernel_49563/3742514102.py\u001b[0m in \u001b[0;36m<module>\u001b[0;34m\u001b[0m\n\u001b[1;32m      1\u001b[0m \u001b[0;32mwhile\u001b[0m \u001b[0;32mTrue\u001b[0m\u001b[0;34m:\u001b[0m\u001b[0;34m\u001b[0m\u001b[0;34m\u001b[0m\u001b[0m\n\u001b[0;32m----> 2\u001b[0;31m     \u001b[0mnum_1st\u001b[0m\u001b[0;34m,\u001b[0m \u001b[0mnum_2nd\u001b[0m \u001b[0;34m=\u001b[0m \u001b[0mmap\u001b[0m\u001b[0;34m(\u001b[0m\u001b[0mint\u001b[0m\u001b[0;34m,\u001b[0m \u001b[0minput\u001b[0m\u001b[0;34m(\u001b[0m\u001b[0;34m\"정수 두개 입력해:\"\u001b[0m\u001b[0;34m)\u001b[0m\u001b[0;34m.\u001b[0m\u001b[0msplit\u001b[0m\u001b[0;34m(\u001b[0m\u001b[0;34m)\u001b[0m\u001b[0;34m)\u001b[0m\u001b[0;34m\u001b[0m\u001b[0;34m\u001b[0m\u001b[0m\n\u001b[0m\u001b[1;32m      3\u001b[0m \u001b[0;34m\u001b[0m\u001b[0m\n\u001b[1;32m      4\u001b[0m     \u001b[0;32mif\u001b[0m \u001b[0mnum_1st\u001b[0m \u001b[0;34m<\u001b[0m \u001b[0;36m1\u001b[0m \u001b[0;32mor\u001b[0m \u001b[0mnum_1st\u001b[0m \u001b[0;34m>\u001b[0m \u001b[0;36m20\u001b[0m\u001b[0;34m:\u001b[0m\u001b[0;34m\u001b[0m\u001b[0;34m\u001b[0m\u001b[0m\n\u001b[1;32m      5\u001b[0m         \u001b[0mprint\u001b[0m\u001b[0;34m(\u001b[0m\u001b[0;34m\"첫번째 입력값의 범위는 1~20 입니다.\"\u001b[0m\u001b[0;34m)\u001b[0m\u001b[0;34m\u001b[0m\u001b[0;34m\u001b[0m\u001b[0m\n",
      "\u001b[0;32m~/opt/anaconda3/lib/python3.9/site-packages/ipykernel/kernelbase.py\u001b[0m in \u001b[0;36mraw_input\u001b[0;34m(self, prompt)\u001b[0m\n\u001b[1;32m   1004\u001b[0m                 \u001b[0;34m\"raw_input was called, but this frontend does not support input requests.\"\u001b[0m\u001b[0;34m\u001b[0m\u001b[0;34m\u001b[0m\u001b[0m\n\u001b[1;32m   1005\u001b[0m             )\n\u001b[0;32m-> 1006\u001b[0;31m         return self._input_request(\n\u001b[0m\u001b[1;32m   1007\u001b[0m             \u001b[0mstr\u001b[0m\u001b[0;34m(\u001b[0m\u001b[0mprompt\u001b[0m\u001b[0;34m)\u001b[0m\u001b[0;34m,\u001b[0m\u001b[0;34m\u001b[0m\u001b[0;34m\u001b[0m\u001b[0m\n\u001b[1;32m   1008\u001b[0m             \u001b[0mself\u001b[0m\u001b[0;34m.\u001b[0m\u001b[0m_parent_ident\u001b[0m\u001b[0;34m[\u001b[0m\u001b[0;34m\"shell\"\u001b[0m\u001b[0;34m]\u001b[0m\u001b[0;34m,\u001b[0m\u001b[0;34m\u001b[0m\u001b[0;34m\u001b[0m\u001b[0m\n",
      "\u001b[0;32m~/opt/anaconda3/lib/python3.9/site-packages/ipykernel/kernelbase.py\u001b[0m in \u001b[0;36m_input_request\u001b[0;34m(self, prompt, ident, parent, password)\u001b[0m\n\u001b[1;32m   1049\u001b[0m             \u001b[0;32mexcept\u001b[0m \u001b[0mKeyboardInterrupt\u001b[0m\u001b[0;34m:\u001b[0m\u001b[0;34m\u001b[0m\u001b[0;34m\u001b[0m\u001b[0m\n\u001b[1;32m   1050\u001b[0m                 \u001b[0;31m# re-raise KeyboardInterrupt, to truncate traceback\u001b[0m\u001b[0;34m\u001b[0m\u001b[0;34m\u001b[0m\u001b[0m\n\u001b[0;32m-> 1051\u001b[0;31m                 \u001b[0;32mraise\u001b[0m \u001b[0mKeyboardInterrupt\u001b[0m\u001b[0;34m(\u001b[0m\u001b[0;34m\"Interrupted by user\"\u001b[0m\u001b[0;34m)\u001b[0m \u001b[0;32mfrom\u001b[0m \u001b[0;32mNone\u001b[0m\u001b[0;34m\u001b[0m\u001b[0;34m\u001b[0m\u001b[0m\n\u001b[0m\u001b[1;32m   1052\u001b[0m             \u001b[0;32mexcept\u001b[0m \u001b[0mException\u001b[0m\u001b[0;34m:\u001b[0m\u001b[0;34m\u001b[0m\u001b[0;34m\u001b[0m\u001b[0m\n\u001b[1;32m   1053\u001b[0m                 \u001b[0mself\u001b[0m\u001b[0;34m.\u001b[0m\u001b[0mlog\u001b[0m\u001b[0;34m.\u001b[0m\u001b[0mwarning\u001b[0m\u001b[0;34m(\u001b[0m\u001b[0;34m\"Invalid Message:\"\u001b[0m\u001b[0;34m,\u001b[0m \u001b[0mexc_info\u001b[0m\u001b[0;34m=\u001b[0m\u001b[0;32mTrue\u001b[0m\u001b[0;34m)\u001b[0m\u001b[0;34m\u001b[0m\u001b[0;34m\u001b[0m\u001b[0m\n",
      "\u001b[0;31mKeyboardInterrupt\u001b[0m: Interrupted by user"
     ]
    }
   ],
   "source": [
    "while True:\n",
    "    num_1st, num_2nd = map(int, input(\"정수 두개 입력해:\").split())\n",
    "    \n",
    "    if num_1st < 1 or num_1st > 20:\n",
    "        print(\"첫번째 입력값의 범위는 1~20 입니다.\")\n",
    "    elif num_2nd < 10 or num_2nd > 30:\n",
    "        print(\"두번째 입력값의 범위는 10~30입니다.\")\n",
    "    elif num_1st >= num_2nd:\n",
    "        print(\"첫번째 입력값은 두번째 입력값보다 작게 입력하세요\")\n",
    "    else:\n",
    "        power_of_2 = [2**i for i in range(num_1st, num_2nd +1)]\n",
    "        del power_of_2 [1]\n",
    "        del power_of_2[len(power_of_2) -2]\n",
    "        print(power_of_2)\n",
    "        break\n",
    "    continue"
   ]
  },
  {
   "cell_type": "code",
   "execution_count": null,
   "id": "1f28c5eb-d88f-4a2c-bf8d-5a49e71b1d00",
   "metadata": {},
   "outputs": [],
   "source": []
  },
  {
   "cell_type": "code",
   "execution_count": 130,
   "id": "e6cfb09d-b3d3-4321-8c32-e372ce33055b",
   "metadata": {
    "scrolled": true,
    "tags": []
   },
   "outputs": [
    {
     "name": "stdin",
     "output_type": "stream",
     "text": [
      "찾는 범위를 입력하세요: 10\n"
     ]
    },
    {
     "name": "stdout",
     "output_type": "stream",
     "text": [
      "1\n",
      "1\n",
      "1\n",
      "1\n"
     ]
    }
   ],
   "source": [
    "num_3rd = input(\"찾는 범위를 입력하세요:\")\n",
    "num_3rd = int(num_3rd)\n",
    "\n",
    "\n",
    "for x in range(2,num_3rd):\n",
    "    if num_3rd % x != 0:\n",
    "        print(a)\n",
    "    else:\n",
    "        num_3rd = num_3rd-1\n"
   ]
  },
  {
   "cell_type": "code",
   "execution_count": 133,
   "id": "8df096a0-d119-43b3-b4f6-08b8da53eef9",
   "metadata": {},
   "outputs": [
    {
     "name": "stdout",
     "output_type": "stream",
     "text": [
      "2 부터 소수 찾는 프로그램\n"
     ]
    },
    {
     "name": "stdin",
     "output_type": "stream",
     "text": [
      "찾는 범위를 입력하세요: 100\n"
     ]
    },
    {
     "name": "stdout",
     "output_type": "stream",
     "text": [
      "2 3 5 7 11 13 17 \n",
      "19 23 29 31 37 41 43 \n",
      "47 53 59 61 67 71 73 \n",
      "79 83 89 97 "
     ]
    }
   ],
   "source": [
    "print(\"2 부터 소수 찾는 프로그램\")\n",
    "indata = int(input(\"찾는 범위를 입력하세요:\"))\n",
    "\n",
    "i = 2\n",
    "line=0\n",
    "\n",
    "while i <= indata:\n",
    "    j = 2\n",
    "    while j <= i:\n",
    "        if i % j ==0:\n",
    "            break\n",
    "        j += 1\n",
    "    if i == j :\n",
    "        print(i, end = ' ')\n",
    "        line = line +1\n",
    "        if line ==7:\n",
    "            line = 0\n",
    "            print()\n",
    "    i += 1\n",
    "    "
   ]
  },
  {
   "cell_type": "code",
   "execution_count": 135,
   "id": "40d82130-4648-4afd-a22e-58b149513606",
   "metadata": {},
   "outputs": [
    {
     "name": "stdout",
     "output_type": "stream",
     "text": [
      "[3, 10, 8, 9, 4, 9, 5, 10, 7, 7]\n"
     ]
    }
   ],
   "source": [
    "import random\n",
    "\n",
    "random_list = [random.randint(1,10) for _ in range(10)]\n",
    "print(random_list)"
   ]
  },
  {
   "cell_type": "code",
   "execution_count": 172,
   "id": "e328fc9b-f9c5-4f19-9618-1cbed34fd225",
   "metadata": {},
   "outputs": [
    {
     "ename": "SyntaxError",
     "evalue": "invalid syntax (2619143388.py, line 16)",
     "output_type": "error",
     "traceback": [
      "\u001b[0;36m  File \u001b[0;32m\"/var/folders/pj/m08knkgx3rz6pmvhgttqvmyc0000gn/T/ipykernel_49563/2619143388.py\"\u001b[0;36m, line \u001b[0;32m16\u001b[0m\n\u001b[0;31m    elif x < random_list:\u001b[0m\n\u001b[0m    ^\u001b[0m\n\u001b[0;31mSyntaxError\u001b[0m\u001b[0;31m:\u001b[0m invalid syntax\n"
     ]
    }
   ],
   "source": [
    "import random\n",
    "\n",
    "random_list = random.randint(1,100)\n",
    "print(random_list)\n",
    "\n",
    "x = int(input(\"랜덤한 숫자를 넣으세요 1-100 사이의:\"))\n",
    "list1 = []\n",
    "count = 1\n",
    "\n",
    "while True:\n",
    "    if x > 100 or x < 1:\n",
    "        list1.append(x)\n",
    "        print(\"1-100 사이의 숫자를 입력하세요.\")\n",
    "        \n",
    "        \n",
    "        elif x < random_list:\n",
    "            list1.append(x)\n",
    "            (\"그보다 작습니다.\")\n",
    "        \n",
    "        elif x > random_list:\n",
    "            list1.append(x)\n",
    "            print(\"그보다 큽니다.\")\n",
    "        \n",
    "        elif x == random_list:\n",
    "            list1.append(x)\n",
    "            print(\"맞췄습니다!\")\n",
    "            print(f\"{count}번만에 맞췄습니다.\")\n",
    "            print(f\"입력한 숫자는 다음과 같습니다. {list1}\")\n",
    "            \n",
    "            \n",
    "            list1.append(x)\n",
    "            count = count+1\n",
    "            break"
   ]
  },
  {
   "cell_type": "code",
   "execution_count": null,
   "id": "ba7b049a-36c4-4262-8b91-a0500d4815ee",
   "metadata": {},
   "outputs": [],
   "source": [
    "\n",
    "while True:\n",
    "    input_values.append(input(\"1-100 중 숫자 맞춰보세요\"))\n",
    "    _ = int(input_values[-1])\n",
    "    \n",
    "    if _ < 0 or _ > 100:\n",
    "        print(\"1~100 사이의 숫자를 입력하세요.\")\n",
    "    elif _ < target_number:\n",
    "        print(\"그보다 큽니다\")\n",
    "    elif _ > target_number:\n",
    "        print(\"그보다 작습니다.\")\n",
    "    else:\n",
    "        print(\"맞췄습니다.\")\n",
    "        \n",
    "        "
   ]
  },
  {
   "cell_type": "code",
   "execution_count": 176,
   "id": "f29dc933-f205-4f07-b5ce-eed291fb3158",
   "metadata": {},
   "outputs": [],
   "source": [
    "#세트 자료형\n",
    "# 세트 자체가 키이자 값이기 때문에 중복값이 있을 수 없다.\n",
    "\n",
    "# 순서가 없고, 순서가 없기 때문에 인덱싱이 불가능하다.\n",
    "\n",
    "# 빈 세트 생성은 \n",
    "# print(set())"
   ]
  },
  {
   "cell_type": "code",
   "execution_count": 177,
   "id": "e64d25ec-a839-4202-8a05-ef41421c293d",
   "metadata": {},
   "outputs": [
    {
     "name": "stdout",
     "output_type": "stream",
     "text": [
      "set()\n"
     ]
    }
   ],
   "source": [
    "print(set())"
   ]
  },
  {
   "cell_type": "code",
   "execution_count": 178,
   "id": "5c8236ab-a44f-4c75-a50c-c9463f4a74e6",
   "metadata": {},
   "outputs": [
    {
     "name": "stdout",
     "output_type": "stream",
     "text": [
      "set() <class 'set'>\n"
     ]
    }
   ],
   "source": [
    "set_variable = set()\n",
    "print(set_variable, type(set_variable))"
   ]
  },
  {
   "cell_type": "code",
   "execution_count": 180,
   "id": "a474786e-30db-436b-ac18-4a8970f64aa0",
   "metadata": {},
   "outputs": [
    {
     "name": "stdout",
     "output_type": "stream",
     "text": [
      "{1}\n"
     ]
    }
   ],
   "source": [
    "# 정수 1 값을 set_variable에 5차례 넣습니다.\n",
    "# 5번을 넣었지만 값은 유일하게 단 하나 가지고 있다.\n",
    "\n",
    "[set_variable.add(1) for _ in range(5)]\n",
    "\n",
    "# 출력하면 중복된 값 없이 요소를 갖는 걸 볼 수 있습니다.\n",
    "print(set_variable)"
   ]
  },
  {
   "cell_type": "markdown",
   "id": "5289de03-3b58-4167-9dac-c3b7d2fb47aa",
   "metadata": {},
   "source": [
    "##### 세트 자료형 : remove를 통해 삭제하면 됨\n",
    "\n",
    "print(set_variable1)\n",
    "set_variable1.remove(9)\n",
    "print(set_variable1)"
   ]
  },
  {
   "cell_type": "markdown",
   "id": "cd80ed5b-4c94-4573-9559-f6459a7e53a3",
   "metadata": {},
   "source": [
    "set_variable1.remove('없는 값')\n",
    "set_variable1.discard('없는 값') # discard는 에러가 발생하지 않는다. = 프로그램이 멈출 일이 없다는 것. "
   ]
  },
  {
   "cell_type": "markdown",
   "id": "c2e30912-dd10-4058-a590-c8b20dcc64e2",
   "metadata": {},
   "source": [
    "요소 임의 삭제하기 pop()\n",
    "\n",
    "세트자료형.pop()\n",
    "\n",
    ".clear\n",
    "len(set_variable) -> set 안에 몇개 잇는 지 파악할 때 사용\n"
   ]
  },
  {
   "cell_type": "code",
   "execution_count": 189,
   "id": "978da4d1-8653-4e3c-9f79-9728f40f0478",
   "metadata": {},
   "outputs": [
    {
     "name": "stdout",
     "output_type": "stream",
     "text": [
      "a: {1, 2, 3, 4} \n",
      "b {2, 4, 5}\n",
      "\n",
      "set.union(a,b): {1, 2, 3, 4, 5}\n",
      "a|b: {1, 2, 3, 4, 5}\n"
     ]
    }
   ],
   "source": [
    "# 세트 자료형 : 합집합 = union() or vertical bar |\n",
    "\n",
    "a = {_ for _ in range(1,5)}\n",
    "b = {_ for _ in range(2,6) if _ != 3}\n",
    "\n",
    "print(\"a:\", a, \"\\nb\", b)\n",
    "print()\n",
    "\n",
    "print(\"set.union(a,b):\", set.union(a,b))\n",
    "\n",
    "print(\"a|b:\", a|b)"
   ]
  },
  {
   "cell_type": "code",
   "execution_count": 190,
   "id": "9c607226-4ea6-4af8-aace-96af7ed4c4ee",
   "metadata": {},
   "outputs": [
    {
     "name": "stdout",
     "output_type": "stream",
     "text": [
      "a: {1, 2, 3, 4} \n",
      "b {2, 4, 5}\n",
      "\n",
      "set.intersection(a,b): {2, 4}\n",
      "a&b: {2, 4}\n"
     ]
    }
   ],
   "source": [
    "# 교집합 = intersection() or &\n",
    "\n",
    "a = {_ for _ in range(1,5)}\n",
    "b = {_ for _ in range(2,6) if _ != 3}\n",
    "\n",
    "print(\"a:\", a, \"\\nb\", b)\n",
    "print()\n",
    "\n",
    "print(\"set.intersection(a,b):\", set.intersection(a,b))\n",
    "\n",
    "print(\"a&b:\", a&b)"
   ]
  },
  {
   "cell_type": "code",
   "execution_count": 191,
   "id": "34aa8198-e86e-4759-9331-e9b77d87b41d",
   "metadata": {},
   "outputs": [
    {
     "name": "stdout",
     "output_type": "stream",
     "text": [
      "a: {1, 2, 3, 4} \n",
      "b {2, 4, 5}\n",
      "\n",
      "set.difference(a,b): {1, 3}\n",
      "a - b: {1, 3}\n"
     ]
    }
   ],
   "source": [
    "# 차집합 = difference() or -\n",
    "\n",
    "a = {_ for _ in range(1,5)}\n",
    "b = {_ for _ in range(2,6) if _ != 3}\n",
    "\n",
    "print(\"a:\", a, \"\\nb\", b)\n",
    "print()\n",
    "\n",
    "print(\"set.difference(a,b):\", set.difference(a,b))\n",
    "\n",
    "print(\"a - b:\", a - b)"
   ]
  },
  {
   "cell_type": "code",
   "execution_count": 194,
   "id": "2aefc848-e43e-47bf-8ee1-d4623ba00f0e",
   "metadata": {},
   "outputs": [
    {
     "ename": "SyntaxError",
     "evalue": "invalid syntax (2137774718.py, line 11)",
     "output_type": "error",
     "traceback": [
      "\u001b[0;36m  File \u001b[0;32m\"/var/folders/pj/m08knkgx3rz6pmvhgttqvmyc0000gn/T/ipykernel_49563/2137774718.py\"\u001b[0;36m, line \u001b[0;32m11\u001b[0m\n\u001b[0;31m    print(\"a ^ b:\", a ^ b)\u001b[0m\n\u001b[0m    ^\u001b[0m\n\u001b[0;31mSyntaxError\u001b[0m\u001b[0;31m:\u001b[0m invalid syntax\n"
     ]
    }
   ],
   "source": [
    "# 대칭차집합 => symmetric_diffenence() or ^\n",
    "\n",
    "a = {_ for _ in range(1,5)}\n",
    "b = {_ for _ in range(2,6) if _ != 3}\n",
    "\n",
    "print(\"a:\", a, \"\\nb\", b)\n",
    "print()\n",
    "\n",
    "print(\"set.symmetric_diffenence(a,b):\", set.symmetric_diffenence(a,b)\n",
    "\n",
    "print(\"a ^ b:\", a ^ b)"
   ]
  },
  {
   "cell_type": "code",
   "execution_count": 197,
   "id": "555b495e-c400-45ed-82b4-3b4ab90cbacc",
   "metadata": {},
   "outputs": [
    {
     "name": "stdout",
     "output_type": "stream",
     "text": [
      "a: {1, 2, 3, 4} \n",
      "b {2, 4, 5}\n",
      "\n",
      "a.update(b): {1, 2, 3, 4, 5}\n"
     ]
    }
   ],
   "source": [
    "a = {_ for _ in range(1,5)}\n",
    "b = {_ for _ in range(2,6) if _ != 3}\n",
    "\n",
    "print(\"a:\", a, \"\\nb\", b)\n",
    "print()\n",
    "\n",
    "a.update(b) # A/= B와 같습니다.\n",
    "print(\"a.update(b):\", a)"
   ]
  },
  {
   "cell_type": "code",
   "execution_count": 198,
   "id": "f372defc-84d5-49d1-b2b2-6590523359ee",
   "metadata": {},
   "outputs": [
    {
     "name": "stdout",
     "output_type": "stream",
     "text": [
      "a: {1, 2, 3, 4} \n",
      "b {2, 4, 5}\n",
      "\n",
      "a.update(b): {2, 4}\n"
     ]
    }
   ],
   "source": [
    "a = {_ for _ in range(1,5)}\n",
    "b = {_ for _ in range(2,6) if _ != 3}\n",
    "\n",
    "print(\"a:\", a, \"\\nb\", b)\n",
    "print()\n",
    "\n",
    "a.intersection_update(b) \n",
    "print(\"a.update(b):\", a)"
   ]
  },
  {
   "cell_type": "code",
   "execution_count": 199,
   "id": "9a4293a3-c2df-4ee8-892a-e9876d55d981",
   "metadata": {},
   "outputs": [
    {
     "name": "stdout",
     "output_type": "stream",
     "text": [
      "a: {1, 2, 3, 4} \n",
      "b {2, 4, 5}\n",
      "\n",
      "a.update(b): {1, 3}\n"
     ]
    }
   ],
   "source": [
    "a = {_ for _ in range(1,5)}\n",
    "b = {_ for _ in range(2,6) if _ != 3}\n",
    "\n",
    "print(\"a:\", a, \"\\nb\", b)\n",
    "print()\n",
    "\n",
    "a.difference_update(b) \n",
    "print(\"a.update(b):\", a)"
   ]
  },
  {
   "cell_type": "code",
   "execution_count": 200,
   "id": "ce59605d-cbde-4372-9432-e03c9d0c514a",
   "metadata": {},
   "outputs": [
    {
     "name": "stdout",
     "output_type": "stream",
     "text": [
      "a: {1, 2, 3, 4} \n",
      "b {2, 4, 5}\n",
      "\n",
      "a.update(b): {1, 3, 5}\n"
     ]
    }
   ],
   "source": [
    "a = {_ for _ in range(1,5)}\n",
    "b = {_ for _ in range(2,6) if _ != 3}\n",
    "\n",
    "print(\"a:\", a, \"\\nb\", b)\n",
    "print()\n",
    "\n",
    "a.symmetric_difference_update(b) \n",
    "print(\"a.update(b):\", a)"
   ]
  },
  {
   "cell_type": "code",
   "execution_count": 203,
   "id": "c2d658c7-1f37-41c7-bbd3-ba73323f4885",
   "metadata": {},
   "outputs": [
    {
     "name": "stdout",
     "output_type": "stream",
     "text": [
      "a: {0, 1, 2} \n",
      "b {0, 1, 2}\n",
      "\n",
      "a.issubset(b): True\n"
     ]
    }
   ],
   "source": [
    "# 부분집합 issubset()\n",
    "# 두개가 서로 같은지 아닌지 판단.\n",
    "\n",
    "a = {_ for _ in range(0,3)}\n",
    "b = {_ for _ in range(0,3)}\n",
    "\n",
    "print(\"a:\", a, \"\\nb\", b)\n",
    "print()\n",
    "print(\"a.issubset(b):\", a.issubset(b))"
   ]
  },
  {
   "cell_type": "code",
   "execution_count": 204,
   "id": "95e2b400-76a6-432b-bc98-0f78a897bdc8",
   "metadata": {},
   "outputs": [
    {
     "name": "stdout",
     "output_type": "stream",
     "text": [
      "a: {0, 1, 2} \n",
      "b {0, 1}\n",
      "\n",
      "a.issubset(b): False\n"
     ]
    }
   ],
   "source": [
    "# 부분집합 issubset()\n",
    "# 두개가 서로 같은지 아닌지 판단.\n",
    "\n",
    "a = {_ for _ in range(0,3)}\n",
    "b = {_ for _ in range(0,2)}\n",
    "\n",
    "print(\"a:\", a, \"\\nb\", b)\n",
    "print()\n",
    "print(\"a.issubset(b):\", a.issubset(b))"
   ]
  },
  {
   "cell_type": "code",
   "execution_count": 205,
   "id": "203499bd-2074-449e-90b0-0d292c0abffc",
   "metadata": {},
   "outputs": [
    {
     "name": "stdout",
     "output_type": "stream",
     "text": [
      "a: {0, 1, 2} \n",
      "b {0, 1}\n",
      "\n",
      "a.issuperset(b): True\n"
     ]
    }
   ],
   "source": [
    "# 상위집합 issuperset()\n",
    "\n",
    "a = {_ for _ in range(0,3)}\n",
    "b = {_ for _ in range(0,2)}\n",
    "\n",
    "print(\"a:\", a, \"\\nb\", b)\n",
    "print()\n",
    "print(\"a.issuperset(b):\", a.issuperset(b))"
   ]
  },
  {
   "cell_type": "code",
   "execution_count": 206,
   "id": "0d3f284c-2a86-4d79-a763-c5ad37330bf6",
   "metadata": {},
   "outputs": [
    {
     "name": "stdout",
     "output_type": "stream",
     "text": [
      "a: {0, 1, 2} \n",
      "b {0, 1, 2}\n",
      "\n",
      "a>b: False\n",
      "a<b: False\n"
     ]
    }
   ],
   "source": [
    "a = {_ for _ in range(0,3)}\n",
    "b = {_ for _ in range(0,3)}\n",
    "\n",
    "print(\"a:\", a, \"\\nb\", b)\n",
    "print()\n",
    "\n",
    "print(\"a>b:\", a>b)\n",
    "print(\"a<b:\", a<b)"
   ]
  },
  {
   "cell_type": "code",
   "execution_count": 207,
   "id": "cc1bc8d1-9653-405c-a83a-0d8f8f8adab5",
   "metadata": {},
   "outputs": [],
   "source": [
    "# 진부분집합과 상위집합\n"
   ]
  },
  {
   "cell_type": "code",
   "execution_count": 209,
   "id": "7f26af54-33fa-4a9c-8301-8fcbbce9ea18",
   "metadata": {},
   "outputs": [
    {
     "name": "stdout",
     "output_type": "stream",
     "text": [
      "a: {0, 1, 2} \n",
      "b {0, 1, 2}\n",
      "\n",
      "a == b: True\n"
     ]
    }
   ],
   "source": [
    "# 같다 ==\n",
    "\n",
    "a = {_ for _ in range(0,3)}\n",
    "b = {_ for _ in range(0,3)}\n",
    "\n",
    "print(\"a:\", a, \"\\nb\", b)\n",
    "print()\n",
    "print(\"a == b:\", a == b)"
   ]
  },
  {
   "cell_type": "code",
   "execution_count": 210,
   "id": "4467bc1c-fabd-4be3-9b2c-0c6d16732f00",
   "metadata": {},
   "outputs": [
    {
     "name": "stdout",
     "output_type": "stream",
     "text": [
      "a: {0, 1, 2} \n",
      "b {0, 1, 2}\n",
      "\n",
      "a.isdisjoint(b): False\n"
     ]
    }
   ],
   "source": [
    "# 세트가 겹치지 않는지 확인 isdisjoint()\n",
    "\n",
    "a = {_ for _ in range(0,3)}\n",
    "b = {_ for _ in range(0,3)}\n",
    "\n",
    "print(\"a:\", a, \"\\nb\", b)\n",
    "print()\n",
    "\n",
    "print(\"a.isdisjoint(b):\", a.isdisjoint(b))"
   ]
  },
  {
   "cell_type": "code",
   "execution_count": 214,
   "id": "1a504c38-65b8-4fc1-8cba-f8510169bd30",
   "metadata": {},
   "outputs": [
    {
     "name": "stdout",
     "output_type": "stream",
     "text": [
      "{1, 2, 3, 4}\n"
     ]
    }
   ],
   "source": [
    "list_sample = set([1,2,2,3,3,3,4,4,4,4])\n",
    "\n",
    "\n",
    "a = {i for i in list_sample}\n",
    "\n",
    "print(set.union(list_sample))"
   ]
  },
  {
   "cell_type": "code",
   "execution_count": null,
   "id": "6ad221ce-1ae2-44cb-8739-85b1044f4636",
   "metadata": {},
   "outputs": [],
   "source": [
    "# 세트 자료형 : 합집합 = union() or vertical bar |\n",
    "\n",
    "a = {_ for _ in range(1,5)}\n",
    "b = {_ for _ in range(2,6) if _ != 3}\n",
    "\n",
    "print(\"a:\", a, \"\\nb\", b)\n",
    "print()\n",
    "\n",
    "print(\"set.union(a,b):\", set.union(a,b))\n",
    "\n",
    "print(\"a|b:\", a|b)"
   ]
  }
 ],
 "metadata": {
  "kernelspec": {
   "display_name": "Python 3 (ipykernel)",
   "language": "python",
   "name": "python3"
  },
  "language_info": {
   "codemirror_mode": {
    "name": "ipython",
    "version": 3
   },
   "file_extension": ".py",
   "mimetype": "text/x-python",
   "name": "python",
   "nbconvert_exporter": "python",
   "pygments_lexer": "ipython3",
   "version": "3.9.7"
  }
 },
 "nbformat": 4,
 "nbformat_minor": 5
}
