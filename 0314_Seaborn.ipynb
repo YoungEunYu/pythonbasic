{
 "cells": [
  {
   "cell_type": "code",
   "execution_count": 2,
   "id": "cb2c1c3d-2841-4ac1-80fb-f85367687a94",
   "metadata": {},
   "outputs": [
    {
     "name": "stdout",
     "output_type": "stream",
     "text": [
      "NanumGothic\n",
      "NanumMyeongjo\n",
      "NanumMyeongjo\n",
      "Noto Sans KR\n",
      "NanumMyeongjo\n",
      "Noto Sans KR\n",
      "NanumGothic\n",
      "NanumGothic\n",
      "Noto Sans KR\n",
      "Noto Sans KR\n",
      "Noto Sans KR\n",
      "Noto Sans KR\n"
     ]
    }
   ],
   "source": [
    "import matplotlib as mpl\n",
    "import matplotlib.pyplot as plt\n",
    "\n",
    "# Add every font at the specified location\n",
    "# 이렇게 해두면 fonts 폴더 안에 있는 폰트들 사이에서 알아서 찾아온다.\n",
    "font_dir = ['/Users/ye/23_Data analysis/fonts']\n",
    "\n",
    "# 이름 뭐 있는지 찾아서 출력해라!\n",
    "for font in mpl.font_manager.findSystemFonts(fontpaths=font_dir):\n",
    "    print(mpl.font_manager.FontProperties(fname=font).get_name())\n",
    "    mpl.font_manager.fontManager.addfont(font)\n"
   ]
  },
  {
   "cell_type": "code",
   "execution_count": 4,
   "id": "39028eda-8f94-4500-91ed-455f9ef1263e",
   "metadata": {},
   "outputs": [
    {
     "name": "stdout",
     "output_type": "stream",
     "text": [
      "['Noto Sans KR']\n"
     ]
    }
   ],
   "source": [
    "mpl.rcParams['font.family'] = 'Noto Sans KR'\n",
    "print(mpl.rcParams['font.family'])"
   ]
  },
  {
   "cell_type": "code",
   "execution_count": 5,
   "id": "3a3a3134-700b-4486-b3c4-58dfe7c466c5",
   "metadata": {},
   "outputs": [],
   "source": [
    "mpl.rc('axes', unicode_minus=False)"
   ]
  },
  {
   "cell_type": "code",
   "execution_count": 7,
   "id": "69b277de-d151-4557-b4cd-e300cdc1b945",
   "metadata": {},
   "outputs": [],
   "source": [
    "%matplotlib inline"
   ]
  },
  {
   "cell_type": "code",
   "execution_count": 9,
   "id": "ca37a9b0-61e6-4c71-861e-cf9092628130",
   "metadata": {},
   "outputs": [],
   "source": [
    "import seaborn as sns\n",
    "sns.set_theme(style='whitegrid')"
   ]
  },
  {
   "cell_type": "code",
   "execution_count": 11,
   "id": "b16ae9a9-878d-48ba-9eb3-a0bffcc87eeb",
   "metadata": {},
   "outputs": [
    {
     "name": "stdout",
     "output_type": "stream",
     "text": [
      "<class 'pandas.core.frame.DataFrame'>\n",
      "RangeIndex: 891 entries, 0 to 890\n",
      "Data columns (total 15 columns):\n",
      " #   Column       Non-Null Count  Dtype   \n",
      "---  ------       --------------  -----   \n",
      " 0   survived     891 non-null    int64   \n",
      " 1   pclass       891 non-null    int64   \n",
      " 2   sex          891 non-null    object  \n",
      " 3   age          714 non-null    float64 \n",
      " 4   sibsp        891 non-null    int64   \n",
      " 5   parch        891 non-null    int64   \n",
      " 6   fare         891 non-null    float64 \n",
      " 7   embarked     889 non-null    object  \n",
      " 8   class        891 non-null    category\n",
      " 9   who          891 non-null    object  \n",
      " 10  adult_male   891 non-null    bool    \n",
      " 11  deck         203 non-null    category\n",
      " 12  embark_town  889 non-null    object  \n",
      " 13  alive        891 non-null    object  \n",
      " 14  alone        891 non-null    bool    \n",
      "dtypes: bool(2), category(2), float64(2), int64(4), object(5)\n",
      "memory usage: 80.7+ KB\n"
     ]
    }
   ],
   "source": [
    "# show the number of datapoints with each value of a categorical variable\n",
    "df = sns.load_dataset('titanic')\n",
    "df.info()"
   ]
  },
  {
   "cell_type": "code",
   "execution_count": 12,
   "id": "fe8aac7a-9d6c-4be2-9b0e-d9ef60f3d05c",
   "metadata": {},
   "outputs": [
    {
     "data": {
      "text/plain": [
       "<AxesSubplot:xlabel='class', ylabel='count'>"
      ]
     },
     "execution_count": 12,
     "metadata": {},
     "output_type": "execute_result"
    },
    {
     "data": {
      "image/png": "[encoded data removed]",
      "text/plain": [
       "<Figure size 432x288 with 1 Axes>"
      ]
     },
     "metadata": {},
     "output_type": "display_data"
    }
   ],
   "source": [
    "sns.countplot(x=df['class'])"
   ]
  },
  {
   "cell_type": "code",
   "execution_count": null,
   "id": "f26e9f7b-01eb-4ba0-b055-2bd2e328616b",
   "metadata": {},
   "outputs": [],
   "source": []
  }
 ],
 "metadata": {
  "kernelspec": {
   "display_name": "Python 3 (ipykernel)",
   "language": "python",
   "name": "python3"
  },
  "language_info": {
   "codemirror_mode": {
    "name": "ipython",
    "version": 3
   },
   "file_extension": ".py",
   "mimetype": "text/x-python",
   "name": "python",
   "nbconvert_exporter": "python",
   "pygments_lexer": "ipython3",
   "version": "3.9.7"
  }
 },
 "nbformat": 4,
 "nbformat_minor": 5
}
