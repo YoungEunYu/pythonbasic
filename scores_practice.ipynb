{
 "cells": [
  {
   "cell_type": "code",
   "execution_count": 1,
   "id": "ddbc9e0b-3dc0-48d8-8786-27b93c71f766",
   "metadata": {},
   "outputs": [
    {
     "name": "stdin",
     "output_type": "stream",
     "text": [
      "국어, 영어, 수학, 과학 점수를 입력해주세요. 98,100,96,100\n"
     ]
    }
   ],
   "source": [
    "# 사용자로부터 값을 입력받습니다.\n",
    "some_str = input('국어, 영어, 수학, 과학 점수를 입력해주세요.')"
   ]
  },
  {
   "cell_type": "code",
   "execution_count": 2,
   "id": "6fbe2194-1c6e-4e93-9368-084ef2610a31",
   "metadata": {},
   "outputs": [
    {
     "data": {
      "text/plain": [
       "'98,100,96,100'"
      ]
     },
     "execution_count": 2,
     "metadata": {},
     "output_type": "execute_result"
    }
   ],
   "source": [
    "some_str"
   ]
  },
  {
   "cell_type": "code",
   "execution_count": 3,
   "id": "c961e4b2-0b53-467a-94f3-57988657875e",
   "metadata": {},
   "outputs": [
    {
     "data": {
      "text/plain": [
       "str"
      ]
     },
     "execution_count": 3,
     "metadata": {},
     "output_type": "execute_result"
    }
   ],
   "source": [
    "type(some_str)"
   ]
  },
  {
   "cell_type": "code",
   "execution_count": 5,
   "id": "812fcded-ca3d-40ee-ab4d-6efa50fda8da",
   "metadata": {},
   "outputs": [],
   "source": [
    "# 입력받은 값을 나눠 리스트의 형태로 만듭니다.\n",
    "some_list = some_str.split(',')"
   ]
  },
  {
   "cell_type": "code",
   "execution_count": 6,
   "id": "83529e4e-e67a-4f8c-8c22-160a0d6e01f2",
   "metadata": {},
   "outputs": [
    {
     "data": {
      "text/plain": [
       "list"
      ]
     },
     "execution_count": 6,
     "metadata": {},
     "output_type": "execute_result"
    }
   ],
   "source": [
    "type(some_list)"
   ]
  },
  {
   "cell_type": "code",
   "execution_count": 7,
   "id": "2874d779-996f-4307-a2f7-586cec34f93a",
   "metadata": {},
   "outputs": [
    {
     "data": {
      "text/plain": [
       "['98', '100', '96', '100']"
      ]
     },
     "execution_count": 7,
     "metadata": {},
     "output_type": "execute_result"
    }
   ],
   "source": [
    "some_list"
   ]
  },
  {
   "cell_type": "code",
   "execution_count": 8,
   "id": "ac96aad5-1f0b-47bc-84f2-9b9604384743",
   "metadata": {},
   "outputs": [
    {
     "data": {
      "text/plain": [
       "'98'"
      ]
     },
     "execution_count": 8,
     "metadata": {},
     "output_type": "execute_result"
    }
   ],
   "source": [
    "# 각 요소를 살펴보면 문자열인 것을 확인할 수 있습니다.\n",
    "some_list[0]"
   ]
  },
  {
   "cell_type": "code",
   "execution_count": 9,
   "id": "54d2a9a5-570b-4398-8202-2af4b086c9ac",
   "metadata": {},
   "outputs": [
    {
     "data": {
      "text/plain": [
       "str"
      ]
     },
     "execution_count": 9,
     "metadata": {},
     "output_type": "execute_result"
    }
   ],
   "source": [
    "type(some_list[0])"
   ]
  },
  {
   "cell_type": "code",
   "execution_count": 10,
   "id": "962e755f-e1a0-46d8-972c-137deb078041",
   "metadata": {},
   "outputs": [
    {
     "data": {
      "text/plain": [
       "'9810096100'"
      ]
     },
     "execution_count": 10,
     "metadata": {},
     "output_type": "execute_result"
    }
   ],
   "source": [
    "# 문자열을 + 연산을 하면 concatenate된 결과를 볼 수 있습니다.\n",
    "some_list[0] + some_list[1] + some_list[2] + some_list[3]\n",
    "# extend()"
   ]
  },
  {
   "cell_type": "code",
   "execution_count": 11,
   "id": "644ce792-71d1-45ec-b2bc-55297ce57487",
   "metadata": {},
   "outputs": [
    {
     "data": {
      "text/plain": [
       "394"
      ]
     },
     "execution_count": 11,
     "metadata": {},
     "output_type": "execute_result"
    }
   ],
   "source": [
    "# 숫자 자료형 중 int(정수) 형태로 변경합니다.\n",
    "int(some_list[0]) + int(some_list[1]) + int(some_list[2]) + int(some_list[3])"
   ]
  },
  {
   "cell_type": "code",
   "execution_count": 21,
   "id": "2528c4ae-3d7a-470d-9abb-70f2c8139035",
   "metadata": {},
   "outputs": [],
   "source": [
    "# map 함수를 통해서 요소마다 함수를 적용합니다.\n",
    "some_map = map(int, some_list)"
   ]
  },
  {
   "cell_type": "code",
   "execution_count": 22,
   "id": "edd65a28-3c8a-46b3-8c8f-802b6e09248d",
   "metadata": {},
   "outputs": [
    {
     "data": {
      "text/plain": [
       "map"
      ]
     },
     "execution_count": 22,
     "metadata": {},
     "output_type": "execute_result"
    }
   ],
   "source": [
    "type(some_map)\n",
    "# iterable"
   ]
  },
  {
   "cell_type": "code",
   "execution_count": 23,
   "id": "92b9e943-3dd5-41de-ad6e-2fbe073bf2a6",
   "metadata": {},
   "outputs": [],
   "source": [
    "result_list = list(some_map)"
   ]
  },
  {
   "cell_type": "code",
   "execution_count": 24,
   "id": "614af934-4a7b-43bc-a136-7eed55afe9fd",
   "metadata": {},
   "outputs": [
    {
     "data": {
      "text/plain": [
       "[98, 100, 96, 100]"
      ]
     },
     "execution_count": 24,
     "metadata": {},
     "output_type": "execute_result"
    }
   ],
   "source": [
    "result_list"
   ]
  },
  {
   "cell_type": "code",
   "execution_count": 25,
   "id": "25ad756a-133b-40b5-988f-8c9ff9e95e07",
   "metadata": {},
   "outputs": [],
   "source": [
    "# unpacking을 합니다.\n",
    "kor, eng, mat, sci = result_list"
   ]
  },
  {
   "cell_type": "code",
   "execution_count": 26,
   "id": "58659551-9017-4068-9035-553c001b9e71",
   "metadata": {},
   "outputs": [
    {
     "data": {
      "text/plain": [
       "98.5"
      ]
     },
     "execution_count": 26,
     "metadata": {},
     "output_type": "execute_result"
    }
   ],
   "source": [
    "# 사칙연산을 통해 평균을 구합니다.\n",
    "(kor + eng + mat + sci) / len(result_list)"
   ]
  },
  {
   "cell_type": "code",
   "execution_count": null,
   "id": "3b8a6ef6-b486-44d0-84f6-b4a06e41485b",
   "metadata": {},
   "outputs": [],
   "source": []
  }
 ],
 "metadata": {
  "kernelspec": {
   "display_name": "Python 3 (ipykernel)",
   "language": "python",
   "name": "python3"
  },
  "language_info": {
   "codemirror_mode": {
    "name": "ipython",
    "version": 3
   },
   "file_extension": ".py",
   "mimetype": "text/x-python",
   "name": "python",
   "nbconvert_exporter": "python",
   "pygments_lexer": "ipython3",
   "version": "3.9.13"
  }
 },
 "nbformat": 4,
 "nbformat_minor": 5
}
