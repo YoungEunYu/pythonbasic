{
 "cells": [
  {
   "cell_type": "code",
   "execution_count": 10,
   "id": "fa6484b2-3e8a-416c-9358-591f85d32fa2",
   "metadata": {},
   "outputs": [
    {
     "data": {
      "text/plain": [
       "0        0\n",
       "1        1\n",
       "2        2\n",
       "3        3\n",
       "4        4\n",
       "      ... \n",
       "495    495\n",
       "496    496\n",
       "497    497\n",
       "498    498\n",
       "499    499\n",
       "Length: 500, dtype: int64"
      ]
     },
     "execution_count": 10,
     "metadata": {},
     "output_type": "execute_result"
    }
   ],
   "source": [
    "import pandas as pd\n",
    "import numpy as np\n",
    "\n",
    "# 500개의 값을 갖는 시리즈 생성\n",
    "\n",
    "nums = pd.Series(range(500))\n",
    "nums"
   ]
  },
  {
   "cell_type": "code",
   "execution_count": 4,
   "id": "9e0fb93a-fee3-41e0-b781-25b3381d5afb",
   "metadata": {},
   "outputs": [
    {
     "data": {
      "text/plain": [
       "0    0\n",
       "1    1\n",
       "2    2\n",
       "3    3\n",
       "4    4\n",
       "5    5\n",
       "6    6\n",
       "7    7\n",
       "8    8\n",
       "9    9\n",
       "dtype: int64"
      ]
     },
     "execution_count": 4,
     "metadata": {},
     "output_type": "execute_result"
    }
   ],
   "source": [
    "nums.head(10)"
   ]
  },
  {
   "cell_type": "code",
   "execution_count": 6,
   "id": "44de0a46-c5d2-4ea5-aef3-77eb7a1350f4",
   "metadata": {},
   "outputs": [
    {
     "data": {
      "text/plain": [
       "490    490\n",
       "491    491\n",
       "492    492\n",
       "493    493\n",
       "494    494\n",
       "495    495\n",
       "496    496\n",
       "497    497\n",
       "498    498\n",
       "499    499\n",
       "dtype: int64"
      ]
     },
     "execution_count": 6,
     "metadata": {},
     "output_type": "execute_result"
    }
   ],
   "source": [
    "nums.tail(10)"
   ]
  },
  {
   "cell_type": "code",
   "execution_count": 11,
   "id": "17358585-5c4d-47cb-b78c-ac609008cace",
   "metadata": {},
   "outputs": [
    {
     "data": {
      "text/plain": [
       "0    1.0\n",
       "1    2.0\n",
       "2    NaN\n",
       "3    4.0\n",
       "4    5.0\n",
       "dtype: float64"
      ]
     },
     "execution_count": 11,
     "metadata": {},
     "output_type": "execute_result"
    }
   ],
   "source": [
    "nums = pd.Series([1,2, np.nan, 4,5])\n",
    "nums"
   ]
  },
  {
   "cell_type": "code",
   "execution_count": 12,
   "id": "7fa052f7-db3d-4f4f-bd59-7ad55fed7b9b",
   "metadata": {},
   "outputs": [
    {
     "data": {
      "text/plain": [
       "4"
      ]
     },
     "execution_count": 12,
     "metadata": {},
     "output_type": "execute_result"
    }
   ],
   "source": [
    "nums.count()"
   ]
  },
  {
   "cell_type": "code",
   "execution_count": 13,
   "id": "39617bf0-48a2-4995-8486-0abbb7c714da",
   "metadata": {},
   "outputs": [
    {
     "data": {
      "text/plain": [
       "5"
      ]
     },
     "execution_count": 13,
     "metadata": {},
     "output_type": "execute_result"
    }
   ],
   "source": [
    "len(nums)"
   ]
  },
  {
   "cell_type": "code",
   "execution_count": 14,
   "id": "c83094c8-9bd2-40e1-a976-8477c56bda7e",
   "metadata": {},
   "outputs": [
    {
     "data": {
      "text/plain": [
       "0    1.0\n",
       "1    2.0\n",
       "2    NaN\n",
       "3    4.0\n",
       "4    5.0\n",
       "dtype: float64"
      ]
     },
     "execution_count": 14,
     "metadata": {},
     "output_type": "execute_result"
    }
   ],
   "source": [
    "nums.head(10)"
   ]
  },
  {
   "cell_type": "code",
   "execution_count": 15,
   "id": "2033b1c6-dce5-4c8b-b5d6-dbe63dff1acc",
   "metadata": {},
   "outputs": [
    {
     "data": {
      "text/plain": [
       "0    h\n",
       "1    e\n",
       "2    l\n",
       "3    l\n",
       "4    o\n",
       "dtype: object"
      ]
     },
     "execution_count": 15,
     "metadata": {},
     "output_type": "execute_result"
    }
   ],
   "source": [
    "hello = pd.Series(list(\"hello\"))\n",
    "hello"
   ]
  },
  {
   "cell_type": "code",
   "execution_count": 16,
   "id": "4b6d7514-2d7b-4f90-8800-5a711027808a",
   "metadata": {},
   "outputs": [
    {
     "data": {
      "text/plain": [
       "4"
      ]
     },
     "execution_count": 16,
     "metadata": {},
     "output_type": "execute_result"
    }
   ],
   "source": [
    "hello.nunique()"
   ]
  },
  {
   "cell_type": "code",
   "execution_count": 17,
   "id": "8541c9ca-43b8-4cb2-8591-ec21123357f2",
   "metadata": {},
   "outputs": [
    {
     "data": {
      "text/plain": [
       "12.0"
      ]
     },
     "execution_count": 17,
     "metadata": {},
     "output_type": "execute_result"
    }
   ],
   "source": [
    "nums.sum()"
   ]
  },
  {
   "cell_type": "code",
   "execution_count": 18,
   "id": "2d58e904-a421-4a2c-b17e-103dd6ac2223",
   "metadata": {},
   "outputs": [
    {
     "data": {
      "text/plain": [
       "nan"
      ]
     },
     "execution_count": 18,
     "metadata": {},
     "output_type": "execute_result"
    }
   ],
   "source": [
    "nums.sum(skipna=False)"
   ]
  },
  {
   "cell_type": "code",
   "execution_count": 19,
   "id": "df95a40d-a844-4750-ba57-21e9237436fc",
   "metadata": {},
   "outputs": [
    {
     "data": {
      "text/plain": [
       "3.0"
      ]
     },
     "execution_count": 19,
     "metadata": {},
     "output_type": "execute_result"
    }
   ],
   "source": [
    "nums.mean()"
   ]
  },
  {
   "cell_type": "code",
   "execution_count": 20,
   "id": "8c61a1a9-027c-48a4-a40c-efdc0c85e906",
   "metadata": {},
   "outputs": [
    {
     "data": {
      "text/plain": [
       "3.0"
      ]
     },
     "execution_count": 20,
     "metadata": {},
     "output_type": "execute_result"
    }
   ],
   "source": [
    "nums.median()"
   ]
  },
  {
   "cell_type": "code",
   "execution_count": 21,
   "id": "505d8bae-a595-4555-8739-7d69d7a5c270",
   "metadata": {},
   "outputs": [
    {
     "data": {
      "text/plain": [
       "1.8257418583505538"
      ]
     },
     "execution_count": 21,
     "metadata": {},
     "output_type": "execute_result"
    }
   ],
   "source": [
    "nums.std()"
   ]
  },
  {
   "cell_type": "code",
   "execution_count": 22,
   "id": "e2092683-becd-4e02-b13c-f411b3f4124b",
   "metadata": {},
   "outputs": [
    {
     "data": {
      "text/plain": [
       "5.0"
      ]
     },
     "execution_count": 22,
     "metadata": {},
     "output_type": "execute_result"
    }
   ],
   "source": [
    "nums.max()"
   ]
  },
  {
   "cell_type": "code",
   "execution_count": 23,
   "id": "02fd6aa3-63d4-4e10-944b-3d68435bc153",
   "metadata": {},
   "outputs": [
    {
     "data": {
      "text/plain": [
       "1.0"
      ]
     },
     "execution_count": 23,
     "metadata": {},
     "output_type": "execute_result"
    }
   ],
   "source": [
    "nums.min()"
   ]
  },
  {
   "cell_type": "code",
   "execution_count": 24,
   "id": "32cdc8f8-f43b-4cfb-b6a2-890b38c0d756",
   "metadata": {},
   "outputs": [
    {
     "data": {
      "text/plain": [
       "0    A\n",
       "1    a\n",
       "2    B\n",
       "3    b\n",
       "4    C\n",
       "5    c\n",
       "dtype: object"
      ]
     },
     "execution_count": 24,
     "metadata": {},
     "output_type": "execute_result"
    }
   ],
   "source": [
    "somechar = pd.Series(list(\"AaBbCc\"))\n",
    "somechar"
   ]
  },
  {
   "cell_type": "code",
   "execution_count": 25,
   "id": "e63a10a9-9b85-448d-8105-43284216342e",
   "metadata": {},
   "outputs": [
    {
     "data": {
      "text/plain": [
       "'c'"
      ]
     },
     "execution_count": 25,
     "metadata": {},
     "output_type": "execute_result"
    }
   ],
   "source": [
    "somechar.max()"
   ]
  },
  {
   "cell_type": "code",
   "execution_count": 26,
   "id": "7e103e26-9428-4be8-9efc-2286787071a5",
   "metadata": {},
   "outputs": [
    {
     "data": {
      "text/plain": [
       "'A'"
      ]
     },
     "execution_count": 26,
     "metadata": {},
     "output_type": "execute_result"
    }
   ],
   "source": [
    "somechar.min()"
   ]
  },
  {
   "cell_type": "code",
   "execution_count": 28,
   "id": "35ce7460-8cb4-49ff-8cdc-9177bba9d522",
   "metadata": {},
   "outputs": [
    {
     "data": {
      "text/plain": [
       "97"
      ]
     },
     "execution_count": 28,
     "metadata": {},
     "output_type": "execute_result"
    }
   ],
   "source": [
    "ord('a')"
   ]
  },
  {
   "cell_type": "code",
   "execution_count": 29,
   "id": "712dace9-2e56-4fd3-a17c-e71abb566cc4",
   "metadata": {},
   "outputs": [
    {
     "data": {
      "text/plain": [
       "65"
      ]
     },
     "execution_count": 29,
     "metadata": {},
     "output_type": "execute_result"
    }
   ],
   "source": [
    "ord('A')"
   ]
  },
  {
   "cell_type": "code",
   "execution_count": 30,
   "id": "6cd9a296-89ce-4e02-8923-6412e9d706a3",
   "metadata": {},
   "outputs": [
    {
     "data": {
      "text/plain": [
       "98"
      ]
     },
     "execution_count": 30,
     "metadata": {},
     "output_type": "execute_result"
    }
   ],
   "source": [
    "ord('b')"
   ]
  },
  {
   "cell_type": "code",
   "execution_count": 31,
   "id": "a2a68672-cae7-4d0e-8977-36ada16d92a4",
   "metadata": {},
   "outputs": [
    {
     "data": {
      "text/plain": [
       "count    4.000000\n",
       "mean     3.000000\n",
       "std      1.825742\n",
       "min      1.000000\n",
       "25%      1.750000\n",
       "50%      3.000000\n",
       "75%      4.250000\n",
       "max      5.000000\n",
       "dtype: float64"
      ]
     },
     "execution_count": 31,
     "metadata": {},
     "output_type": "execute_result"
    }
   ],
   "source": [
    "nums.describe()"
   ]
  },
  {
   "cell_type": "code",
   "execution_count": 32,
   "id": "bf2a7219-5f15-408d-8817-f32782af7188",
   "metadata": {},
   "outputs": [
    {
     "data": {
      "text/plain": [
       "count     5\n",
       "unique    4\n",
       "top       l\n",
       "freq      2\n",
       "dtype: object"
      ]
     },
     "execution_count": 32,
     "metadata": {},
     "output_type": "execute_result"
    }
   ],
   "source": [
    "hello.describe()"
   ]
  },
  {
   "cell_type": "code",
   "execution_count": 33,
   "id": "e3c5e4f5-4358-462b-aa23-c16ae70fea95",
   "metadata": {},
   "outputs": [
    {
     "data": {
      "text/plain": [
       "0    1.0\n",
       "1    2.0\n",
       "2    NaN\n",
       "3    4.0\n",
       "4    5.0\n",
       "dtype: float64"
      ]
     },
     "execution_count": 33,
     "metadata": {},
     "output_type": "execute_result"
    }
   ],
   "source": [
    "nums"
   ]
  },
  {
   "cell_type": "code",
   "execution_count": 34,
   "id": "792537b7-a5a1-4865-904d-e2d2847ece2a",
   "metadata": {},
   "outputs": [
    {
     "data": {
      "text/plain": [
       "[1.0, 2.0, nan, 4.0, 5.0]"
      ]
     },
     "execution_count": 34,
     "metadata": {},
     "output_type": "execute_result"
    }
   ],
   "source": [
    "list(nums)"
   ]
  },
  {
   "cell_type": "code",
   "execution_count": 35,
   "id": "44e0d88b-7274-4cfd-9005-189cc6d1e4ae",
   "metadata": {},
   "outputs": [
    {
     "data": {
      "text/plain": [
       "{0: 1.0, 1: 2.0, 2: nan, 3: 4.0, 4: 5.0}"
      ]
     },
     "execution_count": 35,
     "metadata": {},
     "output_type": "execute_result"
    }
   ],
   "source": [
    "dict(nums)"
   ]
  },
  {
   "cell_type": "code",
   "execution_count": 40,
   "id": "0f4d3e6a-b014-4812-879d-f93b9aab1074",
   "metadata": {},
   "outputs": [
    {
     "data": {
      "text/plain": [
       "Batman             100\n",
       "Superman           120\n",
       "Spider-Man          90\n",
       "Iron Man            95\n",
       "Captain America    110\n",
       "Wonder Woman       120\n",
       "dtype: int64"
      ]
     },
     "execution_count": 40,
     "metadata": {},
     "output_type": "execute_result"
    }
   ],
   "source": [
    "superheros = [ \"Batman\",\n",
    "\"Superman\", \"Spider-Man\", \"Iron Man\", \"Captain America\", \"Wonder Woman\"\n",
    "]\n",
    "strength_levels = (100, 120, 90, 95, 110, 120)\n",
    "\n",
    "a = pd.Series(data = strength_levels, index = [superheros])\n",
    "a"
   ]
  },
  {
   "cell_type": "code",
   "execution_count": 43,
   "id": "bc723022-2c93-4057-a5d4-8c46b3676eae",
   "metadata": {},
   "outputs": [
    {
     "data": {
      "text/plain": [
       "Batman             100\n",
       "Superman           120\n",
       "Spider-Man          90\n",
       "Iron Man            95\n",
       "Captain America    110\n",
       "Wonder Woman       120\n",
       "dtype: int64"
      ]
     },
     "execution_count": 43,
     "metadata": {},
     "output_type": "execute_result"
    }
   ],
   "source": [
    "# 생략 ㅇ\n",
    "\n",
    "a = pd.Series(strength_levels, [superheros])\n",
    "a"
   ]
  },
  {
   "cell_type": "code",
   "execution_count": 44,
   "id": "71304984-7dd3-4986-950c-975f9b3b03d5",
   "metadata": {},
   "outputs": [
    {
     "data": {
      "text/plain": [
       "Spider-Man          90\n",
       "Iron Man            95\n",
       "Captain America    110\n",
       "Wonder Woman       120\n",
       "dtype: int64"
      ]
     },
     "execution_count": 44,
     "metadata": {},
     "output_type": "execute_result"
    }
   ],
   "source": [
    "a.tail(4)"
   ]
  },
  {
   "cell_type": "code",
   "execution_count": 46,
   "id": "38739d75-f0bb-4680-9e94-afc1e9901109",
   "metadata": {},
   "outputs": [
    {
     "data": {
      "text/plain": [
       "5"
      ]
     },
     "execution_count": 46,
     "metadata": {},
     "output_type": "execute_result"
    }
   ],
   "source": [
    "a.nunique()"
   ]
  },
  {
   "cell_type": "code",
   "execution_count": 48,
   "id": "5692f0db-c5c4-47d0-88be-46aa80d071bc",
   "metadata": {},
   "outputs": [
    {
     "data": {
      "text/plain": [
       "105.83333333333333"
      ]
     },
     "execution_count": 48,
     "metadata": {},
     "output_type": "execute_result"
    }
   ],
   "source": [
    "a.mean()"
   ]
  },
  {
   "cell_type": "code",
   "execution_count": 49,
   "id": "496fb1f2-2a84-4eb1-b05b-6909effb4015",
   "metadata": {},
   "outputs": [
    {
     "data": {
      "text/plain": [
       "105.0"
      ]
     },
     "execution_count": 49,
     "metadata": {},
     "output_type": "execute_result"
    }
   ],
   "source": [
    "a.median()"
   ]
  },
  {
   "cell_type": "code",
   "execution_count": 50,
   "id": "b9368448-8b3f-40ac-acbb-8b0294ff9e42",
   "metadata": {},
   "outputs": [
    {
     "data": {
      "text/plain": [
       "120"
      ]
     },
     "execution_count": 50,
     "metadata": {},
     "output_type": "execute_result"
    }
   ],
   "source": [
    "a.max()"
   ]
  },
  {
   "cell_type": "code",
   "execution_count": 51,
   "id": "b28512ac-f625-4776-8756-9d546fcbf12b",
   "metadata": {},
   "outputs": [
    {
     "data": {
      "text/plain": [
       "90"
      ]
     },
     "execution_count": 51,
     "metadata": {},
     "output_type": "execute_result"
    }
   ],
   "source": [
    "a.min()"
   ]
  },
  {
   "cell_type": "code",
   "execution_count": 52,
   "id": "5774bc16-34ad-4910-8f98-d5f4bae3e97c",
   "metadata": {},
   "outputs": [
    {
     "data": {
      "text/plain": [
       "{('Batman',): 100,\n",
       " ('Superman',): 120,\n",
       " ('Spider-Man',): 90,\n",
       " ('Iron Man',): 95,\n",
       " ('Captain America',): 110,\n",
       " ('Wonder Woman',): 120}"
      ]
     },
     "execution_count": 52,
     "metadata": {},
     "output_type": "execute_result"
    }
   ],
   "source": [
    "dict(a)"
   ]
  },
  {
   "cell_type": "code",
   "execution_count": 60,
   "id": "9210cc73-2476-40f8-bbd4-2da747d79a5d",
   "metadata": {},
   "outputs": [
    {
     "data": {
      "text/plain": [
       "Pokemon\n",
       "Bulbasaur      Grass / Poison\n",
       "Ivysaur        Grass / Poison\n",
       "Venusaur       Grass / Poison\n",
       "Charmander               Fire\n",
       "Charmeleon               Fire\n",
       "                    ...      \n",
       "Stakataka        Rock / Steel\n",
       "Blacephalon      Fire / Ghost\n",
       "Zeraora              Electric\n",
       "Meltan                  Steel\n",
       "Melmetal                Steel\n",
       "Name: Type, Length: 809, dtype: object"
      ]
     },
     "execution_count": 60,
     "metadata": {},
     "output_type": "execute_result"
    }
   ],
   "source": [
    "# squeeze 매개변수는 하나의 열을 갖는 DataFrame을 Series로 변환\n",
    "# index_col은 index로 사용할 column을 지정\n",
    "\n",
    "pokemons = pd.read_csv(\"/Users/ye/23_Data analysis/ignore/pokemon.csv\", index_col=\"Pokemon\", squeeze=True)\n",
    "pokemons"
   ]
  },
  {
   "cell_type": "code",
   "execution_count": 61,
   "id": "c82ebd4d-9d20-48c0-8753-7b23b5721003",
   "metadata": {},
   "outputs": [
    {
     "data": {
      "text/plain": [
       "count        809\n",
       "unique       159\n",
       "top       Normal\n",
       "freq          65\n",
       "Name: Type, dtype: object"
      ]
     },
     "execution_count": 61,
     "metadata": {},
     "output_type": "execute_result"
    }
   ],
   "source": [
    "pokemons.describe()"
   ]
  },
  {
   "cell_type": "code",
   "execution_count": 62,
   "id": "16e59274-85d2-40a5-8e16-4e06f7e216cf",
   "metadata": {},
   "outputs": [
    {
     "data": {
      "text/html": [
       "<div>\n",
       "<style scoped>\n",
       "    .dataframe tbody tr th:only-of-type {\n",
       "        vertical-align: middle;\n",
       "    }\n",
       "\n",
       "    .dataframe tbody tr th {\n",
       "        vertical-align: top;\n",
       "    }\n",
       "\n",
       "    .dataframe thead th {\n",
       "        text-align: right;\n",
       "    }\n",
       "</style>\n",
       "<table border=\"1\" class=\"dataframe\">\n",
       "  <thead>\n",
       "    <tr style=\"text-align: right;\">\n",
       "      <th></th>\n",
       "      <th>Pokemon</th>\n",
       "      <th>Type</th>\n",
       "    </tr>\n",
       "  </thead>\n",
       "  <tbody>\n",
       "    <tr>\n",
       "      <th>0</th>\n",
       "      <td>Bulbasaur</td>\n",
       "      <td>Grass / Poison</td>\n",
       "    </tr>\n",
       "    <tr>\n",
       "      <th>1</th>\n",
       "      <td>Ivysaur</td>\n",
       "      <td>Grass / Poison</td>\n",
       "    </tr>\n",
       "    <tr>\n",
       "      <th>2</th>\n",
       "      <td>Venusaur</td>\n",
       "      <td>Grass / Poison</td>\n",
       "    </tr>\n",
       "    <tr>\n",
       "      <th>3</th>\n",
       "      <td>Charmander</td>\n",
       "      <td>Fire</td>\n",
       "    </tr>\n",
       "    <tr>\n",
       "      <th>4</th>\n",
       "      <td>Charmeleon</td>\n",
       "      <td>Fire</td>\n",
       "    </tr>\n",
       "    <tr>\n",
       "      <th>...</th>\n",
       "      <td>...</td>\n",
       "      <td>...</td>\n",
       "    </tr>\n",
       "    <tr>\n",
       "      <th>804</th>\n",
       "      <td>Stakataka</td>\n",
       "      <td>Rock / Steel</td>\n",
       "    </tr>\n",
       "    <tr>\n",
       "      <th>805</th>\n",
       "      <td>Blacephalon</td>\n",
       "      <td>Fire / Ghost</td>\n",
       "    </tr>\n",
       "    <tr>\n",
       "      <th>806</th>\n",
       "      <td>Zeraora</td>\n",
       "      <td>Electric</td>\n",
       "    </tr>\n",
       "    <tr>\n",
       "      <th>807</th>\n",
       "      <td>Meltan</td>\n",
       "      <td>Steel</td>\n",
       "    </tr>\n",
       "    <tr>\n",
       "      <th>808</th>\n",
       "      <td>Melmetal</td>\n",
       "      <td>Steel</td>\n",
       "    </tr>\n",
       "  </tbody>\n",
       "</table>\n",
       "<p>809 rows × 2 columns</p>\n",
       "</div>"
      ],
      "text/plain": [
       "         Pokemon            Type\n",
       "0      Bulbasaur  Grass / Poison\n",
       "1        Ivysaur  Grass / Poison\n",
       "2       Venusaur  Grass / Poison\n",
       "3     Charmander            Fire\n",
       "4     Charmeleon            Fire\n",
       "..           ...             ...\n",
       "804    Stakataka    Rock / Steel\n",
       "805  Blacephalon    Fire / Ghost\n",
       "806      Zeraora        Electric\n",
       "807       Meltan           Steel\n",
       "808     Melmetal           Steel\n",
       "\n",
       "[809 rows x 2 columns]"
      ]
     },
     "execution_count": 62,
     "metadata": {},
     "output_type": "execute_result"
    }
   ],
   "source": [
    "# 이렇게 넣으면 데이터프레임으로 가져온다.\n",
    "\n",
    "pd.read_csv(\"ignore/pokemon.csv\")"
   ]
  },
  {
   "cell_type": "code",
   "execution_count": 90,
   "id": "dfa29a39-0be9-4ef6-82c4-0a9d7d90c839",
   "metadata": {},
   "outputs": [
    {
     "data": {
      "text/plain": [
       "Pokemon\n",
       "Abomasnow        Grass / Ice\n",
       "Abra                 Psychic\n",
       "Absol                   Dark\n",
       "Accelgor                 Bug\n",
       "Aegislash      Steel / Ghost\n",
       "                  ...       \n",
       "Zoroark                 Dark\n",
       "Zorua                   Dark\n",
       "Zubat        Poison / Flying\n",
       "Zweilous       Dark / Dragon\n",
       "Zygarde      Dragon / Ground\n",
       "Name: Type, Length: 809, dtype: object"
      ]
     },
     "execution_count": 90,
     "metadata": {},
     "output_type": "execute_result"
    }
   ],
   "source": [
    "pokemons.sort_index(ascending=True)"
   ]
  },
  {
   "cell_type": "code",
   "execution_count": 63,
   "id": "2c216f35-baa8-4a85-8965-0863b95ceb64",
   "metadata": {},
   "outputs": [
    {
     "data": {
      "text/plain": [
       "count        809\n",
       "unique       159\n",
       "top       Normal\n",
       "freq          65\n",
       "Name: Type, dtype: object"
      ]
     },
     "execution_count": 63,
     "metadata": {},
     "output_type": "execute_result"
    }
   ],
   "source": [
    "pokemons.describe()"
   ]
  },
  {
   "cell_type": "code",
   "execution_count": 64,
   "id": "bf857e63-a421-448a-9410-e96de0ea34d7",
   "metadata": {},
   "outputs": [
    {
     "data": {
      "text/plain": [
       "Pokemon\n",
       "Illumise                Bug\n",
       "Silcoon                 Bug\n",
       "Pinsir                  Bug\n",
       "Burmy                   Bug\n",
       "Wurmple                 Bug\n",
       "                  ...      \n",
       "Tirtouga       Water / Rock\n",
       "Relicanth      Water / Rock\n",
       "Corsola        Water / Rock\n",
       "Carracosta     Water / Rock\n",
       "Empoleon      Water / Steel\n",
       "Name: Type, Length: 809, dtype: object"
      ]
     },
     "execution_count": 64,
     "metadata": {},
     "output_type": "execute_result"
    }
   ],
   "source": [
    "pokemons.sort_values()"
   ]
  },
  {
   "cell_type": "code",
   "execution_count": 65,
   "id": "a8202962-ca92-4d60-bf27-f196f06b1142",
   "metadata": {},
   "outputs": [
    {
     "data": {
      "text/plain": [
       "Pokemon\n",
       "Empoleon      Water / Steel\n",
       "Corsola        Water / Rock\n",
       "Relicanth      Water / Rock\n",
       "Carracosta     Water / Rock\n",
       "Tirtouga       Water / Rock\n",
       "                  ...      \n",
       "Kricketune              Bug\n",
       "Cascoon                 Bug\n",
       "Scatterbug              Bug\n",
       "Kricketot               Bug\n",
       "Grubbin                 Bug\n",
       "Name: Type, Length: 809, dtype: object"
      ]
     },
     "execution_count": 65,
     "metadata": {},
     "output_type": "execute_result"
    }
   ],
   "source": [
    "# 내림차순 정렬\n",
    "pokemons.sort_values(ascending = False)"
   ]
  },
  {
   "cell_type": "code",
   "execution_count": 69,
   "id": "ff18f3bb-11a5-4096-b39b-381077ab86d7",
   "metadata": {},
   "outputs": [
    {
     "data": {
      "text/plain": [
       "Date\n",
       "2004-08-19      49.98\n",
       "2004-08-20      53.95\n",
       "2004-08-23      54.50\n",
       "2004-08-24      52.24\n",
       "2004-08-25      52.80\n",
       "               ...   \n",
       "2019-10-21    1246.15\n",
       "2019-10-22    1242.80\n",
       "2019-10-23    1259.13\n",
       "2019-10-24    1260.99\n",
       "2019-10-25    1265.13\n",
       "Name: Close, Length: 3824, dtype: float64"
      ]
     },
     "execution_count": 69,
     "metadata": {},
     "output_type": "execute_result"
    }
   ],
   "source": [
    "# parse_dates는 csv파일에서 데이터를 읽어들일 때\n",
    "# 날짜/시간으로 파싱해야 하는 컬럼을 지정할 수 있습니다.\n",
    "\n",
    "google = pd.read_csv(\"ignore/google_stocks.csv\",\n",
    "                    parse_dates = [\"Date\"],\n",
    "                    index_col = \"Date\",\n",
    "                    squeeze = True)\n",
    "google"
   ]
  },
  {
   "cell_type": "code",
   "execution_count": 70,
   "id": "bbb34989-32cd-4c80-9ee3-7346fcc02f0f",
   "metadata": {},
   "outputs": [
    {
     "data": {
      "text/plain": [
       "Start Date\n",
       "1774-09-01    Massachusetts\n",
       "1774-12-14    New Hampshire\n",
       "1775-04-19    Massachusetts\n",
       "1775-04-19    Massachusetts\n",
       "1775-04-20         Virginia\n",
       "                  ...      \n",
       "1782-09-11         Virginia\n",
       "1782-09-13              NaN\n",
       "1782-10-18              NaN\n",
       "1782-12-06              NaN\n",
       "1783-01-22         Virginia\n",
       "Name: State, Length: 232, dtype: object"
      ]
     },
     "execution_count": 70,
     "metadata": {},
     "output_type": "execute_result"
    }
   ],
   "source": [
    "# usecols 인수를 활용하면\n",
    "# csv 파일로부터 팬더스가 가져와야 하는 열의 목록을 지정할 수 있습니다.\n",
    "\n",
    "war = pd.read_csv(\"ignore/revolutionary_war.csv\",\n",
    "                 parse_dates = [\"Start Date\"],\n",
    "                 index_col = \"Start Date\",\n",
    "                 usecols = [\"Start Date\", \"State\"],\n",
    "                 squeeze = True\n",
    "                 )\n",
    "war"
   ]
  },
  {
   "cell_type": "code",
   "execution_count": 72,
   "id": "8a2691f8-d8f3-4be7-a44d-22905b0e842b",
   "metadata": {
    "scrolled": true,
    "tags": []
   },
   "outputs": [
    {
     "data": {
      "text/plain": [
       "{Timestamp('1774-09-01 00:00:00'): 'Massachusetts',\n",
       " Timestamp('1774-12-14 00:00:00'): 'New Hampshire',\n",
       " Timestamp('1775-04-19 00:00:00'): Start Date\n",
       " 1775-04-19    Massachusetts\n",
       " 1775-04-19    Massachusetts\n",
       " Name: State, dtype: object,\n",
       " Timestamp('1775-04-20 00:00:00'): 'Virginia',\n",
       " Timestamp('1775-05-10 00:00:00'): 'New York',\n",
       " Timestamp('1775-05-27 00:00:00'): 'Massachusetts',\n",
       " Timestamp('1775-06-11 00:00:00'): 'Massachusetts',\n",
       " Timestamp('1775-06-17 00:00:00'): 'Massachusetts',\n",
       " Timestamp('1775-08-08 00:00:00'): 'Massachusetts',\n",
       " Timestamp('1775-09-17 00:00:00'): nan,\n",
       " Timestamp('1775-10-18 00:00:00'): 'Massachusetts',\n",
       " Timestamp('1775-11-14 00:00:00'): 'Virginia',\n",
       " Timestamp('1775-11-19 00:00:00'): 'South Carolina',\n",
       " Timestamp('1775-12-09 00:00:00'): 'Virginia',\n",
       " Timestamp('1775-12-01 00:00:00'): 'South Carolina',\n",
       " Timestamp('1775-12-31 00:00:00'): nan,\n",
       " Timestamp('1776-01-01 00:00:00'): 'Virginia',\n",
       " Timestamp('1776-02-27 00:00:00'): 'North Carolina',\n",
       " Timestamp('1776-03-02 00:00:00'): 'Georgia',\n",
       " Timestamp('1776-03-03 00:00:00'): nan,\n",
       " Timestamp('1776-03-25 00:00:00'): nan,\n",
       " Timestamp('1776-04-06 00:00:00'): 'Rhode Island',\n",
       " Timestamp('1776-05-18 00:00:00'): nan,\n",
       " Timestamp('1776-06-08 00:00:00'): nan,\n",
       " Timestamp('1776-06-28 00:00:00'): 'South Carolina',\n",
       " Timestamp('1776-06-29 00:00:00'): 'New Jersey',\n",
       " Timestamp('1776-07-15 00:00:00'): 'South Carolina',\n",
       " Timestamp('1776-08-27 00:00:00'): 'New York',\n",
       " Timestamp('1776-09-15 00:00:00'): 'New York',\n",
       " Timestamp('1776-09-16 00:00:00'): 'New York',\n",
       " Timestamp('1776-10-11 00:00:00'): 'New York',\n",
       " Timestamp('1776-10-28 00:00:00'): 'New York',\n",
       " Timestamp('1776-11-10 00:00:00'): nan,\n",
       " Timestamp('1776-11-16 00:00:00'): 'New York',\n",
       " Timestamp('1776-11-20 00:00:00'): 'New Jersey',\n",
       " Timestamp('1776-12-14 00:00:00'): 'New Jersey',\n",
       " Timestamp('1776-12-22 00:00:00'): 'New Jersey',\n",
       " Timestamp('1776-12-26 00:00:00'): 'New Jersey',\n",
       " Timestamp('1777-01-02 00:00:00'): 'New Jersey',\n",
       " Timestamp('1777-01-03 00:00:00'): 'New Jersey',\n",
       " Timestamp('1777-01-20 00:00:00'): 'New Jersey',\n",
       " NaT: Start Date\n",
       " NaT    New Jersey\n",
       " NaT      Virginia\n",
       " NaT           NaN\n",
       " NaT           NaN\n",
       " Name: State, dtype: object,\n",
       " Timestamp('1777-03-08 00:00:00'): 'New Jersey',\n",
       " Timestamp('1777-04-13 00:00:00'): 'New Jersey',\n",
       " Timestamp('1777-04-27 00:00:00'): 'Connecticut',\n",
       " Timestamp('1777-05-17 00:00:00'): 'Florida',\n",
       " Timestamp('1777-05-24 00:00:00'): 'New York',\n",
       " Timestamp('1777-06-26 00:00:00'): 'New Jersey',\n",
       " Timestamp('1777-07-05 00:00:00'): 'New York',\n",
       " Timestamp('1777-07-07 00:00:00'): 'Vermont',\n",
       " Timestamp('1777-07-08 00:00:00'): 'New York',\n",
       " Timestamp('1777-08-02 00:00:00'): 'New York',\n",
       " Timestamp('1777-08-06 00:00:00'): 'New York',\n",
       " Timestamp('1777-08-13 00:00:00'): 'Massachusetts',\n",
       " Timestamp('1777-08-16 00:00:00'): 'New York',\n",
       " Timestamp('1777-08-22 00:00:00'): Start Date\n",
       " 1777-08-22    New York\n",
       " 1777-08-22    New York\n",
       " Name: State, dtype: object,\n",
       " Timestamp('1777-09-03 00:00:00'): 'Delaware',\n",
       " Timestamp('1777-09-11 00:00:00'): 'Pennsylvania',\n",
       " Timestamp('1777-09-16 00:00:00'): 'Pennsylvania',\n",
       " Timestamp('1777-09-19 00:00:00'): 'New York',\n",
       " Timestamp('1777-09-21 00:00:00'): 'Pennsylvania',\n",
       " Timestamp('1777-09-26 00:00:00'): 'Pennsylvania',\n",
       " Timestamp('1777-10-04 00:00:00'): 'Pennsylvania',\n",
       " Timestamp('1777-10-06 00:00:00'): 'New York',\n",
       " Timestamp('1777-10-07 00:00:00'): 'New York',\n",
       " Timestamp('1777-10-22 00:00:00'): 'New Jersey',\n",
       " Timestamp('1777-11-25 00:00:00'): 'New Jersey',\n",
       " Timestamp('1777-12-05 00:00:00'): 'Pennsylvania',\n",
       " Timestamp('1777-12-11 00:00:00'): 'Pennsylvania',\n",
       " Timestamp('1778-03-07 00:00:00'): nan,\n",
       " Timestamp('1778-03-18 00:00:00'): 'New Jersey',\n",
       " Timestamp('1778-04-24 00:00:00'): nan,\n",
       " Timestamp('1778-05-01 00:00:00'): 'Pennsylvania',\n",
       " Timestamp('1778-05-20 00:00:00'): 'Pennsylvania',\n",
       " Timestamp('1778-05-25 00:00:00'): 'Rhode Island',\n",
       " Timestamp('1778-05-30 00:00:00'): 'New York',\n",
       " Timestamp('1778-06-28 00:00:00'): 'New Jersey',\n",
       " Timestamp('1778-06-30 00:00:00'): 'Florida',\n",
       " Timestamp('1778-07-03 00:00:00'): 'Pennsylvania',\n",
       " Timestamp('1778-07-27 00:00:00'): nan,\n",
       " Timestamp('1778-08-21 00:00:00'): nan,\n",
       " Timestamp('1778-08-29 00:00:00'): 'Rhode Island',\n",
       " Timestamp('1778-09-05 00:00:00'): 'Massachusetts',\n",
       " Timestamp('1778-09-07 00:00:00'): Start Date\n",
       " 1778-09-07         NaN\n",
       " 1778-09-07    Virginia\n",
       " Name: State, dtype: object,\n",
       " Timestamp('1778-09-17 00:00:00'): 'New York',\n",
       " Timestamp('1778-09-27 00:00:00'): 'New Jersey',\n",
       " Timestamp('1778-02-16 00:00:00'): nan,\n",
       " Timestamp('1778-10-06 00:00:00'): 'New Jersey',\n",
       " Timestamp('1778-10-16 00:00:00'): 'New Jersey',\n",
       " Timestamp('1778-10-24 00:00:00'): 'Vermont',\n",
       " Timestamp('1778-11-11 00:00:00'): 'New York',\n",
       " Timestamp('1778-12-15 00:00:00'): nan,\n",
       " Timestamp('1778-12-18 00:00:00'): nan,\n",
       " Timestamp('1778-12-29 00:00:00'): 'Georgia',\n",
       " Timestamp('1779-02-03 00:00:00'): 'South Carolina',\n",
       " Timestamp('1779-02-14 00:00:00'): 'Georgia',\n",
       " Timestamp('1779-02-23 00:00:00'): 'Indiana',\n",
       " Timestamp('1779-03-03 00:00:00'): 'Georgia',\n",
       " Timestamp('1779-05-01 00:00:00'): nan,\n",
       " Timestamp('1779-05-10 00:00:00'): 'Virginia',\n",
       " Timestamp('1779-06-16 00:00:00'): nan,\n",
       " Timestamp('1779-06-20 00:00:00'): 'South Carolina',\n",
       " Timestamp('1779-06-24 00:00:00'): nan,\n",
       " Timestamp('1779-07-02 00:00:00'): nan,\n",
       " Timestamp('1779-07-05 00:00:00'): 'Connecticut',\n",
       " Timestamp('1779-07-06 00:00:00'): nan,\n",
       " Timestamp('1779-07-16 00:00:00'): 'New York',\n",
       " Timestamp('1779-07-22 00:00:00'): 'New York',\n",
       " Timestamp('1779-07-24 00:00:00'): 'Massachusetts',\n",
       " Timestamp('1779-08-19 00:00:00'): 'New Jersey',\n",
       " Timestamp('1779-08-29 00:00:00'): nan,\n",
       " Timestamp('1779-09-07 00:00:00'): 'Florida',\n",
       " Timestamp('1779-09-10 00:00:00'): 'Florida',\n",
       " Timestamp('1779-09-13 00:00:00'): nan,\n",
       " Timestamp('1779-09-14 00:00:00'): nan,\n",
       " Timestamp('1779-09-16 00:00:00'): 'Georgia',\n",
       " Timestamp('1779-09-20 00:00:00'): 'Florida',\n",
       " Timestamp('1779-09-23 00:00:00'): nan,\n",
       " Timestamp('1779-10-16 00:00:00'): nan,\n",
       " Timestamp('1779-11-11 00:00:00'): nan,\n",
       " Timestamp('1779-12-18 00:00:00'): nan,\n",
       " Timestamp('1780-01-08 00:00:00'): nan,\n",
       " Timestamp('1780-01-16 00:00:00'): nan,\n",
       " Timestamp('1780-02-03 00:00:00'): 'New York',\n",
       " Timestamp('1780-03-02 00:00:00'): 'Florida',\n",
       " Timestamp('1780-03-29 00:00:00'): 'South Carolina',\n",
       " Timestamp('1780-04-14 00:00:00'): 'South Carolina',\n",
       " Timestamp('1780-04-17 00:00:00'): nan,\n",
       " Timestamp('1780-05-06 00:00:00'): 'South Carolina',\n",
       " Timestamp('1780-05-25 00:00:00'): Start Date\n",
       " 1780-05-25     Virginia\n",
       " 1780-05-25    Louisiana\n",
       " Name: State, dtype: object,\n",
       " Timestamp('1780-05-29 00:00:00'): 'South Carolina',\n",
       " Timestamp('1780-06-07 00:00:00'): 'New Jersey',\n",
       " Timestamp('1780-06-10 00:00:00'): 'South Carolina',\n",
       " Timestamp('1780-06-20 00:00:00'): 'North Carolina',\n",
       " Timestamp('1780-06-23 00:00:00'): 'New Jersey',\n",
       " Timestamp('1780-07-12 00:00:00'): 'South Carolina',\n",
       " Timestamp('1780-07-20 00:00:00'): 'New Jersey',\n",
       " Timestamp('1780-07-21 00:00:00'): 'North Carolina',\n",
       " Timestamp('1780-08-01 00:00:00'): 'South Carolina',\n",
       " Timestamp('1780-08-06 00:00:00'): 'South Carolina',\n",
       " Timestamp('1780-08-08 00:00:00'): nan,\n",
       " Timestamp('1780-08-09 00:00:00'): nan,\n",
       " Timestamp('1780-08-16 00:00:00'): 'South Carolina',\n",
       " Timestamp('1780-08-18 00:00:00'): Start Date\n",
       " 1780-08-18    South Carolina\n",
       " 1780-08-18    South Carolina\n",
       " Name: State, dtype: object,\n",
       " Timestamp('1780-08-28 00:00:00'): 'South Carolina',\n",
       " Timestamp('1780-09-20 00:00:00'): 'South Carolina',\n",
       " Timestamp('1780-09-26 00:00:00'): 'North Carolina',\n",
       " Timestamp('1780-10-07 00:00:00'): 'South Carolina',\n",
       " Timestamp('1780-10-16 00:00:00'): 'Vermont',\n",
       " Timestamp('1780-10-19 00:00:00'): 'New York',\n",
       " Timestamp('1780-11-05 00:00:00'): nan,\n",
       " Timestamp('1780-11-09 00:00:00'): 'South Carolina',\n",
       " Timestamp('1780-11-20 00:00:00'): 'South Carolina',\n",
       " Timestamp('1780-11-23 00:00:00'): 'New York',\n",
       " Timestamp('1781-01-06 00:00:00'): nan,\n",
       " Timestamp('1781-01-07 00:00:00'): 'Florida',\n",
       " Timestamp('1781-01-17 00:00:00'): 'South Carolina',\n",
       " Timestamp('1781-02-01 00:00:00'): 'North Carolina',\n",
       " Timestamp('1781-02-03 00:00:00'): nan,\n",
       " Timestamp('1781-02-25 00:00:00'): 'North Carolina',\n",
       " Timestamp('1781-03-06 00:00:00'): 'North Carolina',\n",
       " Timestamp('1781-03-09 00:00:00'): 'Florida',\n",
       " Timestamp('1781-03-15 00:00:00'): 'North Carolina',\n",
       " Timestamp('1781-03-16 00:00:00'): 'Virginia',\n",
       " Timestamp('1781-04-15 00:00:00'): Start Date\n",
       " 1781-04-15    South Carolina\n",
       " 1781-04-15               NaN\n",
       " Name: State, dtype: object,\n",
       " Timestamp('1781-04-25 00:00:00'): Start Date\n",
       " 1781-04-25          Virginia\n",
       " 1781-04-25    South Carolina\n",
       " Name: State, dtype: object,\n",
       " Timestamp('1781-04-29 00:00:00'): nan,\n",
       " Timestamp('1781-05-01 00:00:00'): nan,\n",
       " Timestamp('1781-05-08 00:00:00'): 'South Carolina',\n",
       " Timestamp('1781-05-22 00:00:00'): Start Date\n",
       " 1781-05-22           Georgia\n",
       " 1781-05-22    South Carolina\n",
       " Name: State, dtype: object,\n",
       " Timestamp('1781-05-24 00:00:00'): nan,\n",
       " Timestamp('1781-05-30 00:00:00'): nan,\n",
       " Timestamp('1781-06-26 00:00:00'): 'Virginia',\n",
       " Timestamp('1781-07-01 00:00:00'): 'Virginia',\n",
       " Timestamp('1781-07-06 00:00:00'): 'Virginia',\n",
       " Timestamp('1781-07-21 00:00:00'): nan,\n",
       " Timestamp('1781-08-05 00:00:00'): nan,\n",
       " Timestamp('1781-08-19 00:00:00'): nan,\n",
       " Timestamp('1781-08-24 00:00:00'): nan,\n",
       " Timestamp('1781-09-05 00:00:00'): 'Virginia',\n",
       " Timestamp('1781-09-06 00:00:00'): 'Connecticut',\n",
       " Timestamp('1781-09-08 00:00:00'): 'South Carolina',\n",
       " Timestamp('1781-09-13 00:00:00'): Start Date\n",
       " 1781-09-13    North Carolina\n",
       " 1781-09-13          Virginia\n",
       " Name: State, dtype: object,\n",
       " Timestamp('1781-09-28 00:00:00'): 'Virginia',\n",
       " Timestamp('1781-10-03 00:00:00'): 'New York',\n",
       " Timestamp('1781-10-21 00:00:00'): nan,\n",
       " Timestamp('1781-10-25 00:00:00'): 'New York',\n",
       " Timestamp('1781-12-12 00:00:00'): nan,\n",
       " Timestamp('1782-01-02 00:00:00'): 'South Carolina',\n",
       " Timestamp('1782-01-11 00:00:00'): Start Date\n",
       " 1782-01-11    NaN\n",
       " 1782-01-11    NaN\n",
       " Name: State, dtype: object,\n",
       " Timestamp('1782-01-22 00:00:00'): nan,\n",
       " Timestamp('1782-01-25 00:00:00'): nan,\n",
       " Timestamp('1782-02-17 00:00:00'): nan,\n",
       " Timestamp('1782-02-22 00:00:00'): nan,\n",
       " Timestamp('1782-02-24 00:00:00'): 'South Carolina',\n",
       " Timestamp('1782-03-08 00:00:00'): 'Ohio',\n",
       " Timestamp('1782-03-16 00:00:00'): Start Date\n",
       " 1782-03-16    NaN\n",
       " 1782-03-16    NaN\n",
       " Name: State, dtype: object,\n",
       " Timestamp('1782-03-22 00:00:00'): 'Virginia',\n",
       " Timestamp('1782-04-08 00:00:00'): 'New Jersey',\n",
       " Timestamp('1782-04-09 00:00:00'): nan,\n",
       " Timestamp('1782-04-12 00:00:00'): nan,\n",
       " Timestamp('1782-04-19 00:00:00'): nan,\n",
       " Timestamp('1782-04-20 00:00:00'): nan,\n",
       " Timestamp('1782-05-06 00:00:00'): nan,\n",
       " Timestamp('1782-05-25 00:00:00'): nan,\n",
       " Timestamp('1782-05-28 00:00:00'): nan,\n",
       " Timestamp('1782-07-01 00:00:00'): nan,\n",
       " Timestamp('1782-07-06 00:00:00'): nan,\n",
       " Timestamp('1782-08-08 00:00:00'): nan,\n",
       " Timestamp('1782-08-15 00:00:00'): 'Virginia',\n",
       " Timestamp('1782-08-19 00:00:00'): 'Virginia',\n",
       " Timestamp('1782-08-26 00:00:00'): 'South Carolina',\n",
       " Timestamp('1782-08-25 00:00:00'): nan,\n",
       " Timestamp('1782-09-11 00:00:00'): 'Virginia',\n",
       " Timestamp('1782-09-13 00:00:00'): nan,\n",
       " Timestamp('1782-10-18 00:00:00'): nan,\n",
       " Timestamp('1782-12-06 00:00:00'): nan,\n",
       " Timestamp('1783-01-22 00:00:00'): 'Virginia'}"
      ]
     },
     "execution_count": 72,
     "metadata": {},
     "output_type": "execute_result"
    }
   ],
   "source": [
    "dict(war)"
   ]
  },
  {
   "cell_type": "code",
   "execution_count": 78,
   "id": "88ebf975-d237-451a-85c4-ddb3e233a7f4",
   "metadata": {},
   "outputs": [
    {
     "data": {
      "text/plain": [
       "count                162\n",
       "unique                17\n",
       "top       South Carolina\n",
       "freq                  31\n",
       "Name: State, dtype: object"
      ]
     },
     "execution_count": 78,
     "metadata": {},
     "output_type": "execute_result"
    }
   ],
   "source": [
    "# 유일한 값의 개수는 총 몇개인가?\n",
    "# unique == 17\n",
    "war.describe()"
   ]
  },
  {
   "cell_type": "code",
   "execution_count": 87,
   "id": "fe7b271e-7403-4dca-995e-4e0643235ed3",
   "metadata": {},
   "outputs": [
    {
     "data": {
      "text/plain": [
       "17"
      ]
     },
     "execution_count": 87,
     "metadata": {},
     "output_type": "execute_result"
    }
   ],
   "source": [
    "# 유일한 값의 개수는 총 몇개인가?\n",
    "# unique == 17\n",
    "war.nunique()"
   ]
  },
  {
   "cell_type": "code",
   "execution_count": 84,
   "id": "4d824980-2f10-4d43-b336-e3940d650442",
   "metadata": {},
   "outputs": [
    {
     "data": {
      "text/plain": [
       "70"
      ]
     },
     "execution_count": 84,
     "metadata": {},
     "output_type": "execute_result"
    }
   ],
   "source": [
    "# Nan 값을 갖는 데이터는 몇개인가??\n",
    "# war 갯수 중에서 count 된 걸 뺀다.\n",
    "\n",
    "len(war) - war.count()"
   ]
  },
  {
   "cell_type": "code",
   "execution_count": 85,
   "id": "d131cccd-1662-4551-b71c-9a9334f82972",
   "metadata": {},
   "outputs": [
    {
     "data": {
      "text/plain": [
       "70"
      ]
     },
     "execution_count": 85,
     "metadata": {},
     "output_type": "execute_result"
    }
   ],
   "source": [
    "# Nan 값을 갖는 데이터는 몇개인가??\n",
    "# war 갯수 중에서 count 된 걸 뺀다.\n",
    "war.isnull().sum()"
   ]
  },
  {
   "cell_type": "code",
   "execution_count": 86,
   "id": "bfe750be-a9ec-4a18-a8df-206f460fe1d9",
   "metadata": {},
   "outputs": [
    {
     "data": {
      "text/plain": [
       "<bound method Series.count of Start Date\n",
       "1774-09-01    Massachusetts\n",
       "1774-12-14    New Hampshire\n",
       "1775-04-19    Massachusetts\n",
       "1775-04-19    Massachusetts\n",
       "1775-04-20         Virginia\n",
       "                  ...      \n",
       "1782-09-11         Virginia\n",
       "1782-09-13              NaN\n",
       "1782-10-18              NaN\n",
       "1782-12-06              NaN\n",
       "1783-01-22         Virginia\n",
       "Name: State, Length: 232, dtype: object>"
      ]
     },
     "execution_count": 86,
     "metadata": {},
     "output_type": "execute_result"
    }
   ],
   "source": [
    "# 결측치를 제외한 값의 개수는 몇인가?\n",
    "war.count"
   ]
  },
  {
   "cell_type": "code",
   "execution_count": 89,
   "id": "9621b856-d742-4674-9e56-47d68defb8ea",
   "metadata": {},
   "outputs": [
    {
     "data": {
      "text/plain": [
       "Start Date\n",
       "1774-09-01     Massachusetts\n",
       "1774-12-14     New Hampshire\n",
       "1775-04-19     Massachusetts\n",
       "1775-04-19     Massachusetts\n",
       "1775-04-20          Virginia\n",
       "                   ...      \n",
       "1782-08-15          Virginia\n",
       "1782-08-19          Virginia\n",
       "1782-08-26    South Carolina\n",
       "1782-09-11          Virginia\n",
       "1783-01-22          Virginia\n",
       "Name: State, Length: 162, dtype: object"
      ]
     },
     "execution_count": 89,
     "metadata": {},
     "output_type": "execute_result"
    }
   ],
   "source": [
    "# nan 값을 배제한다\n",
    "war.dropna()"
   ]
  },
  {
   "cell_type": "code",
   "execution_count": 92,
   "id": "d227e09c-d512-465c-9e1c-07ccdd43f5bd",
   "metadata": {},
   "outputs": [
    {
     "data": {
      "text/plain": [
       "Start Date\n",
       "1774-09-01    Massachusetts\n",
       "1774-12-14    New Hampshire\n",
       "1775-04-19    Massachusetts\n",
       "1775-04-19    Massachusetts\n",
       "1775-04-20         Virginia\n",
       "                  ...      \n",
       "1783-01-22         Virginia\n",
       "NaT              New Jersey\n",
       "NaT                Virginia\n",
       "NaT                     NaN\n",
       "NaT                     NaN\n",
       "Name: State, Length: 232, dtype: object"
      ]
     },
     "execution_count": 92,
     "metadata": {},
     "output_type": "execute_result"
    }
   ],
   "source": [
    "# NaT 인덱스는 Not a Time의 줄임말이다.\n",
    "# 날짜, 시간 유형의 데이터\n",
    "\n",
    "war.sort_index()"
   ]
  },
  {
   "cell_type": "code",
   "execution_count": 104,
   "id": "13e45c3c-b65e-4ac3-ab3a-d0f990188e62",
   "metadata": {},
   "outputs": [
    {
     "data": {
      "text/plain": [
       "Start Date\n",
       "NaT              New Jersey\n",
       "NaT                Virginia\n",
       "NaT                     NaN\n",
       "NaT                     NaN\n",
       "1774-09-01    Massachusetts\n",
       "                  ...      \n",
       "1782-09-11         Virginia\n",
       "1782-09-13              NaN\n",
       "1782-10-18              NaN\n",
       "1782-12-06              NaN\n",
       "1783-01-22         Virginia\n",
       "Name: State, Length: 232, dtype: object"
      ]
     },
     "execution_count": 104,
     "metadata": {},
     "output_type": "execute_result"
    }
   ],
   "source": [
    "# nan값이 존재할 때 nan을 어떻게 정렬할지 기준을 정해줄 수 있다.\n",
    "# na_position이라는 인수에 first, last값을 사용하면 된다.\n",
    "\n",
    "war.sort_index(na_position = \"first\")"
   ]
  },
  {
   "cell_type": "code",
   "execution_count": 94,
   "id": "9939e7bc-4fa3-4382-a7a2-e8299fad452f",
   "metadata": {},
   "outputs": [
    {
     "data": {
      "text/plain": [
       "Start Date\n",
       "1774-09-01    Massachusetts\n",
       "1774-12-14    New Hampshire\n",
       "1775-04-19    Massachusetts\n",
       "1775-04-19    Massachusetts\n",
       "1775-04-20         Virginia\n",
       "                  ...      \n",
       "1783-01-22         Virginia\n",
       "NaT              New Jersey\n",
       "NaT                Virginia\n",
       "NaT                     NaN\n",
       "NaT                     NaN\n",
       "Name: State, Length: 232, dtype: object"
      ]
     },
     "execution_count": 94,
     "metadata": {},
     "output_type": "execute_result"
    }
   ],
   "source": [
    "war.sort_index(na_position = \"last\")"
   ]
  },
  {
   "cell_type": "code",
   "execution_count": 96,
   "id": "240db7dd-fca9-4f16-8c7d-45413a619603",
   "metadata": {},
   "outputs": [
    {
     "data": {
      "text/plain": [
       "Start Date\n",
       "1774-09-01    Massachusetts\n",
       "1774-12-14    New Hampshire\n",
       "1775-04-19    Massachusetts\n",
       "1775-04-19    Massachusetts\n",
       "1775-04-19    Massachusetts\n",
       "                  ...      \n",
       "1782-09-11         Virginia\n",
       "1782-09-13              NaN\n",
       "1782-10-18              NaN\n",
       "1782-12-06              NaN\n",
       "1783-01-22         Virginia\n",
       "Name: State, Length: 250, dtype: object"
      ]
     },
     "execution_count": 96,
     "metadata": {},
     "output_type": "execute_result"
    }
   ],
   "source": [
    "# 시리즈 인덱스에 포함된 NaT 값을 배제하는 방법 1\n",
    "war.loc[war.index.dropna()]"
   ]
  },
  {
   "cell_type": "code",
   "execution_count": 97,
   "id": "8dd06f6a-0231-4e0e-aedc-00b34f638205",
   "metadata": {},
   "outputs": [
    {
     "data": {
      "text/plain": [
       "Start Date\n",
       "1774-09-01    Massachusetts\n",
       "1774-12-14    New Hampshire\n",
       "1775-04-19    Massachusetts\n",
       "1775-04-19    Massachusetts\n",
       "1775-04-20         Virginia\n",
       "                  ...      \n",
       "1782-09-11         Virginia\n",
       "1782-09-13              NaN\n",
       "1782-10-18              NaN\n",
       "1782-12-06              NaN\n",
       "1783-01-22         Virginia\n",
       "Name: State, Length: 228, dtype: object"
      ]
     },
     "execution_count": 97,
     "metadata": {},
     "output_type": "execute_result"
    }
   ],
   "source": [
    "# 시리즈 인덱스에 포함된 NaT 값을 배제하는 방법 2\n",
    "war.loc[war.index.notnull()]"
   ]
  },
  {
   "cell_type": "code",
   "execution_count": 102,
   "id": "b13b9dd5-638f-4daf-b37e-0e3431dd50fa",
   "metadata": {},
   "outputs": [
    {
     "data": {
      "text/plain": [
       "Date\n",
       "2019-04-29    1287.58\n",
       "2019-04-26    1272.18\n",
       "2018-07-26    1268.33\n",
       "2019-10-25    1265.13\n",
       "2019-04-23    1264.55\n",
       "2018-07-25    1263.70\n",
       "2019-04-25    1263.45\n",
       "2019-10-24    1260.99\n",
       "2019-10-23    1259.13\n",
       "2019-04-24    1256.00\n",
       "Name: Close, dtype: float64"
      ]
     },
     "execution_count": 102,
     "metadata": {},
     "output_type": "execute_result"
    }
   ],
   "source": [
    "# 내림차순 정렬\n",
    "google1 = google.sort_values(ascending = False)\n",
    "\n",
    "google1.head(10)"
   ]
  },
  {
   "cell_type": "code",
   "execution_count": 112,
   "id": "cd909c89-9c4e-4389-87e8-5cbdca4499b6",
   "metadata": {},
   "outputs": [
    {
     "data": {
      "text/plain": [
       "Date\n",
       "2004-09-03    49.82\n",
       "2004-09-01    49.94\n",
       "2004-08-19    49.98\n",
       "2004-09-02    50.57\n",
       "2004-09-07    50.60\n",
       "2004-08-30    50.81\n",
       "2004-09-08    50.96\n",
       "2004-09-09    50.96\n",
       "2004-08-31    50.99\n",
       "2004-08-24    52.24\n",
       "Name: Close, dtype: float64"
      ]
     },
     "execution_count": 112,
     "metadata": {},
     "output_type": "execute_result"
    }
   ],
   "source": [
    "#### 가장 작은 값 10개\n",
    "google1 = google.sort_values(ascending = True)\n",
    "google1.head(10)"
   ]
  },
  {
   "cell_type": "code",
   "execution_count": 113,
   "id": "7f15c979-fdf2-4714-8541-13b71bb57163",
   "metadata": {},
   "outputs": [
    {
     "data": {
      "text/plain": [
       "Date\n",
       "2019-04-29    1287.58\n",
       "2019-04-26    1272.18\n",
       "2018-07-26    1268.33\n",
       "2019-10-25    1265.13\n",
       "2019-04-23    1264.55\n",
       "2018-07-25    1263.70\n",
       "2019-04-25    1263.45\n",
       "2019-10-24    1260.99\n",
       "2019-10-23    1259.13\n",
       "2019-04-24    1256.00\n",
       "Name: Close, dtype: float64"
      ]
     },
     "execution_count": 113,
     "metadata": {},
     "output_type": "execute_result"
    }
   ],
   "source": [
    "google.nlargest(10)"
   ]
  },
  {
   "cell_type": "code",
   "execution_count": 114,
   "id": "aac23f61-6b67-408f-b698-62a35b93ef4e",
   "metadata": {},
   "outputs": [
    {
     "data": {
      "text/plain": [
       "Date\n",
       "2004-09-03    49.82\n",
       "2004-09-01    49.94\n",
       "2004-08-19    49.98\n",
       "2004-09-02    50.57\n",
       "2004-09-07    50.60\n",
       "2004-08-30    50.81\n",
       "2004-09-08    50.96\n",
       "2004-09-09    50.96\n",
       "2004-08-31    50.99\n",
       "2004-08-24    52.24\n",
       "Name: Close, dtype: float64"
      ]
     },
     "execution_count": 114,
     "metadata": {},
     "output_type": "execute_result"
    }
   ],
   "source": [
    "google.nsmallest(10)"
   ]
  },
  {
   "cell_type": "code",
   "execution_count": 115,
   "id": "2e8902f8-c656-46e7-8097-aa9b5109524f",
   "metadata": {},
   "outputs": [
    {
     "data": {
      "text/plain": [
       "Normal                65\n",
       "Water                 61\n",
       "Grass                 38\n",
       "Psychic               35\n",
       "Fire                  30\n",
       "                      ..\n",
       "Fire / Psychic         1\n",
       "Normal / Ground        1\n",
       "Psychic / Fighting     1\n",
       "Dark / Ghost           1\n",
       "Fire / Ghost           1\n",
       "Name: Type, Length: 159, dtype: int64"
      ]
     },
     "execution_count": 115,
     "metadata": {},
     "output_type": "execute_result"
    }
   ],
   "source": [
    "pokemons.value_counts()"
   ]
  },
  {
   "cell_type": "code",
   "execution_count": 116,
   "id": "c691a210-48c7-4ac6-856b-c37455d7cf60",
   "metadata": {},
   "outputs": [
    {
     "data": {
      "text/plain": [
       "array([   0.,  200.,  400.,  600.,  800., 1000., 1200., 1400.])"
      ]
     },
     "execution_count": 116,
     "metadata": {},
     "output_type": "execute_result"
    }
   ],
   "source": [
    "bins = np.linspace(0, 1400, 8)\n",
    "bins"
   ]
  },
  {
   "cell_type": "code",
   "execution_count": 126,
   "id": "89c1e546-c2de-4082-b2d4-25eb1708b846",
   "metadata": {},
   "outputs": [
    {
     "data": {
      "text/plain": [
       "(200.0, 400.0]      1568\n",
       "(-0.001, 200.0]      595\n",
       "(400.0, 600.0]       575\n",
       "(1000.0, 1200.0]     406\n",
       "(600.0, 800.0]       380\n",
       "(800.0, 1000.0]      207\n",
       "(1200.0, 1400.0]      93\n",
       "Name: Close, dtype: int64"
      ]
     },
     "execution_count": 126,
     "metadata": {},
     "output_type": "execute_result"
    }
   ],
   "source": [
    "# 소괄호()는 해당 값의 미포함을 나타내며 대괄호[]는 해당 값을 포함한다는 의미이다.\n",
    "# 리스트의 모든 인접한 쌍을 각 구간의 하한, 상한값으로 사용한다. \n",
    "\n",
    "google2 = google.value_counts(bins=bins)\n",
    "google2"
   ]
  },
  {
   "cell_type": "code",
   "execution_count": 128,
   "id": "63ec8d52-05a4-4ba7-9cbc-ed13a06d1071",
   "metadata": {},
   "outputs": [
    {
     "data": {
      "text/plain": [
       "(-0.001, 200.0]      595\n",
       "(200.0, 400.0]      1568\n",
       "(400.0, 600.0]       575\n",
       "(600.0, 800.0]       380\n",
       "(800.0, 1000.0]      207\n",
       "(1000.0, 1200.0]     406\n",
       "(1200.0, 1400.0]      93\n",
       "Name: Close, dtype: int64"
      ]
     },
     "execution_count": 128,
     "metadata": {},
     "output_type": "execute_result"
    }
   ],
   "source": [
    "google2.sort_index()"
   ]
  },
  {
   "cell_type": "code",
   "execution_count": 129,
   "id": "3157ca97-18e7-4400-8626-30dc3129e6c0",
   "metadata": {},
   "outputs": [
    {
     "data": {
      "text/plain": [
       "(48.581, 204.54]       651\n",
       "(204.54, 359.26]      1435\n",
       "(359.26, 513.98]       263\n",
       "(513.98, 668.7]        466\n",
       "(668.7, 823.42]        334\n",
       "(823.42, 978.14]       161\n",
       "(978.14, 1132.86]      283\n",
       "(1132.86, 1287.58]     231\n",
       "Name: Close, dtype: int64"
      ]
     },
     "execution_count": 129,
     "metadata": {},
     "output_type": "execute_result"
    }
   ],
   "source": [
    "google.value_counts(bins=8, sort=False)"
   ]
  },
  {
   "cell_type": "code",
   "execution_count": 161,
   "id": "fdb93986-096c-4fe9-a3b2-31db13991e8c",
   "metadata": {},
   "outputs": [
    {
     "data": {
      "text/html": [
       "<div>\n",
       "<style scoped>\n",
       "    .dataframe tbody tr th:only-of-type {\n",
       "        vertical-align: middle;\n",
       "    }\n",
       "\n",
       "    .dataframe tbody tr th {\n",
       "        vertical-align: top;\n",
       "    }\n",
       "\n",
       "    .dataframe thead th {\n",
       "        text-align: right;\n",
       "    }\n",
       "</style>\n",
       "<table border=\"1\" class=\"dataframe\">\n",
       "  <thead>\n",
       "    <tr style=\"text-align: right;\">\n",
       "      <th></th>\n",
       "      <th>c1</th>\n",
       "      <th>c2</th>\n",
       "      <th>c3</th>\n",
       "    </tr>\n",
       "  </thead>\n",
       "  <tbody>\n",
       "    <tr>\n",
       "      <th>0</th>\n",
       "      <td>1</td>\n",
       "      <td>2</td>\n",
       "      <td>누락</td>\n",
       "    </tr>\n",
       "    <tr>\n",
       "      <th>1</th>\n",
       "      <td>1.11</td>\n",
       "      <td></td>\n",
       "      <td>3.33</td>\n",
       "    </tr>\n",
       "    <tr>\n",
       "      <th>2</th>\n",
       "      <td>one</td>\n",
       "      <td>two</td>\n",
       "      <td>three</td>\n",
       "    </tr>\n",
       "  </tbody>\n",
       "</table>\n",
       "</div>"
      ],
      "text/plain": [
       "     c1   c2     c3\n",
       "0     1    2     누락\n",
       "1  1.11        3.33\n",
       "2   one  two  three"
      ]
     },
     "execution_count": 161,
     "metadata": {},
     "output_type": "execute_result"
    }
   ],
   "source": [
    "# pandas 데이터 csv로 출력하기\n",
    "\n",
    "data = {\"c1\": [1, 1.11, \"one\"], \"c2\": [2, '', \"two\"], \"c3\": [\"누락\", 3.33, \"three\"],\n",
    "}\n",
    "columns = [\"c1\",\"c2\", \"c3\"]\n",
    "index = [0, 1, 2]\n",
    "df_csv = pd.DataFrame(data, index=index, columns=columns)\n",
    "df_csv"
   ]
  },
  {
   "cell_type": "code",
   "execution_count": 162,
   "id": "9708cda6-9c08-47e5-ac7f-fc489aba16f9",
   "metadata": {},
   "outputs": [],
   "source": [
    "# 파일로 저장이 되었다!\n",
    "df_csv.to_csv(\"sample1.csv\", index=False)"
   ]
  },
  {
   "cell_type": "code",
   "execution_count": 163,
   "id": "a6fceff4-a287-4221-9bf9-42fdd948b766",
   "metadata": {},
   "outputs": [
    {
     "data": {
      "text/plain": [
       "'/Users/ye'"
      ]
     },
     "execution_count": 163,
     "metadata": {},
     "output_type": "execute_result"
    }
   ],
   "source": [
    "%pwd"
   ]
  },
  {
   "cell_type": "code",
   "execution_count": 172,
   "id": "450e36db-8b99-49ec-a321-0fee3d45a99c",
   "metadata": {},
   "outputs": [
    {
     "name": "stdout",
     "output_type": "stream",
     "text": [
      "/Users/ye/23_Data analysis\n"
     ]
    }
   ],
   "source": [
    "%cd /Users/ye/23_Data analysis"
   ]
  },
  {
   "cell_type": "code",
   "execution_count": 210,
   "id": "a1c002ba-a34d-4e69-b489-a08f989714a6",
   "metadata": {},
   "outputs": [
    {
     "data": {
      "text/html": [
       "<div>\n",
       "<style scoped>\n",
       "    .dataframe tbody tr th:only-of-type {\n",
       "        vertical-align: middle;\n",
       "    }\n",
       "\n",
       "    .dataframe tbody tr th {\n",
       "        vertical-align: top;\n",
       "    }\n",
       "\n",
       "    .dataframe thead th {\n",
       "        text-align: right;\n",
       "    }\n",
       "</style>\n",
       "<table border=\"1\" class=\"dataframe\">\n",
       "  <thead>\n",
       "    <tr style=\"text-align: right;\">\n",
       "      <th></th>\n",
       "      <th>c1</th>\n",
       "      <th>c2</th>\n",
       "      <th>c3</th>\n",
       "    </tr>\n",
       "  </thead>\n",
       "  <tbody>\n",
       "    <tr>\n",
       "      <th>0</th>\n",
       "      <td>1</td>\n",
       "      <td>2</td>\n",
       "      <td>누락</td>\n",
       "    </tr>\n",
       "    <tr>\n",
       "      <th>1</th>\n",
       "      <td>1.11</td>\n",
       "      <td>NaN</td>\n",
       "      <td>3.33</td>\n",
       "    </tr>\n",
       "    <tr>\n",
       "      <th>2</th>\n",
       "      <td>one</td>\n",
       "      <td>two</td>\n",
       "      <td>three</td>\n",
       "    </tr>\n",
       "  </tbody>\n",
       "</table>\n",
       "</div>"
      ],
      "text/plain": [
       "     c1   c2     c3\n",
       "0     1    2     누락\n",
       "1  1.11  NaN   3.33\n",
       "2   one  two  three"
      ]
     },
     "execution_count": 210,
     "metadata": {},
     "output_type": "execute_result"
    }
   ],
   "source": [
    "# 읽어낸 데이터에 컬럼 인덱스는 있지만 row 인덱스는 없으므로 0부터 row 인덱스가 추가된 것을 볼 수 있다.\n",
    "\n",
    "df_read = pd.read_csv(\"sample1.csv\")\n",
    "df_read"
   ]
  },
  {
   "cell_type": "code",
   "execution_count": 166,
   "id": "39832de9-d0d3-4951-8e65-0f9a1c58afd0",
   "metadata": {},
   "outputs": [],
   "source": [
    "df_csv.to_csv(\"sample2.csv\", index=False, header=False)"
   ]
  },
  {
   "cell_type": "code",
   "execution_count": 167,
   "id": "be939fb0-ec18-48fa-9870-6bf98be4b5bd",
   "metadata": {},
   "outputs": [
    {
     "data": {
      "text/html": [
       "<div>\n",
       "<style scoped>\n",
       "    .dataframe tbody tr th:only-of-type {\n",
       "        vertical-align: middle;\n",
       "    }\n",
       "\n",
       "    .dataframe tbody tr th {\n",
       "        vertical-align: top;\n",
       "    }\n",
       "\n",
       "    .dataframe thead th {\n",
       "        text-align: right;\n",
       "    }\n",
       "</style>\n",
       "<table border=\"1\" class=\"dataframe\">\n",
       "  <thead>\n",
       "    <tr style=\"text-align: right;\">\n",
       "      <th></th>\n",
       "      <th>a</th>\n",
       "      <th>b</th>\n",
       "      <th>c</th>\n",
       "    </tr>\n",
       "  </thead>\n",
       "  <tbody>\n",
       "    <tr>\n",
       "      <th>0</th>\n",
       "      <td>1</td>\n",
       "      <td>2</td>\n",
       "      <td>누락</td>\n",
       "    </tr>\n",
       "    <tr>\n",
       "      <th>1</th>\n",
       "      <td>1.11</td>\n",
       "      <td>NaN</td>\n",
       "      <td>3.33</td>\n",
       "    </tr>\n",
       "    <tr>\n",
       "      <th>2</th>\n",
       "      <td>one</td>\n",
       "      <td>two</td>\n",
       "      <td>three</td>\n",
       "    </tr>\n",
       "  </tbody>\n",
       "</table>\n",
       "</div>"
      ],
      "text/plain": [
       "      a    b      c\n",
       "0     1    2     누락\n",
       "1  1.11  NaN   3.33\n",
       "2   one  two  three"
      ]
     },
     "execution_count": 167,
     "metadata": {},
     "output_type": "execute_result"
    }
   ],
   "source": [
    "pd.read_csv(\"sample2.csv\", names=['a', 'b', 'c'])"
   ]
  },
  {
   "cell_type": "code",
   "execution_count": 180,
   "id": "f24ca690-8c95-479c-8fd5-8c5bdd0f5387",
   "metadata": {},
   "outputs": [],
   "source": [
    "# 아래처럼 %기호가 있을 때는 앞에 주석을 달면 안된다.\n",
    "# 첫줄부터 바로 시작해야 함!"
   ]
  },
  {
   "cell_type": "code",
   "execution_count": 181,
   "id": "9ea3b6a5-a526-46ca-b65f-63701688534a",
   "metadata": {},
   "outputs": [
    {
     "name": "stdout",
     "output_type": "stream",
     "text": [
      "Overwriting sample3.txt\n"
     ]
    }
   ],
   "source": [
    "%%writefile sample3.txt\n",
    "c1        c2        c3        c4\n",
    "0.179181 -1.538472  1.347553  0.43381\n",
    "1.024209  0.087307 -1.281997  0.49265\n",
    "0.417899 -2.002308  0.255245 -1.10515|"
   ]
  },
  {
   "cell_type": "code",
   "execution_count": 209,
   "id": "a1c018d8-d00f-4969-8356-cdb4c3c0d477",
   "metadata": {},
   "outputs": [
    {
     "data": {
      "text/html": [
       "<div>\n",
       "<style scoped>\n",
       "    .dataframe tbody tr th:only-of-type {\n",
       "        vertical-align: middle;\n",
       "    }\n",
       "\n",
       "    .dataframe tbody tr th {\n",
       "        vertical-align: top;\n",
       "    }\n",
       "\n",
       "    .dataframe thead th {\n",
       "        text-align: right;\n",
       "    }\n",
       "</style>\n",
       "<table border=\"1\" class=\"dataframe\">\n",
       "  <thead>\n",
       "    <tr style=\"text-align: right;\">\n",
       "      <th></th>\n",
       "      <th>c1        c2        c3        c4</th>\n",
       "    </tr>\n",
       "  </thead>\n",
       "  <tbody>\n",
       "    <tr>\n",
       "      <th>0</th>\n",
       "      <td>0.179181 -1.538472  1.347553  0.43381</td>\n",
       "    </tr>\n",
       "    <tr>\n",
       "      <th>1</th>\n",
       "      <td>1.024209  0.087307 -1.281997  0.49265</td>\n",
       "    </tr>\n",
       "    <tr>\n",
       "      <th>2</th>\n",
       "      <td>0.417899 -2.002308  0.255245 -1.10515|</td>\n",
       "    </tr>\n",
       "  </tbody>\n",
       "</table>\n",
       "</div>"
      ],
      "text/plain": [
       "         c1        c2        c3        c4\n",
       "0   0.179181 -1.538472  1.347553  0.43381\n",
       "1   1.024209  0.087307 -1.281997  0.49265\n",
       "2  0.417899 -2.002308  0.255245 -1.10515|"
      ]
     },
     "execution_count": 209,
     "metadata": {},
     "output_type": "execute_result"
    }
   ],
   "source": [
    "pd.read_csv(\"sample3.txt\")"
   ]
  },
  {
   "cell_type": "code",
   "execution_count": 208,
   "id": "c99cccae-3022-4986-9c7c-47a51165915a",
   "metadata": {},
   "outputs": [
    {
     "data": {
      "text/html": [
       "<div>\n",
       "<style scoped>\n",
       "    .dataframe tbody tr th:only-of-type {\n",
       "        vertical-align: middle;\n",
       "    }\n",
       "\n",
       "    .dataframe tbody tr th {\n",
       "        vertical-align: top;\n",
       "    }\n",
       "\n",
       "    .dataframe thead th {\n",
       "        text-align: right;\n",
       "    }\n",
       "</style>\n",
       "<table border=\"1\" class=\"dataframe\">\n",
       "  <thead>\n",
       "    <tr style=\"text-align: right;\">\n",
       "      <th></th>\n",
       "      <th>c1</th>\n",
       "      <th>c2</th>\n",
       "      <th>c3</th>\n",
       "      <th>c4</th>\n",
       "    </tr>\n",
       "  </thead>\n",
       "  <tbody>\n",
       "    <tr>\n",
       "      <th>0</th>\n",
       "      <td>0.179181</td>\n",
       "      <td>-1.538472</td>\n",
       "      <td>1.347553</td>\n",
       "      <td>0.43381</td>\n",
       "    </tr>\n",
       "    <tr>\n",
       "      <th>1</th>\n",
       "      <td>1.024209</td>\n",
       "      <td>0.087307</td>\n",
       "      <td>-1.281997</td>\n",
       "      <td>0.49265</td>\n",
       "    </tr>\n",
       "    <tr>\n",
       "      <th>2</th>\n",
       "      <td>0.417899</td>\n",
       "      <td>-2.002308</td>\n",
       "      <td>0.255245</td>\n",
       "      <td>-1.10515|</td>\n",
       "    </tr>\n",
       "  </tbody>\n",
       "</table>\n",
       "</div>"
      ],
      "text/plain": [
       "         c1        c2        c3         c4\n",
       "0  0.179181 -1.538472  1.347553    0.43381\n",
       "1  1.024209  0.087307 -1.281997    0.49265\n",
       "2  0.417899 -2.002308  0.255245  -1.10515|"
      ]
     },
     "execution_count": 208,
     "metadata": {},
     "output_type": "execute_result"
    }
   ],
   "source": [
    "# 정규식으로 구분자 처리\n",
    "pd.read_csv(\"sample3.txt\", sep='\\s+')"
   ]
  },
  {
   "cell_type": "code",
   "execution_count": 186,
   "id": "4bcd3d0e-fc61-4ee9-9a00-5898ab61fe44",
   "metadata": {},
   "outputs": [],
   "source": [
    "# 데이터 뿐만 아니라 상단에 부가적인 텍스트가 있는 경우를 살펴본다"
   ]
  },
  {
   "cell_type": "code",
   "execution_count": 187,
   "id": "a78fa94a-cc99-4226-883c-61062c81d1ab",
   "metadata": {},
   "outputs": [
    {
     "name": "stdout",
     "output_type": "stream",
     "text": [
      "Overwriting sample4.txt\n"
     ]
    }
   ],
   "source": [
    "%%writefile sample4.txt\n",
    "c1        c2        c3        c4\n",
    "0.179181 -1.538472  1.347553  0.43381\n",
    "1.024209  0.087307 -1.281997  0.49265\n",
    "0.417899 -2.002308  0.255245 -1.10515|"
   ]
  },
  {
   "cell_type": "code",
   "execution_count": 193,
   "id": "77fcdcaa-38c9-4a7c-83fb-a29a6512e8a1",
   "metadata": {},
   "outputs": [
    {
     "data": {
      "text/html": [
       "<div>\n",
       "<style scoped>\n",
       "    .dataframe tbody tr th:only-of-type {\n",
       "        vertical-align: middle;\n",
       "    }\n",
       "\n",
       "    .dataframe tbody tr th {\n",
       "        vertical-align: top;\n",
       "    }\n",
       "\n",
       "    .dataframe thead th {\n",
       "        text-align: right;\n",
       "    }\n",
       "</style>\n",
       "<table border=\"1\" class=\"dataframe\">\n",
       "  <thead>\n",
       "    <tr style=\"text-align: right;\">\n",
       "      <th></th>\n",
       "      <th>1.024209  0.087307 -1.281997  0.49265</th>\n",
       "    </tr>\n",
       "  </thead>\n",
       "  <tbody>\n",
       "    <tr>\n",
       "      <th>0</th>\n",
       "      <td>0.417899 -2.002308  0.255245 -1.10515|</td>\n",
       "    </tr>\n",
       "  </tbody>\n",
       "</table>\n",
       "</div>"
      ],
      "text/plain": [
       "    1.024209  0.087307 -1.281997  0.49265\n",
       "0  0.417899 -2.002308  0.255245 -1.10515|"
      ]
     },
     "execution_count": 193,
     "metadata": {},
     "output_type": "execute_result"
    }
   ],
   "source": [
    "# 리스트 형태로 skiprows 인수를 사용. 0부터 1까진 포함시키지 않겠다?!\n",
    "# 리스트 대신 range를 사용할 수도 있다.\n",
    "\n",
    "pd.read_csv('sample4.txt', skiprows=[0,1])"
   ]
  },
  {
   "cell_type": "code",
   "execution_count": 194,
   "id": "e40b7da2-9f32-4fc4-ba0b-2fae064a10e2",
   "metadata": {},
   "outputs": [
    {
     "data": {
      "text/html": [
       "<div>\n",
       "<style scoped>\n",
       "    .dataframe tbody tr th:only-of-type {\n",
       "        vertical-align: middle;\n",
       "    }\n",
       "\n",
       "    .dataframe tbody tr th {\n",
       "        vertical-align: top;\n",
       "    }\n",
       "\n",
       "    .dataframe thead th {\n",
       "        text-align: right;\n",
       "    }\n",
       "</style>\n",
       "<table border=\"1\" class=\"dataframe\">\n",
       "  <thead>\n",
       "    <tr style=\"text-align: right;\">\n",
       "      <th></th>\n",
       "      <th>c1</th>\n",
       "      <th>c2</th>\n",
       "      <th>c3</th>\n",
       "    </tr>\n",
       "  </thead>\n",
       "  <tbody>\n",
       "    <tr>\n",
       "      <th>0</th>\n",
       "      <td>1</td>\n",
       "      <td>2</td>\n",
       "      <td>NaN</td>\n",
       "    </tr>\n",
       "    <tr>\n",
       "      <th>1</th>\n",
       "      <td>1.11</td>\n",
       "      <td>NaN</td>\n",
       "      <td>3.33</td>\n",
       "    </tr>\n",
       "    <tr>\n",
       "      <th>2</th>\n",
       "      <td>one</td>\n",
       "      <td>two</td>\n",
       "      <td>three</td>\n",
       "    </tr>\n",
       "  </tbody>\n",
       "</table>\n",
       "</div>"
      ],
      "text/plain": [
       "     c1   c2     c3\n",
       "0     1    2    NaN\n",
       "1  1.11  NaN   3.33\n",
       "2   one  two  three"
      ]
     },
     "execution_count": 194,
     "metadata": {},
     "output_type": "execute_result"
    }
   ],
   "source": [
    "# 자료 안 특정한 값을 nan으로 취급하고 싶으면 na_values 인수에 nan 값으로 취급할 값을 넣습니다.\n",
    "\n",
    "df_na_val = pd.read_csv('sample1.csv', na_values=['누락'])\n",
    "df_na_val"
   ]
  },
  {
   "cell_type": "code",
   "execution_count": 200,
   "id": "251ec118-73b8-45a6-8bf7-700751260596",
   "metadata": {},
   "outputs": [],
   "source": [
    "# 파일을 읽을 때와 마찬가지로 파일을 출력할 때도 sep 인수로 구분자를 바꿀 수 있다.\n",
    "\n",
    "df_na_val.to_csv('sample5.txt', sep='|')"
   ]
  },
  {
   "cell_type": "code",
   "execution_count": 201,
   "id": "bfea7a4c-7047-4e5a-9e55-0ab4a15934d3",
   "metadata": {},
   "outputs": [
    {
     "data": {
      "text/html": [
       "<div>\n",
       "<style scoped>\n",
       "    .dataframe tbody tr th:only-of-type {\n",
       "        vertical-align: middle;\n",
       "    }\n",
       "\n",
       "    .dataframe tbody tr th {\n",
       "        vertical-align: top;\n",
       "    }\n",
       "\n",
       "    .dataframe thead th {\n",
       "        text-align: right;\n",
       "    }\n",
       "</style>\n",
       "<table border=\"1\" class=\"dataframe\">\n",
       "  <thead>\n",
       "    <tr style=\"text-align: right;\">\n",
       "      <th></th>\n",
       "      <th>c1</th>\n",
       "      <th>c2</th>\n",
       "      <th>c3</th>\n",
       "    </tr>\n",
       "  </thead>\n",
       "  <tbody>\n",
       "    <tr>\n",
       "      <th>0</th>\n",
       "      <td>1</td>\n",
       "      <td>2</td>\n",
       "      <td>NaN</td>\n",
       "    </tr>\n",
       "    <tr>\n",
       "      <th>1</th>\n",
       "      <td>1.11</td>\n",
       "      <td>NaN</td>\n",
       "      <td>3.33</td>\n",
       "    </tr>\n",
       "    <tr>\n",
       "      <th>2</th>\n",
       "      <td>one</td>\n",
       "      <td>two</td>\n",
       "      <td>three</td>\n",
       "    </tr>\n",
       "  </tbody>\n",
       "</table>\n",
       "</div>"
      ],
      "text/plain": [
       "     c1   c2     c3\n",
       "0     1    2    NaN\n",
       "1  1.11  NaN   3.33\n",
       "2   one  two  three"
      ]
     },
     "execution_count": 201,
     "metadata": {},
     "output_type": "execute_result"
    }
   ],
   "source": [
    "df_na_val"
   ]
  },
  {
   "cell_type": "code",
   "execution_count": 202,
   "id": "a97312bf-db5f-46d9-a049-2359b7db9be2",
   "metadata": {},
   "outputs": [],
   "source": [
    "# 불러올 때와 마찬가지로 저장할 때도 na_rep 키워드 인수를 사용해 nan 표시값을 바꿀 수도 있다.\n",
    "# 아래 코드를 보면 nan 값을 '누락'으로 변경해 저장한다."
   ]
  },
  {
   "cell_type": "code",
   "execution_count": 206,
   "id": "2046584a-4f19-4a1b-876a-e8b93cecb510",
   "metadata": {},
   "outputs": [],
   "source": [
    "df_na_val.to_csv('sample6.txt', na_rep='누락')"
   ]
  },
  {
   "cell_type": "code",
   "execution_count": 207,
   "id": "e62e3ed3-f16d-467a-a5a5-3fbc0e4432f6",
   "metadata": {},
   "outputs": [
    {
     "data": {
      "text/html": [
       "<div>\n",
       "<style scoped>\n",
       "    .dataframe tbody tr th:only-of-type {\n",
       "        vertical-align: middle;\n",
       "    }\n",
       "\n",
       "    .dataframe tbody tr th {\n",
       "        vertical-align: top;\n",
       "    }\n",
       "\n",
       "    .dataframe thead th {\n",
       "        text-align: right;\n",
       "    }\n",
       "</style>\n",
       "<table border=\"1\" class=\"dataframe\">\n",
       "  <thead>\n",
       "    <tr style=\"text-align: right;\">\n",
       "      <th></th>\n",
       "      <th>c1</th>\n",
       "      <th>c2</th>\n",
       "      <th>c3</th>\n",
       "    </tr>\n",
       "  </thead>\n",
       "  <tbody>\n",
       "    <tr>\n",
       "      <th>0</th>\n",
       "      <td>1</td>\n",
       "      <td>2</td>\n",
       "      <td>NaN</td>\n",
       "    </tr>\n",
       "    <tr>\n",
       "      <th>1</th>\n",
       "      <td>1.11</td>\n",
       "      <td>NaN</td>\n",
       "      <td>3.33</td>\n",
       "    </tr>\n",
       "    <tr>\n",
       "      <th>2</th>\n",
       "      <td>one</td>\n",
       "      <td>two</td>\n",
       "      <td>three</td>\n",
       "    </tr>\n",
       "  </tbody>\n",
       "</table>\n",
       "</div>"
      ],
      "text/plain": [
       "     c1   c2     c3\n",
       "0     1    2    NaN\n",
       "1  1.11  NaN   3.33\n",
       "2   one  two  three"
      ]
     },
     "execution_count": 207,
     "metadata": {},
     "output_type": "execute_result"
    }
   ],
   "source": [
    "df_na_val"
   ]
  },
  {
   "cell_type": "code",
   "execution_count": 205,
   "id": "9876c9a0-432c-4d56-972f-7fb25ed47bbb",
   "metadata": {},
   "outputs": [
    {
     "name": "stdout",
     "output_type": "stream",
     "text": [
      "/Users/ye/23_Data analysis/csv\n"
     ]
    }
   ],
   "source": [
    "%cd /Users/ye/23_Data analysis/csv"
   ]
  },
  {
   "cell_type": "code",
   "execution_count": 211,
   "id": "73ae37da-60c5-403e-bf47-0c0b4a12cd60",
   "metadata": {},
   "outputs": [],
   "source": [
    "titanic = pd.read_csv(\"https://storage.googleapis.com/tf-datasets/titanic/train.csv\")"
   ]
  },
  {
   "cell_type": "code",
   "execution_count": 212,
   "id": "b2145d49-1e37-4af4-9125-ae8ddd361e58",
   "metadata": {},
   "outputs": [
    {
     "data": {
      "text/html": [
       "<div>\n",
       "<style scoped>\n",
       "    .dataframe tbody tr th:only-of-type {\n",
       "        vertical-align: middle;\n",
       "    }\n",
       "\n",
       "    .dataframe tbody tr th {\n",
       "        vertical-align: top;\n",
       "    }\n",
       "\n",
       "    .dataframe thead th {\n",
       "        text-align: right;\n",
       "    }\n",
       "</style>\n",
       "<table border=\"1\" class=\"dataframe\">\n",
       "  <thead>\n",
       "    <tr style=\"text-align: right;\">\n",
       "      <th></th>\n",
       "      <th>survived</th>\n",
       "      <th>sex</th>\n",
       "      <th>age</th>\n",
       "      <th>n_siblings_spouses</th>\n",
       "      <th>parch</th>\n",
       "      <th>fare</th>\n",
       "      <th>class</th>\n",
       "      <th>deck</th>\n",
       "      <th>embark_town</th>\n",
       "      <th>alone</th>\n",
       "    </tr>\n",
       "  </thead>\n",
       "  <tbody>\n",
       "    <tr>\n",
       "      <th>0</th>\n",
       "      <td>0</td>\n",
       "      <td>male</td>\n",
       "      <td>22.0</td>\n",
       "      <td>1</td>\n",
       "      <td>0</td>\n",
       "      <td>7.2500</td>\n",
       "      <td>Third</td>\n",
       "      <td>unknown</td>\n",
       "      <td>Southampton</td>\n",
       "      <td>n</td>\n",
       "    </tr>\n",
       "    <tr>\n",
       "      <th>1</th>\n",
       "      <td>1</td>\n",
       "      <td>female</td>\n",
       "      <td>38.0</td>\n",
       "      <td>1</td>\n",
       "      <td>0</td>\n",
       "      <td>71.2833</td>\n",
       "      <td>First</td>\n",
       "      <td>C</td>\n",
       "      <td>Cherbourg</td>\n",
       "      <td>n</td>\n",
       "    </tr>\n",
       "    <tr>\n",
       "      <th>2</th>\n",
       "      <td>1</td>\n",
       "      <td>female</td>\n",
       "      <td>26.0</td>\n",
       "      <td>0</td>\n",
       "      <td>0</td>\n",
       "      <td>7.9250</td>\n",
       "      <td>Third</td>\n",
       "      <td>unknown</td>\n",
       "      <td>Southampton</td>\n",
       "      <td>y</td>\n",
       "    </tr>\n",
       "    <tr>\n",
       "      <th>3</th>\n",
       "      <td>1</td>\n",
       "      <td>female</td>\n",
       "      <td>35.0</td>\n",
       "      <td>1</td>\n",
       "      <td>0</td>\n",
       "      <td>53.1000</td>\n",
       "      <td>First</td>\n",
       "      <td>C</td>\n",
       "      <td>Southampton</td>\n",
       "      <td>n</td>\n",
       "    </tr>\n",
       "    <tr>\n",
       "      <th>4</th>\n",
       "      <td>0</td>\n",
       "      <td>male</td>\n",
       "      <td>28.0</td>\n",
       "      <td>0</td>\n",
       "      <td>0</td>\n",
       "      <td>8.4583</td>\n",
       "      <td>Third</td>\n",
       "      <td>unknown</td>\n",
       "      <td>Queenstown</td>\n",
       "      <td>y</td>\n",
       "    </tr>\n",
       "    <tr>\n",
       "      <th>...</th>\n",
       "      <td>...</td>\n",
       "      <td>...</td>\n",
       "      <td>...</td>\n",
       "      <td>...</td>\n",
       "      <td>...</td>\n",
       "      <td>...</td>\n",
       "      <td>...</td>\n",
       "      <td>...</td>\n",
       "      <td>...</td>\n",
       "      <td>...</td>\n",
       "    </tr>\n",
       "    <tr>\n",
       "      <th>622</th>\n",
       "      <td>0</td>\n",
       "      <td>male</td>\n",
       "      <td>28.0</td>\n",
       "      <td>0</td>\n",
       "      <td>0</td>\n",
       "      <td>10.5000</td>\n",
       "      <td>Second</td>\n",
       "      <td>unknown</td>\n",
       "      <td>Southampton</td>\n",
       "      <td>y</td>\n",
       "    </tr>\n",
       "    <tr>\n",
       "      <th>623</th>\n",
       "      <td>0</td>\n",
       "      <td>male</td>\n",
       "      <td>25.0</td>\n",
       "      <td>0</td>\n",
       "      <td>0</td>\n",
       "      <td>7.0500</td>\n",
       "      <td>Third</td>\n",
       "      <td>unknown</td>\n",
       "      <td>Southampton</td>\n",
       "      <td>y</td>\n",
       "    </tr>\n",
       "    <tr>\n",
       "      <th>624</th>\n",
       "      <td>1</td>\n",
       "      <td>female</td>\n",
       "      <td>19.0</td>\n",
       "      <td>0</td>\n",
       "      <td>0</td>\n",
       "      <td>30.0000</td>\n",
       "      <td>First</td>\n",
       "      <td>B</td>\n",
       "      <td>Southampton</td>\n",
       "      <td>y</td>\n",
       "    </tr>\n",
       "    <tr>\n",
       "      <th>625</th>\n",
       "      <td>0</td>\n",
       "      <td>female</td>\n",
       "      <td>28.0</td>\n",
       "      <td>1</td>\n",
       "      <td>2</td>\n",
       "      <td>23.4500</td>\n",
       "      <td>Third</td>\n",
       "      <td>unknown</td>\n",
       "      <td>Southampton</td>\n",
       "      <td>n</td>\n",
       "    </tr>\n",
       "    <tr>\n",
       "      <th>626</th>\n",
       "      <td>0</td>\n",
       "      <td>male</td>\n",
       "      <td>32.0</td>\n",
       "      <td>0</td>\n",
       "      <td>0</td>\n",
       "      <td>7.7500</td>\n",
       "      <td>Third</td>\n",
       "      <td>unknown</td>\n",
       "      <td>Queenstown</td>\n",
       "      <td>y</td>\n",
       "    </tr>\n",
       "  </tbody>\n",
       "</table>\n",
       "<p>627 rows × 10 columns</p>\n",
       "</div>"
      ],
      "text/plain": [
       "     survived     sex   age  n_siblings_spouses  parch     fare   class  \\\n",
       "0           0    male  22.0                   1      0   7.2500   Third   \n",
       "1           1  female  38.0                   1      0  71.2833   First   \n",
       "2           1  female  26.0                   0      0   7.9250   Third   \n",
       "3           1  female  35.0                   1      0  53.1000   First   \n",
       "4           0    male  28.0                   0      0   8.4583   Third   \n",
       "..        ...     ...   ...                 ...    ...      ...     ...   \n",
       "622         0    male  28.0                   0      0  10.5000  Second   \n",
       "623         0    male  25.0                   0      0   7.0500   Third   \n",
       "624         1  female  19.0                   0      0  30.0000   First   \n",
       "625         0  female  28.0                   1      2  23.4500   Third   \n",
       "626         0    male  32.0                   0      0   7.7500   Third   \n",
       "\n",
       "        deck  embark_town alone  \n",
       "0    unknown  Southampton     n  \n",
       "1          C    Cherbourg     n  \n",
       "2    unknown  Southampton     y  \n",
       "3          C  Southampton     n  \n",
       "4    unknown   Queenstown     y  \n",
       "..       ...          ...   ...  \n",
       "622  unknown  Southampton     y  \n",
       "623  unknown  Southampton     y  \n",
       "624        B  Southampton     y  \n",
       "625  unknown  Southampton     n  \n",
       "626  unknown   Queenstown     y  \n",
       "\n",
       "[627 rows x 10 columns]"
      ]
     },
     "execution_count": 212,
     "metadata": {},
     "output_type": "execute_result"
    }
   ],
   "source": [
    "titanic"
   ]
  },
  {
   "cell_type": "code",
   "execution_count": 213,
   "id": "429f096c-7115-4304-9457-d4d50f103ebf",
   "metadata": {},
   "outputs": [
    {
     "data": {
      "text/html": [
       "<div>\n",
       "<style scoped>\n",
       "    .dataframe tbody tr th:only-of-type {\n",
       "        vertical-align: middle;\n",
       "    }\n",
       "\n",
       "    .dataframe tbody tr th {\n",
       "        vertical-align: top;\n",
       "    }\n",
       "\n",
       "    .dataframe thead th {\n",
       "        text-align: right;\n",
       "    }\n",
       "</style>\n",
       "<table border=\"1\" class=\"dataframe\">\n",
       "  <thead>\n",
       "    <tr style=\"text-align: right;\">\n",
       "      <th></th>\n",
       "      <th>survived</th>\n",
       "      <th>sex</th>\n",
       "      <th>age</th>\n",
       "      <th>n_siblings_spouses</th>\n",
       "      <th>parch</th>\n",
       "      <th>fare</th>\n",
       "      <th>class</th>\n",
       "      <th>deck</th>\n",
       "      <th>embark_town</th>\n",
       "      <th>alone</th>\n",
       "    </tr>\n",
       "  </thead>\n",
       "  <tbody>\n",
       "    <tr>\n",
       "      <th>0</th>\n",
       "      <td>0</td>\n",
       "      <td>male</td>\n",
       "      <td>22.0</td>\n",
       "      <td>1</td>\n",
       "      <td>0</td>\n",
       "      <td>7.2500</td>\n",
       "      <td>Third</td>\n",
       "      <td>unknown</td>\n",
       "      <td>Southampton</td>\n",
       "      <td>n</td>\n",
       "    </tr>\n",
       "    <tr>\n",
       "      <th>1</th>\n",
       "      <td>1</td>\n",
       "      <td>female</td>\n",
       "      <td>38.0</td>\n",
       "      <td>1</td>\n",
       "      <td>0</td>\n",
       "      <td>71.2833</td>\n",
       "      <td>First</td>\n",
       "      <td>C</td>\n",
       "      <td>Cherbourg</td>\n",
       "      <td>n</td>\n",
       "    </tr>\n",
       "    <tr>\n",
       "      <th>2</th>\n",
       "      <td>1</td>\n",
       "      <td>female</td>\n",
       "      <td>26.0</td>\n",
       "      <td>0</td>\n",
       "      <td>0</td>\n",
       "      <td>7.9250</td>\n",
       "      <td>Third</td>\n",
       "      <td>unknown</td>\n",
       "      <td>Southampton</td>\n",
       "      <td>y</td>\n",
       "    </tr>\n",
       "    <tr>\n",
       "      <th>3</th>\n",
       "      <td>1</td>\n",
       "      <td>female</td>\n",
       "      <td>35.0</td>\n",
       "      <td>1</td>\n",
       "      <td>0</td>\n",
       "      <td>53.1000</td>\n",
       "      <td>First</td>\n",
       "      <td>C</td>\n",
       "      <td>Southampton</td>\n",
       "      <td>n</td>\n",
       "    </tr>\n",
       "    <tr>\n",
       "      <th>4</th>\n",
       "      <td>0</td>\n",
       "      <td>male</td>\n",
       "      <td>28.0</td>\n",
       "      <td>0</td>\n",
       "      <td>0</td>\n",
       "      <td>8.4583</td>\n",
       "      <td>Third</td>\n",
       "      <td>unknown</td>\n",
       "      <td>Queenstown</td>\n",
       "      <td>y</td>\n",
       "    </tr>\n",
       "    <tr>\n",
       "      <th>5</th>\n",
       "      <td>0</td>\n",
       "      <td>male</td>\n",
       "      <td>2.0</td>\n",
       "      <td>3</td>\n",
       "      <td>1</td>\n",
       "      <td>21.0750</td>\n",
       "      <td>Third</td>\n",
       "      <td>unknown</td>\n",
       "      <td>Southampton</td>\n",
       "      <td>n</td>\n",
       "    </tr>\n",
       "    <tr>\n",
       "      <th>6</th>\n",
       "      <td>1</td>\n",
       "      <td>female</td>\n",
       "      <td>27.0</td>\n",
       "      <td>0</td>\n",
       "      <td>2</td>\n",
       "      <td>11.1333</td>\n",
       "      <td>Third</td>\n",
       "      <td>unknown</td>\n",
       "      <td>Southampton</td>\n",
       "      <td>n</td>\n",
       "    </tr>\n",
       "    <tr>\n",
       "      <th>7</th>\n",
       "      <td>1</td>\n",
       "      <td>female</td>\n",
       "      <td>14.0</td>\n",
       "      <td>1</td>\n",
       "      <td>0</td>\n",
       "      <td>30.0708</td>\n",
       "      <td>Second</td>\n",
       "      <td>unknown</td>\n",
       "      <td>Cherbourg</td>\n",
       "      <td>n</td>\n",
       "    </tr>\n",
       "    <tr>\n",
       "      <th>8</th>\n",
       "      <td>1</td>\n",
       "      <td>female</td>\n",
       "      <td>4.0</td>\n",
       "      <td>1</td>\n",
       "      <td>1</td>\n",
       "      <td>16.7000</td>\n",
       "      <td>Third</td>\n",
       "      <td>G</td>\n",
       "      <td>Southampton</td>\n",
       "      <td>n</td>\n",
       "    </tr>\n",
       "    <tr>\n",
       "      <th>9</th>\n",
       "      <td>0</td>\n",
       "      <td>male</td>\n",
       "      <td>20.0</td>\n",
       "      <td>0</td>\n",
       "      <td>0</td>\n",
       "      <td>8.0500</td>\n",
       "      <td>Third</td>\n",
       "      <td>unknown</td>\n",
       "      <td>Southampton</td>\n",
       "      <td>y</td>\n",
       "    </tr>\n",
       "    <tr>\n",
       "      <th>10</th>\n",
       "      <td>0</td>\n",
       "      <td>male</td>\n",
       "      <td>39.0</td>\n",
       "      <td>1</td>\n",
       "      <td>5</td>\n",
       "      <td>31.2750</td>\n",
       "      <td>Third</td>\n",
       "      <td>unknown</td>\n",
       "      <td>Southampton</td>\n",
       "      <td>n</td>\n",
       "    </tr>\n",
       "    <tr>\n",
       "      <th>11</th>\n",
       "      <td>0</td>\n",
       "      <td>female</td>\n",
       "      <td>14.0</td>\n",
       "      <td>0</td>\n",
       "      <td>0</td>\n",
       "      <td>7.8542</td>\n",
       "      <td>Third</td>\n",
       "      <td>unknown</td>\n",
       "      <td>Southampton</td>\n",
       "      <td>y</td>\n",
       "    </tr>\n",
       "    <tr>\n",
       "      <th>12</th>\n",
       "      <td>0</td>\n",
       "      <td>male</td>\n",
       "      <td>2.0</td>\n",
       "      <td>4</td>\n",
       "      <td>1</td>\n",
       "      <td>29.1250</td>\n",
       "      <td>Third</td>\n",
       "      <td>unknown</td>\n",
       "      <td>Queenstown</td>\n",
       "      <td>n</td>\n",
       "    </tr>\n",
       "    <tr>\n",
       "      <th>13</th>\n",
       "      <td>1</td>\n",
       "      <td>male</td>\n",
       "      <td>28.0</td>\n",
       "      <td>0</td>\n",
       "      <td>0</td>\n",
       "      <td>13.0000</td>\n",
       "      <td>Second</td>\n",
       "      <td>unknown</td>\n",
       "      <td>Southampton</td>\n",
       "      <td>y</td>\n",
       "    </tr>\n",
       "    <tr>\n",
       "      <th>14</th>\n",
       "      <td>0</td>\n",
       "      <td>female</td>\n",
       "      <td>31.0</td>\n",
       "      <td>1</td>\n",
       "      <td>0</td>\n",
       "      <td>18.0000</td>\n",
       "      <td>Third</td>\n",
       "      <td>unknown</td>\n",
       "      <td>Southampton</td>\n",
       "      <td>n</td>\n",
       "    </tr>\n",
       "    <tr>\n",
       "      <th>15</th>\n",
       "      <td>1</td>\n",
       "      <td>female</td>\n",
       "      <td>28.0</td>\n",
       "      <td>0</td>\n",
       "      <td>0</td>\n",
       "      <td>7.2250</td>\n",
       "      <td>Third</td>\n",
       "      <td>unknown</td>\n",
       "      <td>Cherbourg</td>\n",
       "      <td>y</td>\n",
       "    </tr>\n",
       "    <tr>\n",
       "      <th>16</th>\n",
       "      <td>0</td>\n",
       "      <td>male</td>\n",
       "      <td>35.0</td>\n",
       "      <td>0</td>\n",
       "      <td>0</td>\n",
       "      <td>26.0000</td>\n",
       "      <td>Second</td>\n",
       "      <td>unknown</td>\n",
       "      <td>Southampton</td>\n",
       "      <td>y</td>\n",
       "    </tr>\n",
       "    <tr>\n",
       "      <th>17</th>\n",
       "      <td>1</td>\n",
       "      <td>male</td>\n",
       "      <td>28.0</td>\n",
       "      <td>0</td>\n",
       "      <td>0</td>\n",
       "      <td>35.5000</td>\n",
       "      <td>First</td>\n",
       "      <td>A</td>\n",
       "      <td>Southampton</td>\n",
       "      <td>y</td>\n",
       "    </tr>\n",
       "    <tr>\n",
       "      <th>18</th>\n",
       "      <td>1</td>\n",
       "      <td>female</td>\n",
       "      <td>38.0</td>\n",
       "      <td>1</td>\n",
       "      <td>5</td>\n",
       "      <td>31.3875</td>\n",
       "      <td>Third</td>\n",
       "      <td>unknown</td>\n",
       "      <td>Southampton</td>\n",
       "      <td>n</td>\n",
       "    </tr>\n",
       "    <tr>\n",
       "      <th>19</th>\n",
       "      <td>0</td>\n",
       "      <td>male</td>\n",
       "      <td>28.0</td>\n",
       "      <td>0</td>\n",
       "      <td>0</td>\n",
       "      <td>7.2250</td>\n",
       "      <td>Third</td>\n",
       "      <td>unknown</td>\n",
       "      <td>Cherbourg</td>\n",
       "      <td>y</td>\n",
       "    </tr>\n",
       "  </tbody>\n",
       "</table>\n",
       "</div>"
      ],
      "text/plain": [
       "    survived     sex   age  n_siblings_spouses  parch     fare   class  \\\n",
       "0          0    male  22.0                   1      0   7.2500   Third   \n",
       "1          1  female  38.0                   1      0  71.2833   First   \n",
       "2          1  female  26.0                   0      0   7.9250   Third   \n",
       "3          1  female  35.0                   1      0  53.1000   First   \n",
       "4          0    male  28.0                   0      0   8.4583   Third   \n",
       "5          0    male   2.0                   3      1  21.0750   Third   \n",
       "6          1  female  27.0                   0      2  11.1333   Third   \n",
       "7          1  female  14.0                   1      0  30.0708  Second   \n",
       "8          1  female   4.0                   1      1  16.7000   Third   \n",
       "9          0    male  20.0                   0      0   8.0500   Third   \n",
       "10         0    male  39.0                   1      5  31.2750   Third   \n",
       "11         0  female  14.0                   0      0   7.8542   Third   \n",
       "12         0    male   2.0                   4      1  29.1250   Third   \n",
       "13         1    male  28.0                   0      0  13.0000  Second   \n",
       "14         0  female  31.0                   1      0  18.0000   Third   \n",
       "15         1  female  28.0                   0      0   7.2250   Third   \n",
       "16         0    male  35.0                   0      0  26.0000  Second   \n",
       "17         1    male  28.0                   0      0  35.5000   First   \n",
       "18         1  female  38.0                   1      5  31.3875   Third   \n",
       "19         0    male  28.0                   0      0   7.2250   Third   \n",
       "\n",
       "       deck  embark_town alone  \n",
       "0   unknown  Southampton     n  \n",
       "1         C    Cherbourg     n  \n",
       "2   unknown  Southampton     y  \n",
       "3         C  Southampton     n  \n",
       "4   unknown   Queenstown     y  \n",
       "5   unknown  Southampton     n  \n",
       "6   unknown  Southampton     n  \n",
       "7   unknown    Cherbourg     n  \n",
       "8         G  Southampton     n  \n",
       "9   unknown  Southampton     y  \n",
       "10  unknown  Southampton     n  \n",
       "11  unknown  Southampton     y  \n",
       "12  unknown   Queenstown     n  \n",
       "13  unknown  Southampton     y  \n",
       "14  unknown  Southampton     n  \n",
       "15  unknown    Cherbourg     y  \n",
       "16  unknown  Southampton     y  \n",
       "17        A  Southampton     y  \n",
       "18  unknown  Southampton     n  \n",
       "19  unknown    Cherbourg     y  "
      ]
     },
     "execution_count": 213,
     "metadata": {},
     "output_type": "execute_result"
    }
   ],
   "source": [
    "titanic.head(20)"
   ]
  },
  {
   "cell_type": "code",
   "execution_count": 218,
   "id": "c7fdec10-dd69-42c7-9fbe-e0e702544b12",
   "metadata": {},
   "outputs": [
    {
     "data": {
      "text/html": [
       "<div>\n",
       "<style scoped>\n",
       "    .dataframe tbody tr th:only-of-type {\n",
       "        vertical-align: middle;\n",
       "    }\n",
       "\n",
       "    .dataframe tbody tr th {\n",
       "        vertical-align: top;\n",
       "    }\n",
       "\n",
       "    .dataframe thead th {\n",
       "        text-align: right;\n",
       "    }\n",
       "</style>\n",
       "<table border=\"1\" class=\"dataframe\">\n",
       "  <thead>\n",
       "    <tr style=\"text-align: right;\">\n",
       "      <th></th>\n",
       "      <th>Length</th>\n",
       "      <th>Diameter</th>\n",
       "      <th>Height</th>\n",
       "      <th>Whole weight</th>\n",
       "      <th>Shucked weight</th>\n",
       "      <th>Viscera weight</th>\n",
       "      <th>Shell weight</th>\n",
       "      <th>Age</th>\n",
       "    </tr>\n",
       "  </thead>\n",
       "  <tbody>\n",
       "    <tr>\n",
       "      <th>0</th>\n",
       "      <td>0.435</td>\n",
       "      <td>0.335</td>\n",
       "      <td>0.110</td>\n",
       "      <td>0.334</td>\n",
       "      <td>0.1355</td>\n",
       "      <td>0.0775</td>\n",
       "      <td>0.0965</td>\n",
       "      <td>7</td>\n",
       "    </tr>\n",
       "    <tr>\n",
       "      <th>1</th>\n",
       "      <td>0.585</td>\n",
       "      <td>0.450</td>\n",
       "      <td>0.125</td>\n",
       "      <td>0.874</td>\n",
       "      <td>0.3545</td>\n",
       "      <td>0.2075</td>\n",
       "      <td>0.2250</td>\n",
       "      <td>6</td>\n",
       "    </tr>\n",
       "    <tr>\n",
       "      <th>2</th>\n",
       "      <td>0.655</td>\n",
       "      <td>0.510</td>\n",
       "      <td>0.160</td>\n",
       "      <td>1.092</td>\n",
       "      <td>0.3960</td>\n",
       "      <td>0.2825</td>\n",
       "      <td>0.3700</td>\n",
       "      <td>14</td>\n",
       "    </tr>\n",
       "    <tr>\n",
       "      <th>3</th>\n",
       "      <td>0.545</td>\n",
       "      <td>0.425</td>\n",
       "      <td>0.125</td>\n",
       "      <td>0.768</td>\n",
       "      <td>0.2940</td>\n",
       "      <td>0.1495</td>\n",
       "      <td>0.2600</td>\n",
       "      <td>16</td>\n",
       "    </tr>\n",
       "    <tr>\n",
       "      <th>4</th>\n",
       "      <td>0.545</td>\n",
       "      <td>0.420</td>\n",
       "      <td>0.130</td>\n",
       "      <td>0.879</td>\n",
       "      <td>0.3740</td>\n",
       "      <td>0.1695</td>\n",
       "      <td>0.2300</td>\n",
       "      <td>13</td>\n",
       "    </tr>\n",
       "  </tbody>\n",
       "</table>\n",
       "</div>"
      ],
      "text/plain": [
       "   Length  Diameter  Height  Whole weight  Shucked weight  Viscera weight  \\\n",
       "0   0.435     0.335   0.110         0.334          0.1355          0.0775   \n",
       "1   0.585     0.450   0.125         0.874          0.3545          0.2075   \n",
       "2   0.655     0.510   0.160         1.092          0.3960          0.2825   \n",
       "3   0.545     0.425   0.125         0.768          0.2940          0.1495   \n",
       "4   0.545     0.420   0.130         0.879          0.3740          0.1695   \n",
       "\n",
       "   Shell weight  Age  \n",
       "0        0.0965    7  \n",
       "1        0.2250    6  \n",
       "2        0.3700   14  \n",
       "3        0.2600   16  \n",
       "4        0.2300   13  "
      ]
     },
     "execution_count": 218,
     "metadata": {},
     "output_type": "execute_result"
    }
   ],
   "source": [
    "abalone_train = pd.read_csv(\n",
    "    \"https://storage.googleapis.com/download.tensorflow.org/data/abalone_train.csv\",\n",
    "    names=[\"Length\", \"Diameter\", \"Height\", \"Whole weight\", \"Shucked weight\",\n",
    "           \"Viscera weight\", \"Shell weight\", \"Age\"])\n",
    "\n",
    "abalone_train.head()"
   ]
  },
  {
   "cell_type": "code",
   "execution_count": null,
   "id": "fbfe1526-d685-43fa-ab07-7338533e3621",
   "metadata": {},
   "outputs": [],
   "source": []
  },
  {
   "cell_type": "code",
   "execution_count": null,
   "id": "b070e28d-5b62-4b6c-b6ee-a1eea99ce7e8",
   "metadata": {},
   "outputs": [],
   "source": []
  },
  {
   "cell_type": "code",
   "execution_count": null,
   "id": "2a64092c-fcf2-47da-8dfc-ba2a6db9daf7",
   "metadata": {},
   "outputs": [],
   "source": []
  },
  {
   "cell_type": "code",
   "execution_count": null,
   "id": "ca27b583-7029-4e5f-b03a-902f00f22415",
   "metadata": {},
   "outputs": [],
   "source": []
  },
  {
   "cell_type": "code",
   "execution_count": null,
   "id": "72c54f8b-9271-4bba-a3cf-9a47a93b3711",
   "metadata": {},
   "outputs": [],
   "source": []
  },
  {
   "cell_type": "code",
   "execution_count": null,
   "id": "ed5c2aa7-4a3f-40ff-b99f-7eb5a0ed1c3d",
   "metadata": {},
   "outputs": [],
   "source": []
  },
  {
   "cell_type": "code",
   "execution_count": null,
   "id": "07b210e7-eda2-4d15-9329-9ab8f218be7d",
   "metadata": {},
   "outputs": [],
   "source": []
  }
 ],
 "metadata": {
  "kernelspec": {
   "display_name": "Python 3 (ipykernel)",
   "language": "python",
   "name": "python3"
  },
  "language_info": {
   "codemirror_mode": {
    "name": "ipython",
    "version": 3
   },
   "file_extension": ".py",
   "mimetype": "text/x-python",
   "name": "python",
   "nbconvert_exporter": "python",
   "pygments_lexer": "ipython3",
   "version": "3.9.7"
  }
 },
 "nbformat": 4,
 "nbformat_minor": 5
}
