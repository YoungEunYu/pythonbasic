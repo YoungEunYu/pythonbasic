{
 "cells": [
  {
   "cell_type": "markdown",
   "id": "fbcc6b3d-da2c-4fb6-a667-c7463bc00140",
   "metadata": {},
   "source": [
    "##### range변수 = range(시작, 끝, 증감크기)\n",
    "##### 시퀀스자료형변수[시작:끝:증감크기]"
   ]
  },
  {
   "cell_type": "code",
   "execution_count": 1,
   "id": "61ac762e-6cc2-4729-be1a-ff78283c810b",
   "metadata": {},
   "outputs": [
    {
     "data": {
      "text/plain": [
       "[0, 1, 2, 3, 4, 5, 6, 7]"
      ]
     },
     "execution_count": 1,
     "metadata": {},
     "output_type": "execute_result"
    }
   ],
   "source": [
    "list(range(0,8,1))"
   ]
  },
  {
   "cell_type": "code",
   "execution_count": 2,
   "id": "6fa3fb9a-b692-4c5a-aa73-8a3190f482b8",
   "metadata": {},
   "outputs": [
    {
     "data": {
      "text/plain": [
       "[0, 1, 2, 3, 4, 5, 6, 7]"
      ]
     },
     "execution_count": 2,
     "metadata": {},
     "output_type": "execute_result"
    }
   ],
   "source": [
    "list(range(8))"
   ]
  },
  {
   "cell_type": "code",
   "execution_count": 4,
   "id": "aaa162ce-9130-48a6-937b-1c8aae5a6695",
   "metadata": {},
   "outputs": [
    {
     "name": "stdout",
     "output_type": "stream",
     "text": [
      "[2, 4, 6, 8, 10, 12, 14, 16, 18, 20, 22, 24, 26, 28, 30, 32, 34, 36, 38, 40, 42, 44, 46, 48, 50, 52, 54, 56, 58, 60, 62, 64, 66, 68, 70, 72, 74, 76, 78, 80, 82, 84, 86, 88, 90, 92, 94, 96, 98]\n"
     ]
    }
   ],
   "source": [
    "# 짝수 2부터 100까지 출력하기\n",
    "even_numbers = list(range(2, 100, 2))\n",
    "print(even_numbers)"
   ]
  },
  {
   "cell_type": "code",
   "execution_count": 5,
   "id": "2045cefc-5c0f-41d8-9808-5dfc86f6db56",
   "metadata": {},
   "outputs": [
    {
     "data": {
      "text/plain": [
       "range"
      ]
     },
     "execution_count": 5,
     "metadata": {},
     "output_type": "execute_result"
    }
   ],
   "source": [
    "type(range(8))"
   ]
  },
  {
   "cell_type": "markdown",
   "id": "647d4cf5-273b-45bd-9058-d369528e642b",
   "metadata": {},
   "source": [
    "##### 반복가능한 애를 레인지에 넣어주면 리스트로 생성이 된다.\n",
    "##### range라는 객체는 반복할 때 원하는 시퀀스 항목들을 순서대로 요소를 돌려주는 객체이지만\n",
    "##### 메모리에 공간을 할당하여 미리 모든 요소들을 만들어 두는 것이 아니라 그때그때 다음 요소를 만들어 반환하기에 공간 효율적이다."
   ]
  },
  {
   "cell_type": "code",
   "execution_count": 7,
   "id": "ec68ea9e-4e4a-4dc3-90db-aba1c1f4d428",
   "metadata": {},
   "outputs": [],
   "source": [
    "# 파이썬: 동적타이핑 \n",
    "# 타입을 알아서 처리해준다. "
   ]
  },
  {
   "cell_type": "code",
   "execution_count": 17,
   "id": "f5f6152a-2a64-44e4-bdb7-221e104fa7f3",
   "metadata": {},
   "outputs": [
    {
     "name": "stdout",
     "output_type": "stream",
     "text": [
      "hello 0\n",
      "hello 1\n",
      "hello 2\n",
      "hello 3\n",
      "hello 4\n",
      "hello 5\n",
      "hello 6\n",
      "hello 7\n",
      "hello 8\n",
      "hello 9\n",
      "hello 10\n",
      "hello 11\n",
      "hello 12\n",
      "hello 13\n",
      "hello 14\n",
      "hello 15\n",
      "hello 16\n",
      "hello 17\n",
      "hello 18\n",
      "hello 19\n",
      "hello 20\n",
      "hello 21\n",
      "hello 22\n",
      "hello 23\n",
      "hello 24\n",
      "hello 25\n",
      "hello 26\n",
      "hello 27\n",
      "hello 28\n",
      "hello 29\n",
      "hello 30\n",
      "hello 31\n",
      "hello 32\n",
      "hello 33\n",
      "hello 34\n",
      "hello 35\n",
      "hello 36\n",
      "hello 37\n",
      "hello 38\n",
      "hello 39\n",
      "hello 40\n",
      "hello 41\n",
      "hello 42\n",
      "hello 43\n",
      "hello 44\n",
      "hello 45\n",
      "hello 46\n",
      "hello 47\n",
      "hello 48\n",
      "hello 49\n"
     ]
    }
   ],
   "source": [
    "for i in range(50):\n",
    "    print(f'hello {i}')"
   ]
  },
  {
   "cell_type": "code",
   "execution_count": 19,
   "id": "ad85cd2c-c8de-4bb1-9e30-c229e8726968",
   "metadata": {},
   "outputs": [
    {
     "name": "stdout",
     "output_type": "stream",
     "text": [
      "3  {0}\n",
      "4  {0}\n",
      "3  {1}\n",
      "4  {1}\n",
      "3  {2}\n",
      "4  {2}\n",
      "3  {3}\n",
      "4  {3}\n",
      "3  {4}\n",
      "4  {4}\n",
      "3  {5}\n",
      "4  {5}\n",
      "3  {6}\n",
      "4  {6}\n",
      "3  {7}\n",
      "4  {7}\n",
      "3  {8}\n",
      "4  {8}\n",
      "3  {9}\n",
      "4  {9}\n"
     ]
    }
   ],
   "source": [
    "for i in range(10):\n",
    "    print(3,'',{i})\n",
    "    print(4,'',{i})"
   ]
  },
  {
   "cell_type": "code",
   "execution_count": 21,
   "id": "cb2039ea-9357-426c-8e76-0a0d030303e8",
   "metadata": {},
   "outputs": [
    {
     "name": "stdout",
     "output_type": "stream",
     "text": [
      "hello world  1\n",
      "hello world  2\n",
      "hello world  3\n",
      "hello world  4\n",
      "hello world  5\n",
      "hello world  6\n",
      "hello world  7\n",
      "hello world  8\n",
      "hello world  9\n",
      "hello world  10\n",
      "hello world  11\n",
      "hello world  12\n",
      "hello world  13\n",
      "hello world  14\n",
      "hello world  15\n",
      "hello world  16\n",
      "hello world  17\n",
      "hello world  18\n",
      "hello world  19\n",
      "hello world  20\n",
      "hello world  21\n",
      "hello world  22\n",
      "hello world  23\n",
      "hello world  24\n",
      "hello world  25\n",
      "hello world  26\n",
      "hello world  27\n",
      "hello world  28\n",
      "hello world  29\n",
      "hello world  30\n",
      "hello world  31\n",
      "hello world  32\n",
      "hello world  33\n",
      "hello world  34\n",
      "hello world  35\n",
      "hello world  36\n",
      "hello world  37\n",
      "hello world  38\n",
      "hello world  39\n",
      "hello world  40\n",
      "hello world  41\n",
      "hello world  42\n",
      "hello world  43\n",
      "hello world  44\n",
      "hello world  45\n",
      "hello world  46\n",
      "hello world  47\n",
      "hello world  48\n",
      "hello world  49\n",
      "hello world  50\n",
      "hello world  51\n",
      "hello world  52\n",
      "hello world  53\n",
      "hello world  54\n",
      "hello world  55\n",
      "hello world  56\n",
      "hello world  57\n",
      "hello world  58\n",
      "hello world  59\n",
      "hello world  60\n",
      "hello world  61\n",
      "hello world  62\n",
      "hello world  63\n",
      "hello world  64\n",
      "hello world  65\n",
      "hello world  66\n",
      "hello world  67\n",
      "hello world  68\n",
      "hello world  69\n",
      "hello world  70\n",
      "hello world  71\n",
      "hello world  72\n",
      "hello world  73\n",
      "hello world  74\n",
      "hello world  75\n",
      "hello world  76\n",
      "hello world  77\n",
      "hello world  78\n",
      "hello world  79\n",
      "hello world  80\n",
      "hello world  81\n",
      "hello world  82\n",
      "hello world  83\n",
      "hello world  84\n",
      "hello world  85\n",
      "hello world  86\n",
      "hello world  87\n",
      "hello world  88\n",
      "hello world  89\n",
      "hello world  90\n",
      "hello world  91\n",
      "hello world  92\n",
      "hello world  93\n",
      "hello world  94\n",
      "hello world  95\n",
      "hello world  96\n",
      "hello world  97\n",
      "hello world  98\n",
      "hello world  99\n",
      "hello world  100\n"
     ]
    }
   ],
   "source": [
    "for i in range(100):\n",
    "    print(\"hello world \", i+1)"
   ]
  },
  {
   "cell_type": "code",
   "execution_count": 28,
   "id": "eeccd0e2-78b3-4514-bd90-7bcd210e44ee",
   "metadata": {},
   "outputs": [
    {
     "name": "stdin",
     "output_type": "stream",
     "text": [
      "인사 몇번해드릴까요? 3\n"
     ]
    },
    {
     "name": "stdout",
     "output_type": "stream",
     "text": [
      "hello world <class 'range'>\n",
      "hello world <class 'range'>\n",
      "hello world <class 'range'>\n"
     ]
    }
   ],
   "source": [
    "x = int(input(\"인사 몇번해드릴까요?\"))\n",
    "for i in range(1, x+1):\n",
    "    print(\"hello world\", _)"
   ]
  },
  {
   "cell_type": "code",
   "execution_count": 30,
   "id": "d57eec8b-bd1d-4717-9464-8c5b7045d5b8",
   "metadata": {},
   "outputs": [
    {
     "data": {
      "text/plain": [
       "[5, 6, 7, 8, 9]"
      ]
     },
     "execution_count": 30,
     "metadata": {},
     "output_type": "execute_result"
    }
   ],
   "source": [
    "list(range(5,10,1))"
   ]
  },
  {
   "cell_type": "code",
   "execution_count": 31,
   "id": "e7f13807-4e59-4d95-b80d-eef03d74056c",
   "metadata": {},
   "outputs": [
    {
     "data": {
      "text/plain": [
       "[0, 3, 6, 9]"
      ]
     },
     "execution_count": 31,
     "metadata": {},
     "output_type": "execute_result"
    }
   ],
   "source": [
    "list(range(0,10,3))"
   ]
  },
  {
   "cell_type": "code",
   "execution_count": 33,
   "id": "cf09359f-42ca-4897-9d11-e8cd66edb950",
   "metadata": {},
   "outputs": [
    {
     "data": {
      "text/plain": [
       "[-10, -40, -70]"
      ]
     },
     "execution_count": 33,
     "metadata": {},
     "output_type": "execute_result"
    }
   ],
   "source": [
    "list(range(-10,-71,-30))"
   ]
  },
  {
   "cell_type": "code",
   "execution_count": 74,
   "id": "00076eff-d304-47d6-8354-45c193733685",
   "metadata": {},
   "outputs": [
    {
     "name": "stdin",
     "output_type": "stream",
     "text": [
      "자연수 입력해! 9\n"
     ]
    },
    {
     "name": "stdout",
     "output_type": "stream",
     "text": [
      "9 \t9 \t9 \t9 \t9 \t9 \t9 \t9 \t9 \t\n",
      "8 \t8 \t8 \t8 \t8 \t8 \t8 \t8 \t\n",
      "7 \t7 \t7 \t7 \t7 \t7 \t7 \t\n",
      "6 \t6 \t6 \t6 \t6 \t6 \t\n",
      "5 \t5 \t5 \t5 \t5 \t\n",
      "4 \t4 \t4 \t4 \t\n",
      "3 \t3 \t3 \t\n",
      "2 \t2 \t\n",
      "1 \t\n"
     ]
    }
   ],
   "source": [
    "x = int(input(\"자연수 입력해!\"))\n",
    "\n",
    "for i in range(x):\n",
    "    print(f\"{x} \\t\" * x)\n",
    "    x = x-1"
   ]
  },
  {
   "cell_type": "code",
   "execution_count": 75,
   "id": "e85538e3-235b-4c02-b7da-4711aa89f2cd",
   "metadata": {},
   "outputs": [
    {
     "name": "stdin",
     "output_type": "stream",
     "text": [
      "자연수 입력해! 9\n"
     ]
    },
    {
     "name": "stdout",
     "output_type": "stream",
     "text": [
      "9\t9\t9\t9\t9\t9\t9\t9\t9\t\n",
      "8\t8\t8\t8\t8\t8\t8\t8\t\n",
      "7\t7\t7\t7\t7\t7\t7\t\n",
      "6\t6\t6\t6\t6\t6\t\n",
      "5\t5\t5\t5\t5\t\n",
      "4\t4\t4\t4\t\n",
      "3\t3\t3\t\n",
      "2\t2\t\n",
      "1\t\n"
     ]
    }
   ],
   "source": [
    "x = int(input(\"자연수 입력해!\"))\n",
    "\n",
    "for i in range(x, 0, -1):\n",
    "    for j in range(i):\n",
    "        print(i, end=\"\\t\")\n",
    "    print()"
   ]
  },
  {
   "cell_type": "code",
   "execution_count": 103,
   "id": "34343b79-d471-4c5e-a273-a9d8631a1f52",
   "metadata": {},
   "outputs": [
    {
     "name": "stdout",
     "output_type": "stream",
     "text": [
      "* * * * * * * * * * \n",
      "*                 *\n",
      "\n",
      "*                 *\n",
      "\n",
      "*                 *\n",
      "\n",
      "*                 *\n",
      "\n",
      "*                 *\n",
      "\n",
      "*                 *\n",
      "\n",
      "*                 *\n",
      "\n",
      "*                 *\n",
      "\n",
      "*                 *\n",
      "\n",
      "*                 *\n",
      "* * * * * * * * * * \n"
     ]
    }
   ],
   "source": [
    "x = 10\n",
    "\n",
    "for i in range(x):\n",
    "    print(\"* \"*x)\n",
    "    x = x-1\n",
    "    \n",
    "    if x < 10:\n",
    "        x = 1\n",
    "        print(\"*                 *\")\n",
    "        x = x-1\n",
    "        \n",
    "if x <= 1:\n",
    "    print(\"* \"*10)"
   ]
  },
  {
   "cell_type": "code",
   "execution_count": 110,
   "id": "9f494997-9617-4afd-aede-7847fcfca3a6",
   "metadata": {},
   "outputs": [
    {
     "name": "stdout",
     "output_type": "stream",
     "text": [
      "* * * * * * * * * * \n",
      "*                 *\n",
      "*                 *\n",
      "*                 *\n",
      "*                 *\n",
      "*                 *\n",
      "*                 *\n",
      "*                 *\n",
      "*                 *\n",
      "*                 *\n",
      "*                 *\n",
      "* * * * * * * * * * \n"
     ]
    }
   ],
   "source": [
    "x = 10\n",
    "\n",
    "for i in range(x):\n",
    "    if x == 10:\n",
    "        print(\"* \"*x)\n",
    "        x = x-1\n",
    "    \n",
    "    if x < 10:\n",
    "        x = 1\n",
    "        print(\"*                 *\")\n",
    "        x = x-1\n",
    "        \n",
    "if x <= 1:\n",
    "    print(\"* \"*10)"
   ]
  },
  {
   "cell_type": "code",
   "execution_count": 112,
   "id": "36a28e43-df00-4ae4-8dd2-3b78e0daa3be",
   "metadata": {},
   "outputs": [
    {
     "name": "stdout",
     "output_type": "stream",
     "text": [
      "* * * * * * * * * * \n",
      "*                 *\n",
      "*                 *\n",
      "*                 *\n",
      "*                 *\n",
      "*                 *\n",
      "*                 *\n",
      "*                 *\n",
      "*                 *\n",
      "* * * * * * * * * * \n"
     ]
    }
   ],
   "source": [
    "for i in range(10):\n",
    "    if i == 0 or i==9:\n",
    "        print('* ' * 10)\n",
    "    else:\n",
    "        print('*                 *')"
   ]
  },
  {
   "cell_type": "code",
   "execution_count": 173,
   "id": "0ce2df54-f4b5-4b49-864d-e835900b3b33",
   "metadata": {},
   "outputs": [
    {
     "name": "stdin",
     "output_type": "stream",
     "text": [
      "1부터~입력한 자연수까지 모든 홀수의 값 구하기 100\n"
     ]
    },
    {
     "name": "stdout",
     "output_type": "stream",
     "text": [
      "1 + 3 + 5 + 7 + 9 + 11 + 13 + 15 + 17 + 19 + 21 + 23 + 25 + 27 + 29 + 31 + 33 + 35 + 37 + 39 + 41 + 43 + 45 + 47 + 49 + 51 + 53 + 55 + 57 + 59 + 61 + 63 + 65 + 67 + 69 + 71 + 73 + 75 + 77 + 79 + 81 + 83 + 85 + 87 + 89 + 91 + 93 + 95 + 97 + 99 +  = 2500\n"
     ]
    }
   ],
   "source": [
    "# 1 ~ 입력값 / 그 중 홀수만 더하기.\n",
    "# 다 더하고 그 계산식 결과가 출력 되도록.\n",
    "\n",
    "x = int(input(\"1부터~입력한 자연수까지 모든 홀수의 값 구하기\"))\n",
    "sum = 0\n",
    "\n",
    "\n",
    "for i in range(1, x+1, 2):\n",
    "    print(i, end = \" + \")\n",
    "    sum = sum + i\n",
    "\n",
    "print(\" =\", sum)"
   ]
  },
  {
   "cell_type": "code",
   "execution_count": 174,
   "id": "dde78696-353e-4059-b318-8d990cbe7155",
   "metadata": {},
   "outputs": [
    {
     "name": "stdin",
     "output_type": "stream",
     "text": [
      "1부터~입력한 자연수까지 모든 홀수의 값 구하기 100\n"
     ]
    },
    {
     "name": "stdout",
     "output_type": "stream",
     "text": [
      " = 2500\n"
     ]
    }
   ],
   "source": [
    "x = int(input(\"1부터~입력한 자연수까지 모든 홀수의 값 구하기\"))\n",
    "sum = 0\n",
    "\n",
    "for i in range(1, x+1, 2):\n",
    "    sum = sum + i\n",
    "\n",
    "print(\" =\", sum)"
   ]
  },
  {
   "cell_type": "code",
   "execution_count": 187,
   "id": "4c1353d3-3221-472e-8a76-64bd903d0125",
   "metadata": {},
   "outputs": [
    {
     "name": "stdin",
     "output_type": "stream",
     "text": [
      "1부터~입력한 자연수까지 모든 홀수의 값 구하기 10\n"
     ]
    },
    {
     "name": "stdout",
     "output_type": "stream",
     "text": [
      "1 + 3 + 5 + 7 + 9 = 25\n"
     ]
    }
   ],
   "source": [
    "# 1 ~ 입력값 / 그 중 홀수만 더하기.\n",
    "# 다 더하고 그 계산식 결과가 출력 되도록.\n",
    "\n",
    "x = int(input(\"1부터~입력한 자연수까지 모든 홀수의 값 구하기\"))\n",
    "sum = 0\n",
    "\n",
    "\n",
    "for i in range(1, x+1):\n",
    "    if i % 2 ==1:\n",
    "        if (x - 1) == i or x == i:\n",
    "            print(i, end=' = ')\n",
    "        else:\n",
    "            print(i, end=' + ')\n",
    "        sum += i\n",
    "print(sum)"
   ]
  },
  {
   "attachments": {
    "df706949-323f-4753-a5fe-09cb232b4195.png": {
     "image/png": "[encoded data removed]"
    }
   },
   "cell_type": "markdown",
   "id": "411e84c5-a6bb-444c-90a5-4f9dd735f15f",
   "metadata": {},
   "source": [
    "![Screen Shot 2023-02-16 at 12.37.03 PM.png](attachment:df706949-323f-4753-a5fe-09cb232b4195.png)"
   ]
  },
  {
   "cell_type": "code",
   "execution_count": 184,
   "id": "fca90d66-6ea4-46ca-8345-155b8ddd1fa6",
   "metadata": {},
   "outputs": [
    {
     "name": "stdin",
     "output_type": "stream",
     "text": [
      "자연수 하나 입력하세요: 100\n"
     ]
    },
    {
     "name": "stdout",
     "output_type": "stream",
     "text": [
      "1 + 3 + 5 + 7 + 9 + 11 + 13 + 15 + 17 + 19 + 21 + 23 + 25 + 27 + 29 + 31 + 33 + 35 + 37 + 39 + 41 + 43 + 45 + 47 + 49 + 51 + 53 + 55 + 57 + 59 + 61 + 63 + 65 + 67 + 69 + 71 + 73 + 75 + 77 + 79 + 81 + 83 + 85 + 87 + 89 + 91 + 93 + 95 + 97 + 99"
     ]
    }
   ],
   "source": [
    "input_value = int(input(\"자연수 하나 입력하세요:\"))\n",
    "\n",
    "print(\"1\", end=\"\")s\n",
    "for i in range(3, input_value +1):\n",
    "    if i % 2 == 1:\n",
    "        print(f\" + {i}\", end=\"\")"
   ]
  },
  {
   "cell_type": "code",
   "execution_count": null,
   "id": "c0943b1a-6f8b-4784-b0c8-2ec0d2956d89",
   "metadata": {},
   "outputs": [
    {
     "name": "stdin",
     "output_type": "stream",
     "text": [
      "계승을 구할 숫자를 입력하세요 4\n"
     ]
    },
    {
     "name": "stdout",
     "output_type": "stream",
     "text": [
      "0 425\n"
     ]
    }
   ],
   "source": [
    "input_value = int(input(\"계승을 구할 숫자를 입력하세요\"))\n",
    "\n",
    "for i in range(1, input_value+1):\n",
    "    result = result * (input_value-1)\n",
    "    \n",
    "    input_value = input_value - 1\n",
    "\n",
    "    sum += result\n",
    "    \n",
    "print(result, sum)"
   ]
  },
  {
   "cell_type": "code",
   "execution_count": 203,
   "id": "7aef12b5-061e-40d8-86ec-10842203158d",
   "metadata": {},
   "outputs": [
    {
     "name": "stdin",
     "output_type": "stream",
     "text": [
      "계승을 구할 숫자를 입력하세요 4\n"
     ]
    },
    {
     "name": "stdout",
     "output_type": "stream",
     "text": [
      "24\n"
     ]
    }
   ],
   "source": [
    "a = int(input(\"계승을 구할 숫자를 입력하세요\"))\n",
    "\n",
    "result = 1\n",
    "\n",
    "for i in range(1, a+1):\n",
    "    result = result * i\n",
    "    \n",
    "    \n",
    "print(result)"
   ]
  },
  {
   "cell_type": "code",
   "execution_count": 205,
   "id": "18f78d2b-1225-4538-a643-97ec6ef21c8e",
   "metadata": {},
   "outputs": [
    {
     "name": "stdout",
     "output_type": "stream",
     "text": [
      "7654321"
     ]
    }
   ],
   "source": [
    "for i in ['7','6','5','4' ,'3','2','1']:\n",
    "    print(i, end='')"
   ]
  },
  {
   "cell_type": "code",
   "execution_count": 207,
   "id": "7e889264-2e80-485d-ab38-5799bf427258",
   "metadata": {},
   "outputs": [
    {
     "name": "stdout",
     "output_type": "stream",
     "text": [
      "7 6 5 4 3 2 1 "
     ]
    }
   ],
   "source": [
    "for i in ['7','6','5','4' ,'3','2','1']:\n",
    "    print(i, end=' ')"
   ]
  },
  {
   "cell_type": "code",
   "execution_count": 206,
   "id": "63431445-3395-4d11-b698-12618e476899",
   "metadata": {},
   "outputs": [
    {
     "name": "stdout",
     "output_type": "stream",
     "text": [
      "7\n",
      "6\n",
      "5\n",
      "4\n",
      "3\n",
      "2\n",
      "1\n"
     ]
    }
   ],
   "source": [
    "for i in ['7','6','5','4' ,'3','2','1']:\n",
    "    print(i)"
   ]
  },
  {
   "cell_type": "markdown",
   "id": "2407f3e9-634e-495d-ad30-d2ce5f7ab279",
   "metadata": {},
   "source": [
    "##### Reversed() 함수를 통해 역순으로 변경이 가능하다. \n",
    "##### list 메서드에 있는 reverse()와는 다른 함수이다.\n",
    "\n",
    "##### reversed(시퀀스)함수는 반환값을 주지만 해당 시퀀스를 변경하지 않는다.\n",
    "##### list.reversed() 함수는 리스트 요소 순서를 뒤집어주고 반환값이 없다. 논"
   ]
  },
  {
   "cell_type": "code",
   "execution_count": 208,
   "id": "2d848ab2-0621-4968-b5a4-9a1bdfd12209",
   "metadata": {},
   "outputs": [
    {
     "name": "stdout",
     "output_type": "stream",
     "text": [
      "십 구 팔 칠 육 오 사 삼 이 일 "
     ]
    }
   ],
   "source": [
    "for _ in reversed(\"일이삼사오육칠팔구십\"):\n",
    "    print(_, end=\" \")"
   ]
  },
  {
   "cell_type": "code",
   "execution_count": 209,
   "id": "8f212b1e-36d4-410f-878d-ccbbad1ece76",
   "metadata": {},
   "outputs": [
    {
     "name": "stdout",
     "output_type": "stream",
     "text": [
      "십 구 팔 칠 육 오 사 삼 이 일 "
     ]
    }
   ],
   "source": [
    "# 슬라이싱을 통해 요소들의 순서를 반대로 반전할 수 있다.\n",
    "# 변수[::-1] 이렇게 슬라이싱 하는거랑 같은 결과를 가져다 줌.\n",
    "\n",
    "for _ in reversed(\"일이삼사오육칠팔구십\"):\n",
    "    print(_, end=\" \")"
   ]
  },
  {
   "cell_type": "code",
   "execution_count": 229,
   "id": "14b1a489-d627-4bda-bfe4-7735c25fffcd",
   "metadata": {},
   "outputs": [
    {
     "name": "stdout",
     "output_type": "stream",
     "text": [
      "100 -420 250 1030 210 770 240 "
     ]
    }
   ],
   "source": [
    "## i 에 x 리스트들이 하나씩 들어가는 것임.\n",
    "\n",
    "x = [10, -42, 25, 103, 21, 77, 24]\n",
    "\n",
    "for i in x:\n",
    "    print(i * 10, end=\" \")\n",
    "             \n",
    "             "
   ]
  },
  {
   "cell_type": "code",
   "execution_count": 254,
   "id": "c45598a5-31a8-475b-ab30-2ff20b0d799b",
   "metadata": {},
   "outputs": [
    {
     "name": "stdin",
     "output_type": "stream",
     "text": [
      "구구단 알려줍니다. 9\n"
     ]
    },
    {
     "name": "stdout",
     "output_type": "stream",
     "text": [
      "9 x 1 =  9\n",
      "9 x 2 =  18\n",
      "9 x 3 =  27\n",
      "9 x 4 =  36\n",
      "9 x 5 =  45\n",
      "9 x 6 =  54\n",
      "9 x 7 =  63\n",
      "9 x 8 =  72\n",
      "9 x 9 =  81\n"
     ]
    }
   ],
   "source": [
    "a = int(input(\"구구단 알려줍니다.\"))\n",
    "\n",
    "\n",
    "for i in range(1, 10):\n",
    "    print(f\"{a} x {i} = \", a * i)\n",
    "    i = i+1"
   ]
  },
  {
   "cell_type": "code",
   "execution_count": 261,
   "id": "d680b2fb-afc7-4bc8-8075-6e3cee72e668",
   "metadata": {},
   "outputs": [
    {
     "name": "stdin",
     "output_type": "stream",
     "text": [
      "자연수를 입력해주세요. 5\n"
     ]
    },
    {
     "name": "stdout",
     "output_type": "stream",
     "text": [
      "15\n"
     ]
    }
   ],
   "source": [
    "b = int(input(\"자연수를 입력해주세요.\"))\n",
    "\n",
    "sum =0\n",
    "\n",
    "for i in range(1, b+1):\n",
    "    sum = sum+i\n",
    "    \n",
    "print(sum)"
   ]
  },
  {
   "cell_type": "code",
   "execution_count": 264,
   "id": "8e27368a-4c9e-4f63-a138-e4f97110823c",
   "metadata": {},
   "outputs": [
    {
     "name": "stdin",
     "output_type": "stream",
     "text": [
      "자연수를 입력해주세요. 10\n"
     ]
    },
    {
     "name": "stdout",
     "output_type": "stream",
     "text": [
      "55\n"
     ]
    }
   ],
   "source": [
    "b = int(input(\"자연수를 입력해주세요.\"))\n",
    "\n",
    "sum =0\n",
    "\n",
    "for i in range(1, b+1):\n",
    "    sum += i\n",
    "    \n",
    "print(sum)"
   ]
  },
  {
   "cell_type": "code",
   "execution_count": 277,
   "id": "53e3fad2-0fb0-4b5b-b71c-b23a6291715d",
   "metadata": {},
   "outputs": [
    {
     "name": "stdout",
     "output_type": "stream",
     "text": [
      "*****\n",
      "*****\n",
      "*****\n",
      "*****\n",
      "*****\n",
      "*****\n"
     ]
    }
   ],
   "source": [
    "a=\"*\"\n",
    "b= 5\n",
    "\n",
    "for i in range (b+1):\n",
    "    print(\"*\" * 5)"
   ]
  },
  {
   "cell_type": "code",
   "execution_count": 287,
   "id": "159f0756-3f96-47ac-859b-0ff54e24bdde",
   "metadata": {},
   "outputs": [
    {
     "name": "stdout",
     "output_type": "stream",
     "text": [
      "*****\n",
      "*****\n",
      "*****\n",
      "*****\n",
      "*****\n"
     ]
    }
   ],
   "source": [
    "for i in range(5):\n",
    "    for j in range(5):\n",
    "        print('*', end=\"\")\n",
    "    print()"
   ]
  },
  {
   "cell_type": "markdown",
   "id": "dea60b39-385f-41c9-9af9-a32661bdbe54",
   "metadata": {},
   "source": [
    "#### while 반복문은 조건식으로만 동작합니다.\n",
    "\n",
    "#### 1. 조건식을 판별합니다.\n",
    "#### 2. 조건식이 ture인 동안 내내 while문의 바디를 실행합니다.\n",
    "#### 3. 조건식이 false가 되면 while 문을 빠져나갑니다."
   ]
  },
  {
   "cell_type": "code",
   "execution_count": 290,
   "id": "7ef8d826-28d0-4729-a029-73af0dd02615",
   "metadata": {},
   "outputs": [
    {
     "name": "stdout",
     "output_type": "stream",
     "text": [
      "Hello World!Hello World!Hello World!Hello World!Hello World!Hello World!Hello World!Hello World!Hello World!Hello World!Hello World!Hello World!Hello World!Hello World!Hello World!Hello World!Hello World!Hello World!Hello World!Hello World!Hello World!Hello World!Hello World!Hello World!Hello World!Hello World!Hello World!Hello World!Hello World!Hello World!Hello World!Hello World!Hello World!Hello World!Hello World!Hello World!Hello World!Hello World!Hello World!Hello World!Hello World!Hello World!Hello World!Hello World!Hello World!Hello World!Hello World!Hello World!Hello World!Hello World!Hello World!Hello World!Hello World!Hello World!Hello World!Hello World!Hello World!Hello World!Hello World!Hello World!Hello World!Hello World!Hello World!Hello World!Hello World!Hello World!Hello World!Hello World!Hello World!Hello World!Hello World!Hello World!Hello World!Hello World!Hello World!Hello World!Hello World!Hello World!Hello World!Hello World!Hello World!Hello World!Hello World!Hello World!Hello World!Hello World!Hello World!Hello World!Hello World!Hello World!Hello World!Hello World!Hello World!Hello World!Hello World!Hello World!Hello World!Hello World!Hello World!Hello World!"
     ]
    }
   ],
   "source": [
    "i = 0                              # 초기식\n",
    "\n",
    "while i < 100:                     # while 조건식\n",
    "    print(\"Hello World!\", end=\"\")  # 반복할 코드\n",
    "    i+=1                           # 변화식"
   ]
  },
  {
   "cell_type": "code",
   "execution_count": 293,
   "id": "65779645-5946-4016-89e5-fc1f230848e8",
   "metadata": {},
   "outputs": [
    {
     "name": "stdout",
     "output_type": "stream",
     "text": [
      "hello world\n",
      "hello world\n",
      "hello world\n",
      "hello world\n",
      "hello world\n",
      "hello world\n",
      "hello world\n",
      "hello world\n",
      "hello world\n",
      "hello world\n"
     ]
    }
   ],
   "source": [
    "i = 0\n",
    "\n",
    "while i < 10:\n",
    "    print(\"hello world\")\n",
    "    i += 1"
   ]
  },
  {
   "cell_type": "code",
   "execution_count": 296,
   "id": "94a612f1-f3e0-4c74-82ee-8777de7aa910",
   "metadata": {
    "scrolled": true,
    "tags": []
   },
   "outputs": [
    {
     "name": "stdout",
     "output_type": "stream",
     "text": [
      "얘를 100번 반복반복\n",
      "얘를 100번 반복반복\n",
      "얘를 100번 반복반복\n",
      "얘를 100번 반복반복\n",
      "얘를 100번 반복반복\n",
      "얘를 100번 반복반복\n",
      "얘를 100번 반복반복\n",
      "얘를 100번 반복반복\n",
      "얘를 100번 반복반복\n",
      "얘를 100번 반복반복\n",
      "얘를 100번 반복반복\n",
      "얘를 100번 반복반복\n",
      "얘를 100번 반복반복\n",
      "얘를 100번 반복반복\n",
      "얘를 100번 반복반복\n",
      "얘를 100번 반복반복\n",
      "얘를 100번 반복반복\n",
      "얘를 100번 반복반복\n",
      "얘를 100번 반복반복\n",
      "얘를 100번 반복반복\n",
      "얘를 100번 반복반복\n",
      "얘를 100번 반복반복\n",
      "얘를 100번 반복반복\n",
      "얘를 100번 반복반복\n",
      "얘를 100번 반복반복\n",
      "얘를 100번 반복반복\n",
      "얘를 100번 반복반복\n",
      "얘를 100번 반복반복\n",
      "얘를 100번 반복반복\n",
      "얘를 100번 반복반복\n",
      "얘를 100번 반복반복\n",
      "얘를 100번 반복반복\n",
      "얘를 100번 반복반복\n",
      "얘를 100번 반복반복\n",
      "얘를 100번 반복반복\n",
      "얘를 100번 반복반복\n",
      "얘를 100번 반복반복\n",
      "얘를 100번 반복반복\n",
      "얘를 100번 반복반복\n",
      "얘를 100번 반복반복\n",
      "얘를 100번 반복반복\n",
      "얘를 100번 반복반복\n",
      "얘를 100번 반복반복\n",
      "얘를 100번 반복반복\n",
      "얘를 100번 반복반복\n",
      "얘를 100번 반복반복\n",
      "얘를 100번 반복반복\n",
      "얘를 100번 반복반복\n",
      "얘를 100번 반복반복\n",
      "얘를 100번 반복반복\n",
      "얘를 100번 반복반복\n",
      "얘를 100번 반복반복\n",
      "얘를 100번 반복반복\n",
      "얘를 100번 반복반복\n",
      "얘를 100번 반복반복\n",
      "얘를 100번 반복반복\n",
      "얘를 100번 반복반복\n",
      "얘를 100번 반복반복\n",
      "얘를 100번 반복반복\n",
      "얘를 100번 반복반복\n",
      "얘를 100번 반복반복\n",
      "얘를 100번 반복반복\n",
      "얘를 100번 반복반복\n",
      "얘를 100번 반복반복\n",
      "얘를 100번 반복반복\n",
      "얘를 100번 반복반복\n",
      "얘를 100번 반복반복\n",
      "얘를 100번 반복반복\n",
      "얘를 100번 반복반복\n",
      "얘를 100번 반복반복\n",
      "얘를 100번 반복반복\n",
      "얘를 100번 반복반복\n",
      "얘를 100번 반복반복\n",
      "얘를 100번 반복반복\n",
      "얘를 100번 반복반복\n",
      "얘를 100번 반복반복\n",
      "얘를 100번 반복반복\n",
      "얘를 100번 반복반복\n",
      "얘를 100번 반복반복\n",
      "얘를 100번 반복반복\n",
      "얘를 100번 반복반복\n",
      "얘를 100번 반복반복\n",
      "얘를 100번 반복반복\n",
      "얘를 100번 반복반복\n",
      "얘를 100번 반복반복\n",
      "얘를 100번 반복반복\n",
      "얘를 100번 반복반복\n",
      "얘를 100번 반복반복\n",
      "얘를 100번 반복반복\n",
      "얘를 100번 반복반복\n",
      "얘를 100번 반복반복\n",
      "얘를 100번 반복반복\n",
      "얘를 100번 반복반복\n",
      "얘를 100번 반복반복\n",
      "얘를 100번 반복반복\n",
      "얘를 100번 반복반복\n",
      "얘를 100번 반복반복\n",
      "얘를 100번 반복반복\n",
      "얘를 100번 반복반복\n",
      "얘를 100번 반복반복\n"
     ]
    }
   ],
   "source": [
    "# 초기식\n",
    "\n",
    "i = 0\n",
    "\n",
    "# 조건식\n",
    "while i < 100:\n",
    "    print('얘를 100번 반복반복')\n",
    "    # 증감식\n",
    "    i += 1"
   ]
  },
  {
   "cell_type": "code",
   "execution_count": 297,
   "id": "4200007c-8009-4379-853f-638265148242",
   "metadata": {},
   "outputs": [
    {
     "name": "stdin",
     "output_type": "stream",
     "text": [
      "반복할 횟수를 입력하세요: 5\n"
     ]
    },
    {
     "name": "stdout",
     "output_type": "stream",
     "text": [
      "Hello world 5\n",
      "Hello world 4\n",
      "Hello world 3\n",
      "Hello world 2\n",
      "Hello world 1\n"
     ]
    }
   ],
   "source": [
    "count = int(input(\"반복할 횟수를 입력하세요:\"))\n",
    "\n",
    "while count > 0:\n",
    "    print(\"Hello world\", count)\n",
    "    count -= 1"
   ]
  },
  {
   "cell_type": "code",
   "execution_count": 309,
   "id": "2aefdab2-543f-487b-b168-20a909cdaeea",
   "metadata": {},
   "outputs": [
    {
     "name": "stdout",
     "output_type": "stream",
     "text": [
      "100\n",
      "98\n",
      "96\n",
      "94\n",
      "92\n",
      "90\n",
      "88\n",
      "86\n",
      "84\n",
      "82\n",
      "80\n",
      "78\n",
      "76\n",
      "74\n",
      "72\n",
      "70\n",
      "68\n",
      "66\n",
      "64\n",
      "62\n",
      "60\n",
      "58\n",
      "56\n",
      "54\n",
      "52\n",
      "50\n",
      "48\n",
      "46\n",
      "44\n",
      "42\n",
      "40\n",
      "38\n",
      "36\n",
      "34\n",
      "32\n",
      "30\n",
      "28\n",
      "26\n",
      "24\n",
      "22\n",
      "20\n",
      "18\n",
      "16\n",
      "14\n",
      "12\n",
      "10\n",
      "8\n",
      "6\n",
      "4\n",
      "2\n"
     ]
    }
   ],
   "source": [
    "count = 100\n",
    "\n",
    "while count > 0:\n",
    "    if count % 2 ==0:\n",
    "        print(count)\n",
    "    count -= 1"
   ]
  },
  {
   "cell_type": "code",
   "execution_count": 317,
   "id": "516e7246-37f0-4f03-95db-dae309bb1b68",
   "metadata": {},
   "outputs": [
    {
     "name": "stdout",
     "output_type": "stream",
     "text": [
      "2 4 6 8 10 12 14 16 18 20 22 24 26 28 30 32 34 36 38 40 42 44 46 48 50 52 54 56 58 60 62 64 66 68 70 72 74 76 78 80 82 84 86 88 90 92 94 96 98 "
     ]
    }
   ],
   "source": [
    "count = 1\n",
    "\n",
    "while count < 100:\n",
    "    if count % 2 ==0:\n",
    "        print(count, end=\" \")\n",
    "    count += 1"
   ]
  },
  {
   "cell_type": "code",
   "execution_count": 330,
   "id": "c054cce6-3db5-4f15-b479-0c17a4f0ea02",
   "metadata": {},
   "outputs": [
    {
     "name": "stdout",
     "output_type": "stream",
     "text": [
      "2\t 4\t 6\t 8\t 10\t 12\t 14\t 16\t 18\t 20\t 22\t 24\t 26\t 28\t 30\t 32\t 34\t 36\t 38\t 40\t 42\t 44\t 46\t 48\t 50\t 52\t 54\t 56\t 58\t 60\t 62\t 64\t 66\t 68\t 70\t 72\t 74\t 76\t 78\t 80\t 82\t 84\t 86\t 88\t 90\t 92\t 94\t 96\t 98\t 100\t "
     ]
    }
   ],
   "source": [
    "count = 1\n",
    "\n",
    "while count < 101:\n",
    "    if count % 2 ==0:\n",
    "        print(f\"{count}\\t\", end=\" \")\n",
    "    count += 1\n",
    "    \n"
   ]
  },
  {
   "cell_type": "code",
   "execution_count": 337,
   "id": "2eb98f0f-a2c9-4fc2-a504-af23274518e2",
   "metadata": {},
   "outputs": [
    {
     "name": "stdin",
     "output_type": "stream",
     "text": [
      "구구단 숫자입력 9\n"
     ]
    },
    {
     "name": "stdout",
     "output_type": "stream",
     "text": [
      "9 x 1 = 9\n",
      "9 x 2 = 18\n",
      "9 x 3 = 27\n",
      "9 x 4 = 36\n",
      "9 x 5 = 45\n",
      "9 x 6 = 54\n",
      "9 x 7 = 63\n",
      "9 x 8 = 72\n",
      "9 x 9 = 81\n"
     ]
    }
   ],
   "source": [
    "x = int(input(\"구구단 숫자입력\"))\n",
    "i=1\n",
    "\n",
    "while i < 10:\n",
    "    print(x, \"x\", i, \"=\", x*i)\n",
    "    i += 1"
   ]
  },
  {
   "cell_type": "code",
   "execution_count": 338,
   "id": "16c6915e-9d47-44d4-b8f1-4d5a6b28c8fc",
   "metadata": {},
   "outputs": [
    {
     "name": "stdout",
     "output_type": "stream",
     "text": [
      "97\n",
      "100\n",
      "77\n"
     ]
    }
   ],
   "source": [
    "# for문으로 시퀀스 객체의 인덱스 루프(loop) 테크닉\n",
    "\n",
    "scores = (97, 100, 77)\n",
    "\n",
    "for _ in range(len(scores)):\n",
    "    print(scores[_])"
   ]
  },
  {
   "cell_type": "code",
   "execution_count": 339,
   "id": "cc223320-1e75-4735-9614-48250b9a5ac3",
   "metadata": {},
   "outputs": [
    {
     "name": "stdout",
     "output_type": "stream",
     "text": [
      "97\n",
      "100\n",
      "77\n"
     ]
    }
   ],
   "source": [
    "scores = (97, 100, 77)\n",
    "i = 0\n",
    "while i < len(scores):\n",
    "    print(scores[i])\n",
    "    i += 1"
   ]
  },
  {
   "cell_type": "code",
   "execution_count": null,
   "id": "b30a43c2-94eb-4e16-a243-700f06a1debc",
   "metadata": {},
   "outputs": [],
   "source": []
  }
 ],
 "metadata": {
  "kernelspec": {
   "display_name": "Python 3 (ipykernel)",
   "language": "python",
   "name": "python3"
  },
  "language_info": {
   "codemirror_mode": {
    "name": "ipython",
    "version": 3
   },
   "file_extension": ".py",
   "mimetype": "text/x-python",
   "name": "python",
   "nbconvert_exporter": "python",
   "pygments_lexer": "ipython3",
   "version": "3.9.7"
  }
 },
 "nbformat": 4,
 "nbformat_minor": 5
}
