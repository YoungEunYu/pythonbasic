{
 "cells": [
  {
   "cell_type": "code",
   "execution_count": 1,
   "id": "2bf95bbf-4acf-42ec-84e3-8052721d8fdc",
   "metadata": {},
   "outputs": [
    {
     "name": "stdout",
     "output_type": "stream",
     "text": [
      "0.18632197380065918\n"
     ]
    }
   ],
   "source": [
    "import time\n",
    "\n",
    "start_time= time.time()\n",
    "test= []\n",
    "\n",
    "# 1,000,000번을 반복해서 튜플을 만듭니다.\n",
    "# 튜플이 리스트보다 훨씬 오래걸리는 것을 볼 수 있다.\n",
    "for _ in range(1_000_000):\n",
    "    tp= (_,_) #튜플\n",
    "    test.append(tp)\n",
    "    \n",
    "print(time.time() - start_time)"
   ]
  },
  {
   "cell_type": "code",
   "execution_count": 2,
   "id": "129a0a7d-228c-444e-8a16-8f6c4041f8c9",
   "metadata": {},
   "outputs": [
    {
     "name": "stdout",
     "output_type": "stream",
     "text": [
      "0.43612170219421387\n"
     ]
    }
   ],
   "source": [
    "import time\n",
    "\n",
    "start_time= time.time()\n",
    "test= []\n",
    "\n",
    "for _ in range(1_000_000):\n",
    "    tp= [_,_] #리스트\n",
    "    test.append(tp)\n",
    "    \n",
    "print(time.time() - start_time)"
   ]
  },
  {
   "cell_type": "code",
   "execution_count": 4,
   "id": "f58e4326-b7c8-4035-a254-fb18bde62236",
   "metadata": {},
   "outputs": [
    {
     "data": {
      "text/plain": [
       "'\\n1. 튜플 (불변)\\n2. 리스트 (언어의 종류가 또 생길지도 모르니까..?)\\n3. 리스트 (가변)\\n4. 튜플 (불변)\\n5. 튜플 (1회성 게임은 불변)\\n6. 리스트 (앞으로 게임을 계속 할 것이라면 가변)\\n'"
      ]
     },
     "execution_count": 4,
     "metadata": {},
     "output_type": "execute_result"
    }
   ],
   "source": [
    "'''\n",
    "1. 튜플 (불변)\n",
    "2. 리스트 (언어의 종류가 또 생길지도 모르니까..?)\n",
    "3. 리스트 (가변)\n",
    "4. 튜플 (불변)\n",
    "5. 튜플 (1회성 게임은 불변)\n",
    "6. 리스트 (앞으로 게임을 계속 할 것이라면 가변)\n",
    "'''"
   ]
  },
  {
   "cell_type": "code",
   "execution_count": 6,
   "id": "f86fc7cc-ffc1-4341-b361-baa5d13c62bf",
   "metadata": {},
   "outputs": [
    {
     "name": "stdout",
     "output_type": "stream",
     "text": [
      "text1\n",
      "text2\n"
     ]
    }
   ],
   "source": [
    "# 변수 여럿에 동시 할당이 가능하다. = unpacking\n",
    "# 좌변 우변의 개수를 똑같이 맞춰서 선언.\n",
    "# 원래 하던 방식은 s1=t[1] 이런식\n",
    "\n",
    "s1, s2 = 'text1', 'text2'\n",
    "print(s1)\n",
    "print(s2)"
   ]
  },
  {
   "cell_type": "code",
   "execution_count": 7,
   "id": "e0f7332e-e3c5-42f9-9ca3-88751eaea97e",
   "metadata": {},
   "outputs": [
    {
     "name": "stdout",
     "output_type": "stream",
     "text": [
      "이렇게 리스트도 가능\n"
     ]
    }
   ],
   "source": [
    "s3, s4, s5 = [\"이렇게\", \"리스트도\", \"가능\"]\n",
    "print(s3, s4, s5)"
   ]
  },
  {
   "cell_type": "code",
   "execution_count": 9,
   "id": "c1f1c0b6-7698-4a86-88c2-5ec332e9a456",
   "metadata": {},
   "outputs": [
    {
     "name": "stdout",
     "output_type": "stream",
     "text": [
      "문\n",
      "문 자 열 도\n"
     ]
    }
   ],
   "source": [
    "s6, s7, s8, s9 = \"문자열도\"\n",
    "print(s6)\n",
    "print(s6, s7, s8, s9)"
   ]
  },
  {
   "cell_type": "code",
   "execution_count": 29,
   "id": "3ac2b140-699e-4ecc-b1b3-b954a98c4046",
   "metadata": {},
   "outputs": [
    {
     "name": "stdin",
     "output_type": "stream",
     "text": [
      "Message 2\n"
     ]
    }
   ],
   "source": [
    "# 파이썬의 입력함수, \n",
    "#인풋 명령어를 활용해서 유저가 입력을 하게끔 할 수 있다!\n",
    "\n",
    "input_value = input(\"Message\")"
   ]
  },
  {
   "cell_type": "code",
   "execution_count": 30,
   "id": "df92d00a-3e40-4821-b660-0692eb25c712",
   "metadata": {},
   "outputs": [
    {
     "name": "stdout",
     "output_type": "stream",
     "text": [
      "input_value 2 \n",
      "type: <class 'str'>\n"
     ]
    }
   ],
   "source": [
    "print(\"input_value\", input_value, \"\\ntype:\", type(input_value))"
   ]
  },
  {
   "cell_type": "code",
   "execution_count": 31,
   "id": "86d91e3b-b810-4cba-876d-20edb8a23f47",
   "metadata": {},
   "outputs": [
    {
     "name": "stdout",
     "output_type": "stream",
     "text": [
      "input_value: 2 \n",
      "type: <class 'int'>\n"
     ]
    }
   ],
   "source": [
    "input_value = int(input_value)\n",
    "print(\"input_value:\", input_value, \"\\ntype:\", type(input_value))"
   ]
  },
  {
   "cell_type": "code",
   "execution_count": 32,
   "id": "445012ec-4efd-4053-a687-d66259cf7696",
   "metadata": {},
   "outputs": [
    {
     "name": "stdin",
     "output_type": "stream",
     "text": [
      "정수외에 다른 값을 넣어봐라 2.3499\n"
     ]
    }
   ],
   "source": [
    "input_value2 = input(\"정수외에 다른 값을 넣어봐라\")"
   ]
  },
  {
   "cell_type": "code",
   "execution_count": null,
   "id": "261efe3b-ec24-4a58-963a-80ac3a082874",
   "metadata": {},
   "outputs": [],
   "source": []
  },
  {
   "cell_type": "code",
   "execution_count": 33,
   "id": "73aeed4b-a6d3-411a-bf20-5b11aa9012ad",
   "metadata": {},
   "outputs": [
    {
     "name": "stdout",
     "output_type": "stream",
     "text": [
      "2.3499\n",
      "2\n"
     ]
    }
   ],
   "source": [
    "# 사용자가 입력한 것을 정수로 바꾸려면 float을 한번 거쳐야 함.\n",
    "input_value2 = float(input_value2)\n",
    "print(input_value2)\n",
    "\n",
    "input_value2 = int(input_value2)\n",
    "print(input_value2)"
   ]
  },
  {
   "cell_type": "code",
   "execution_count": 34,
   "id": "7f3f82c8-fa00-492a-9739-30ce6244b95f",
   "metadata": {},
   "outputs": [
    {
     "name": "stdin",
     "output_type": "stream",
     "text": [
      "정수 외에 다른 값 eng\n"
     ]
    }
   ],
   "source": [
    "input_value3 = input(\"정수 외에 다른 값\")"
   ]
  },
  {
   "cell_type": "code",
   "execution_count": 36,
   "id": "74796142-f123-4bce-af83-5cdcba46785f",
   "metadata": {},
   "outputs": [
    {
     "ename": "ValueError",
     "evalue": "invalid literal for int() with base 10: 'eng'",
     "output_type": "error",
     "traceback": [
      "\u001b[0;31m---------------------------------------------------------------------------\u001b[0m",
      "\u001b[0;31mValueError\u001b[0m                                Traceback (most recent call last)",
      "\u001b[0;32m/var/folders/pj/m08knkgx3rz6pmvhgttqvmyc0000gn/T/ipykernel_48179/1911825268.py\u001b[0m in \u001b[0;36m<module>\u001b[0;34m\u001b[0m\n\u001b[1;32m      1\u001b[0m \u001b[0;31m# 안됨\u001b[0m\u001b[0;34m\u001b[0m\u001b[0;34m\u001b[0m\u001b[0m\n\u001b[0;32m----> 2\u001b[0;31m \u001b[0mint\u001b[0m\u001b[0;34m(\u001b[0m\u001b[0minput_value3\u001b[0m\u001b[0;34m)\u001b[0m\u001b[0;34m\u001b[0m\u001b[0;34m\u001b[0m\u001b[0m\n\u001b[0m",
      "\u001b[0;31mValueError\u001b[0m: invalid literal for int() with base 10: 'eng'"
     ]
    }
   ],
   "source": [
    "# 안됨\n",
    "int(input_value3)"
   ]
  },
  {
   "cell_type": "code",
   "execution_count": 38,
   "id": "a587463c-fa28-4486-905d-24d24215bdd3",
   "metadata": {},
   "outputs": [
    {
     "name": "stdin",
     "output_type": "stream",
     "text": [
      "정수를 입력해주세요: ㄴ3\n"
     ]
    },
    {
     "ename": "ValueError",
     "evalue": "invalid literal for int() with base 10: 'ㄴ3'",
     "output_type": "error",
     "traceback": [
      "\u001b[0;31m---------------------------------------------------------------------------\u001b[0m",
      "\u001b[0;31mValueError\u001b[0m                                Traceback (most recent call last)",
      "\u001b[0;32m/var/folders/pj/m08knkgx3rz6pmvhgttqvmyc0000gn/T/ipykernel_48179/833278612.py\u001b[0m in \u001b[0;36m<module>\u001b[0;34m\u001b[0m\n\u001b[1;32m      3\u001b[0m \u001b[0;31m# 소괄호 먼저 실행된다.\u001b[0m\u001b[0;34m\u001b[0m\u001b[0;34m\u001b[0m\u001b[0m\n\u001b[1;32m      4\u001b[0m \u001b[0;34m\u001b[0m\u001b[0m\n\u001b[0;32m----> 5\u001b[0;31m \u001b[0minput_value4\u001b[0m \u001b[0;34m=\u001b[0m \u001b[0mint\u001b[0m\u001b[0;34m(\u001b[0m\u001b[0minput\u001b[0m\u001b[0;34m(\u001b[0m\u001b[0;34m\"정수를 입력해주세요:\"\u001b[0m\u001b[0;34m)\u001b[0m\u001b[0;34m)\u001b[0m\u001b[0;34m\u001b[0m\u001b[0;34m\u001b[0m\u001b[0m\n\u001b[0m\u001b[1;32m      6\u001b[0m \u001b[0mprint\u001b[0m\u001b[0;34m(\u001b[0m\u001b[0minput_value4\u001b[0m\u001b[0;34m)\u001b[0m\u001b[0;34m\u001b[0m\u001b[0;34m\u001b[0m\u001b[0m\n\u001b[1;32m      7\u001b[0m \u001b[0;34m\u001b[0m\u001b[0m\n",
      "\u001b[0;31mValueError\u001b[0m: invalid literal for int() with base 10: 'ㄴ3'"
     ]
    }
   ],
   "source": [
    "# input()과 int()를 한 줄로 작성해보기\n",
    "# 동작 순서에 대해 알아보기\n",
    "# 소괄호 먼저 실행된다. \n",
    "\n",
    "input_value4 = int(input(\"정수를 입력해주세요:\"))\n",
    "print(input_value4)\n",
    "\n",
    "#int를 입력하지 않고 문자를 적으면 오류가 남. \n",
    "# 입력박스 먼저 실행 -> 그 다음 int 조건 실행"
   ]
  },
  {
   "cell_type": "code",
   "execution_count": 39,
   "id": "3679074d-f96f-40e4-ac59-d4ca454b9227",
   "metadata": {},
   "outputs": [],
   "source": [
    "# 사용자가 입력을 하면 변수에 해당 입력값이 반영된다. \n"
   ]
  },
  {
   "cell_type": "code",
   "execution_count": 43,
   "id": "bfcad095-42e7-460a-87d3-d1e8ebb8e58c",
   "metadata": {},
   "outputs": [
    {
     "name": "stdin",
     "output_type": "stream",
     "text": [
      "이름을 입력하세요: 영은\n"
     ]
    },
    {
     "name": "stdout",
     "output_type": "stream",
     "text": [
      "영은 안녕하세요?\n",
      "파이썬에 오신 것을 환영합니다.\n"
     ]
    },
    {
     "name": "stdin",
     "output_type": "stream",
     "text": [
      "첫 번째 정수를 입력하세요: 38\n",
      "두 번째 정수를 입력하세요: 29\n"
     ]
    },
    {
     "name": "stdout",
     "output_type": "stream",
     "text": [
      "38 과 29 의 합은 67 입니다.\n"
     ]
    }
   ],
   "source": [
    "input_value = input(\"이름을 입력하세요:\")\n",
    "print(input_value, \"안녕하세요?\")\n",
    "print(\"파이썬에 오신 것을 환영합니다.\")\n",
    "x = int(input(\"첫 번째 정수를 입력하세요:\"))\n",
    "y = int(input(\"두 번째 정수를 입력하세요:\"))\n",
    "print(x, '과', y, '의 합은', x+y, '입니다.')"
   ]
  },
  {
   "cell_type": "code",
   "execution_count": 46,
   "id": "2e5873ef-b491-4e1a-b093-961b4c7d6aea",
   "metadata": {},
   "outputs": [
    {
     "name": "stdin",
     "output_type": "stream",
     "text": [
      "경기장은 어디입니까?: 잠실\n",
      "이긴 팀은 어디입니까?: 이긴팀ㅇ\n",
      "진 팀은 어디입니까?: 진팀x\n",
      "우수 선수는 누구입니까?: 영은\n",
      "스코어는 몇대 몇입니까?: 7:3\n"
     ]
    },
    {
     "name": "stdout",
     "output_type": "stream",
     "text": [
      "\n",
      "[속보] 이긴팀ㅇ 가 7:3 로 승리...\n",
      "오늘 잠실 경기장에서 야구 경기가 있었습니다.\n",
      "이긴팀ㅇ 와 진팀x 는 치열한 공방전을 펼쳤습니다.\n",
      "이 경기에서 영은 가 맹활약을 했습니다.\n",
      "그 끝내 이긴팀ㅇ 가 진팀x 을 7:3 로 승리하였습니다.\n",
      "기사 끝\n"
     ]
    }
   ],
   "source": [
    "input_value0 = input(\"경기장은 어디입니까?:\")\n",
    "input_value2 = input(\"이긴 팀은 어디입니까?:\")\n",
    "input_value3 = input(\"진 팀은 어디입니까?:\")\n",
    "input_value4 = input(\"우수 선수는 누구입니까?:\")\n",
    "input_value5 = input(\"스코어는 몇대 몇입니까?:\")\n",
    "print()\n",
    "print(\"[속보]\", input_value2, \"가\", input_value5, \"로 승리...\")\n",
    "print(\"오늘\", input_value0, \"경기장에서 야구 경기가 있었습니다.\")\n",
    "print(input_value2, \"와\", input_value3, \"는 치열한 공방전을 펼쳤습니다.\")\n",
    "print(\"이 경기에서\", input_value4, \"가\", \"맹활약을 했습니다.\")\n",
    "print(\"그 끝내\", input_value2, \"가\", input_value3, \"을\", input_value5, \"로 승리하였습니다.\")\n",
    "print(\"기사 끝\")"
   ]
  },
  {
   "cell_type": "code",
   "execution_count": 47,
   "id": "9ce8c3c0-18d2-4035-a599-cd401242ba81",
   "metadata": {},
   "outputs": [
    {
     "name": "stdout",
     "output_type": "stream",
     "text": [
      "<class 'list'>\n",
      "['1', '2', '3']\n"
     ]
    }
   ],
   "source": [
    "result = '1,2,3'.split(',')\n",
    "print(type(result))\n",
    "print(result)"
   ]
  },
  {
   "cell_type": "code",
   "execution_count": 50,
   "id": "e3da5eba-889e-448a-b99c-411bda80a36e",
   "metadata": {},
   "outputs": [
    {
     "name": "stdin",
     "output_type": "stream",
     "text": [
      "hh:mm:ss의 형태로 시간을 입력해 주세요: 08:28:04\n"
     ]
    },
    {
     "name": "stdout",
     "output_type": "stream",
     "text": [
      "\n",
      "실행 결과:\n",
      "시: 08\n",
      "분: 28\n",
      "초: 04\n"
     ]
    }
   ],
   "source": [
    "time = input(\"hh:mm:ss의 형태로 시간을 입력해 주세요:\")\n",
    "time = time.split(':')\n",
    "print()\n",
    "print(\"실행 결과:\")\n",
    "print(\"시:\", time[0])\n",
    "print(\"분:\", time[1])\n",
    "print(\"초:\", time[2])"
   ]
  },
  {
   "cell_type": "code",
   "execution_count": 52,
   "id": "62efb923-bc31-4a43-8347-0191badf728f",
   "metadata": {},
   "outputs": [
    {
     "name": "stdout",
     "output_type": "stream",
     "text": [
      "[1, 2, 3, 4]\n"
     ]
    }
   ],
   "source": [
    "# map() 내장 함수\n",
    "# 반복 가능한(iterable) 객체에서 요소를 하나하나 꺼내 특정 함수를 각각 적용하고 싶을 때 사용.\n",
    "# 반환은 map 클래스를 반환하고 이는 반복 가능한 객체이다.\n",
    "\n",
    "# map(function, iterable 객체) -> <class 'map'>(iterable)\n",
    "\n",
    "a = [1.2, 2.5, 3.7, 4.6]\n",
    "\n",
    "# 이 안에 있는 객체 하나하나를 꺼내서 int로 전체 매핑을 해주는 기능이다.\n",
    "a = list(map(int, a))\n",
    "print(a)\n"
   ]
  },
  {
   "cell_type": "code",
   "execution_count": 80,
   "id": "9b40eb9d-494d-4eb8-936f-222d2b88a539",
   "metadata": {},
   "outputs": [
    {
     "name": "stdin",
     "output_type": "stream",
     "text": [
      "국어, 영어, 수학, 과학 점수를 입력해주세요. 98,100,96,100\n"
     ]
    },
    {
     "name": "stdout",
     "output_type": "stream",
     "text": [
      "['98', '100', '96', '100']\n",
      "[98, 100, 96, 100]\n",
      "98.5\n",
      "\n",
      " 실행결과\n",
      "평균 점수는 98.5 점 입니다.\n"
     ]
    }
   ],
   "source": [
    "score = input(\"국어, 영어, 수학, 과학 점수를 입력해주세요.\")\n",
    "\n",
    "score = score.split(',')\n",
    "print(score)\n",
    "\n",
    "int_score = list(map(int, score))\n",
    "print(int_score)\n",
    "\n",
    "avg = (int_score[0]+int_score[1]+int_score[2]+int_score[3])/4\n",
    "print(avg)\n",
    "\n",
    "print(\"\\n 실행결과\")\n",
    "print(\"평균 점수는\",avg ,\"점 입니다.\")"
   ]
  },
  {
   "cell_type": "code",
   "execution_count": 82,
   "id": "86346df2-d048-4350-87a7-624bab71e4f4",
   "metadata": {},
   "outputs": [
    {
     "name": "stdin",
     "output_type": "stream",
     "text": [
      "국어, 영어, 수학, 과학 점수를 입력해주세요. 98,100,96,100\n"
     ]
    },
    {
     "name": "stdout",
     "output_type": "stream",
     "text": [
      "['98', '100', '96', '100']\n",
      "[98, 100, 96, 100]\n",
      "\n",
      " 실행결과\n",
      "평균 점수는 98.5 점 입니다.\n"
     ]
    }
   ],
   "source": [
    "score = input(\"국어, 영어, 수학, 과학 점수를 입력해주세요.\")\n",
    "\n",
    "score = score.split(',')\n",
    "print(score)\n",
    "\n",
    "int_score = list(map(int, score))\n",
    "print(int_score)\n",
    "\n",
    "avg = sum(int_score)/len(int_score)\n",
    "\n",
    "print(\"\\n 실행결과\")\n",
    "print(\"평균 점수는\",avg ,\"점 입니다.\")"
   ]
  },
  {
   "cell_type": "code",
   "execution_count": 2,
   "id": "be3258a3-713a-4548-bdaf-04b55eceb76b",
   "metadata": {},
   "outputs": [
    {
     "name": "stdin",
     "output_type": "stream",
     "text": [
      "국어, 영어, 수학, 과학, 점수를 입력해주세요 98,100,96,100\n"
     ]
    },
    {
     "name": "stdout",
     "output_type": "stream",
     "text": [
      "98.5\n"
     ]
    }
   ],
   "source": [
    "kor, eng, mat, sci = map(int, input(\"국어, 영어, 수학, 과학, 점수를 입력해주세요\").split(\",\"))\n",
    "avg = (kor+eng+mat+sci)/4\n",
    "print(avg)"
   ]
  },
  {
   "cell_type": "code",
   "execution_count": null,
   "id": "f7a2757a-b27e-4485-86a9-0da60b63d8bb",
   "metadata": {},
   "outputs": [],
   "source": []
  }
 ],
 "metadata": {
  "kernelspec": {
   "display_name": "Python 3 (ipykernel)",
   "language": "python",
   "name": "python3"
  },
  "language_info": {
   "codemirror_mode": {
    "name": "ipython",
    "version": 3
   },
   "file_extension": ".py",
   "mimetype": "text/x-python",
   "name": "python",
   "nbconvert_exporter": "python",
   "pygments_lexer": "ipython3",
   "version": "3.9.7"
  }
 },
 "nbformat": 4,
 "nbformat_minor": 5
}
