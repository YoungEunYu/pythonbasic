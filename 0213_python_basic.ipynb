{
 "cells": [
  {
   "cell_type": "code",
   "execution_count": 1,
   "id": "aee44bf2-47d9-4eca-b4be-7bedb0a9fe35",
   "metadata": {},
   "outputs": [
    {
     "data": {
      "text/plain": [
       "'#따옴표 안은 리터럴입니다. 문자열 리터럴.'"
      ]
     },
     "execution_count": 1,
     "metadata": {},
     "output_type": "execute_result"
    }
   ],
   "source": [
    "# 주석주석 주석\n",
    "#주석\n",
    "\"#따옴표 안은 리터럴입니다. 문자열 리터럴.\"\n",
    "\n",
    "# 리터럴 = 값 자체. 숫자, 문자열, 참, 거짓 등과 같은 그냥 값.."
   ]
  },
  {
   "cell_type": "code",
   "execution_count": 6,
   "id": "2eac12b9-6c9a-4b3b-831a-a73106e69e9c",
   "metadata": {},
   "outputs": [
    {
     "name": "stdout",
     "output_type": "stream",
     "text": [
      "1\n",
      "#따옴표 안은 리터럴입니다. 문자열 리터럴.\n"
     ]
    }
   ],
   "source": [
    "#함수를 같이 쓸 때는 소괄호를 같이 써서 호출을 한다. call\n",
    "x=1;\n",
    "print(x)\n",
    "\n",
    "text= \"#따옴표 안은 리터럴입니다. 문자열 리터럴.\"\n",
    "print(text)"
   ]
  },
  {
   "cell_type": "code",
   "execution_count": 11,
   "id": "9c36bad2-d6fc-46eb-942d-68b1e236a960",
   "metadata": {},
   "outputs": [
    {
     "name": "stdout",
     "output_type": "stream",
     "text": [
      "Hello World!\n",
      "Hello World!\n",
      "Python Programming\n"
     ]
    }
   ],
   "source": [
    "text = \"Hello World!\"\n",
    "\n",
    "print(text)\n",
    "print(text)\n",
    "print('Python Programming')\n"
   ]
  },
  {
   "cell_type": "code",
   "execution_count": 14,
   "id": "54671586-f5ba-4686-a2d0-5c1e0c5b9198",
   "metadata": {},
   "outputs": [
    {
     "data": {
      "text/plain": [
       "89"
      ]
     },
     "execution_count": 14,
     "metadata": {},
     "output_type": "execute_result"
    }
   ],
   "source": [
    "13+(22-3)*4"
   ]
  },
  {
   "cell_type": "code",
   "execution_count": 15,
   "id": "e5c2b784-b2de-4437-896b-cb6139908068",
   "metadata": {},
   "outputs": [
    {
     "data": {
      "text/plain": [
       "28.2"
      ]
     },
     "execution_count": 15,
     "metadata": {},
     "output_type": "execute_result"
    }
   ],
   "source": [
    "13+((22-3)*4)/5"
   ]
  },
  {
   "cell_type": "code",
   "execution_count": 16,
   "id": "4dba3737-2d56-4300-a2f1-91044fc99485",
   "metadata": {},
   "outputs": [],
   "source": [
    "# 몫 구하기 = //\n",
    "# 나머지 구하기 = %\n",
    "\n",
    "# 거듭제곱 = **\n",
    "# 제곱근 3**(1/2)\n",
    "\n",
    "# 정수 int / 실수 float / 복소수 complex = 실수와 허수로 표현되는 숫자\n",
    "# 실수 접근 -> 복소수.real\n",
    "# 허수 접근 -> 복소수.imag\n",
    "\n",
    "# 실수를 정수로 변환\n",
    "# 문자열을 정수로 변환\n",
    "# 따옴표로 감싸져 있는 부분은 문자열이 된다. "
   ]
  },
  {
   "cell_type": "code",
   "execution_count": 41,
   "id": "ce03f134-77ce-44cd-abd1-1b94d6377c91",
   "metadata": {},
   "outputs": [
    {
     "name": "stdout",
     "output_type": "stream",
     "text": [
      "실행 결과\n",
      "가장 시끄러운 층은 7 층\n"
     ]
    }
   ],
   "source": [
    "#소음이 가장 심한 층은\n",
    "\n",
    "x=int(0.2467 * 12 + 4.159)\n",
    "\n",
    "print(\"실행 결과\")\n",
    "print(\"가장 시끄러운 층은\", x,\"층\")"
   ]
  },
  {
   "cell_type": "code",
   "execution_count": 45,
   "id": "2c492ca3-378e-405b-bba0-6b5a2d38fdf8",
   "metadata": {},
   "outputs": [
    {
     "name": "stdout",
     "output_type": "stream",
     "text": [
      "실행 결과:\n",
      "냉장고 가격은 1272000 입니다.\n"
     ]
    }
   ],
   "source": [
    "print(\"실행 결과:\")\n",
    "print(\"냉장고 가격은\", (53000*24),'입니다.')"
   ]
  },
  {
   "cell_type": "code",
   "execution_count": 47,
   "id": "fc230307-b305-43a6-a6d2-7f5a5301b729",
   "metadata": {},
   "outputs": [
    {
     "name": "stdout",
     "output_type": "stream",
     "text": [
      "실행 결과:\n",
      "총 지불해야 할 금액은 16500000.0 원 입니다.\n"
     ]
    }
   ],
   "source": [
    "people = 250\n",
    "tax = 10/100\n",
    "\n",
    "x=(20000*3*people)+(20000*3*people)*tax\n",
    "\n",
    "print(\"실행 결과:\")\n",
    "print(\"총 지불해야 할 금액은\", x,'원 입니다.')"
   ]
  },
  {
   "cell_type": "code",
   "execution_count": 48,
   "id": "efb706b5-09c7-41c0-a6da-7b1f6882fc85",
   "metadata": {},
   "outputs": [],
   "source": [
    "# 2진법 표기\n",
    "# 0b10001 -> \n",
    "# bin(17) = 0b10001\n",
    "# bin(22) = 0b10110\n",
    "\n",
    "# 16진수 표기\n",
    "# hex(31) -> 0x1f\n",
    "# hex(22) -> 0x16"
   ]
  },
  {
   "cell_type": "code",
   "execution_count": 49,
   "id": "550b3df7-d9f3-4bb1-8c4a-0173f540f3f8",
   "metadata": {},
   "outputs": [
    {
     "data": {
      "text/plain": [
       "453.0"
      ]
     },
     "execution_count": 49,
     "metadata": {},
     "output_type": "execute_result"
    }
   ],
   "source": [
    "AP = 380\n",
    "\n",
    "AP * 0.6 + 225"
   ]
  },
  {
   "cell_type": "code",
   "execution_count": 50,
   "id": "ec237dc0-39da-4b79-9e34-1b775de3dd12",
   "metadata": {},
   "outputs": [],
   "source": [
    "# 클래스명은 pascal case를 권장한다. JustDoIt=good, justdoit=bad\n",
    "# camel case = justDoit\n",
    "\n",
    "# 변수를 삭제할 때는 앞에 del을 붙이면 됨.\n",
    "del x"
   ]
  },
  {
   "cell_type": "code",
   "execution_count": 52,
   "id": "5b5db768-1e0f-462e-b11e-1ce733cfb989",
   "metadata": {},
   "outputs": [
    {
     "name": "stdout",
     "output_type": "stream",
     "text": [
      "30\n"
     ]
    }
   ],
   "source": [
    "a = 10\n",
    "a = a + 20\n",
    "\n",
    "\n",
    "print(a)"
   ]
  },
  {
   "cell_type": "code",
   "execution_count": 53,
   "id": "47ee3884-fb85-4788-91c3-9e37eeddc925",
   "metadata": {},
   "outputs": [
    {
     "ename": "NameError",
     "evalue": "name 'a' is not defined",
     "output_type": "error",
     "traceback": [
      "\u001b[0;31m---------------------------------------------------------------------------\u001b[0m",
      "\u001b[0;31mNameError\u001b[0m                                 Traceback (most recent call last)",
      "\u001b[0;32m/var/folders/pj/m08knkgx3rz6pmvhgttqvmyc0000gn/T/ipykernel_6424/1497285116.py\u001b[0m in \u001b[0;36m<module>\u001b[0;34m\u001b[0m\n\u001b[1;32m      1\u001b[0m \u001b[0;32mdel\u001b[0m \u001b[0ma\u001b[0m\u001b[0;34m\u001b[0m\u001b[0;34m\u001b[0m\u001b[0m\n\u001b[0;32m----> 2\u001b[0;31m \u001b[0mprint\u001b[0m\u001b[0;34m(\u001b[0m\u001b[0ma\u001b[0m\u001b[0;34m)\u001b[0m\u001b[0;34m\u001b[0m\u001b[0;34m\u001b[0m\u001b[0m\n\u001b[0m",
      "\u001b[0;31mNameError\u001b[0m: name 'a' is not defined"
     ]
    }
   ],
   "source": [
    "del a\n",
    "print(a)"
   ]
  },
  {
   "cell_type": "code",
   "execution_count": 55,
   "id": "5b340968-5cab-4485-a711-45bbc3a990db",
   "metadata": {},
   "outputs": [
    {
     "name": "stdout",
     "output_type": "stream",
     "text": [
      "20\n"
     ]
    }
   ],
   "source": [
    "a = 10\n",
    "a += 10 # a = a+10과 같다.\n",
    "print(a)"
   ]
  },
  {
   "cell_type": "code",
   "execution_count": 60,
   "id": "ad0c66b4-5717-49cd-8d0e-becdfdea21d4",
   "metadata": {},
   "outputs": [
    {
     "name": "stdout",
     "output_type": "stream",
     "text": [
      "None\n"
     ]
    }
   ],
   "source": [
    "# 변수에 빈 값 할당하기\n",
    "b = None\n",
    "print(b)"
   ]
  },
  {
   "cell_type": "code",
   "execution_count": 66,
   "id": "09123fa4-74fe-4eca-a5ac-84b33228c136",
   "metadata": {},
   "outputs": [
    {
     "name": "stdout",
     "output_type": "stream",
     "text": [
      "don't do that\n",
      "dont't do that\n"
     ]
    }
   ],
   "source": [
    "# 상수, 파이썬에서 키워드를 통해 상수를 만드는 방법은 없다.(자바의 final 키워드 처럼) 나중에 클래스를 통해 구현 가능\n",
    "# 보통 대문자로만 된 SNAKE_CASE를 활용하여 상수명을 만들어 준다. 상수처럼 사용하는 것.\n",
    "\n",
    "# true false도 변수로 사용 가능하다. 하지만 굳이 사용하지 않음.\n",
    "\n",
    "# 비교 연산자\n",
    "# 연산자 우선순위\n",
    "\n",
    "# 문자열 리터럴 '', \"\" 둘다 잘 쓸 수 있다.\n",
    "\n",
    "# 만약 따옴표를 문자로 사용하고 싶다면 역슬래시\\를 사용하면 된다. \n",
    "\n",
    "text1 = 'don\\'t do that'\n",
    "text2 = \"dont't do that\"\n",
    "print(text1)\n",
    "print(text2)"
   ]
  },
  {
   "cell_type": "code",
   "execution_count": 69,
   "id": "686dd1e9-6446-4923-a5f7-b51b58fc0d5e",
   "metadata": {},
   "outputs": [
    {
     "name": "stdout",
     "output_type": "stream",
     "text": [
      "실행 결과:\n",
      "\"안녕?\"이라는 그 인사를 듣고 나는 '누구지?'라고 생각했다.\n"
     ]
    }
   ],
   "source": [
    "print(\"실행 결과:\")\n",
    "print(\"\\\"안녕?\\\"이라는 그 인사를 듣고 나는 '누구지?'라고 생각했다.\")"
   ]
  },
  {
   "cell_type": "code",
   "execution_count": 5,
   "id": "017efce6-8a57-4225-8d7f-fe4740ee9d3d",
   "metadata": {},
   "outputs": [
    {
     "name": "stdout",
     "output_type": "stream",
     "text": [
      "안녕하세요\n",
      "나는 파이썬을 공부하고 있습니다.\n",
      "반갑습니다.\n",
      "\n"
     ]
    }
   ],
   "source": [
    "S3=\"\"\"\\\n",
    "안녕하세요\n",
    "나는 파이썬을 공부하고 있습니다.\n",
    "반갑습니다.\n",
    "\"\"\"\n",
    "\n",
    "print(S3)"
   ]
  },
  {
   "cell_type": "code",
   "execution_count": 10,
   "id": "23d3371c-6694-43b6-b789-42cd5a399ead",
   "metadata": {},
   "outputs": [
    {
     "name": "stdout",
     "output_type": "stream",
     "text": [
      "실행결과:\n",
      "안녕하세요\n",
      "나는 파이썬을 공부하고 있습니다.\n",
      "반갑습니다.\n"
     ]
    }
   ],
   "source": [
    "S3=\"\"\"\\\n",
    "실행결과:\n",
    "안녕하세요\n",
    "나는 파이썬을 공부하고 있습니다.\n",
    "반갑습니다.\\\n",
    "\"\"\"\n",
    "\n",
    "print(S3)"
   ]
  },
  {
   "cell_type": "code",
   "execution_count": 11,
   "id": "bf5b812e-642a-4a06-a7b2-7e6b0cddda05",
   "metadata": {},
   "outputs": [
    {
     "name": "stdout",
     "output_type": "stream",
     "text": [
      "실행결과:\n",
      "\"안녕하세요\"\n",
      "나는 파이썬을 공부하고 있습니다.\n",
      "반갑습니다.\n"
     ]
    }
   ],
   "source": [
    "S3=\"\"\"\\\n",
    "실행결과:\n",
    "\"안녕하세요\"\n",
    "나는 파이썬을 공부하고 있습니다.\n",
    "반갑습니다.\\\n",
    "\"\"\"\n",
    "\n",
    "print(S3)"
   ]
  },
  {
   "cell_type": "code",
   "execution_count": 12,
   "id": "59fad0de-cce8-4bf2-a1f3-66622dc7d869",
   "metadata": {},
   "outputs": [
    {
     "name": "stdout",
     "output_type": "stream",
     "text": [
      "실행결과:\n",
      "너무 너무 너무 너무 너무 너무 너무 파이썬 공부가 즐겁습니다.\n",
      "\n"
     ]
    }
   ],
   "source": [
    "S3=\"\"\"\\\n",
    "실행결과:\n",
    "너무 너무 너무 너무 너무 너무 너무 파이썬 공부가 즐겁습니다.\n",
    "\"\"\"\n",
    "\n",
    "print(S3)"
   ]
  },
  {
   "cell_type": "code",
   "execution_count": 13,
   "id": "d9025006-9d38-4637-88e0-1deeb5ea922b",
   "metadata": {},
   "outputs": [
    {
     "name": "stdout",
     "output_type": "stream",
     "text": [
      "너무너무너무너무너무너무너무너무너무너무너무너무너무너무너무너무너무너무너무너무너무너무너무너무너무너무너무너무너무너무너무너무너무너무너무너무너무너무너무너무너무너무너무너무너무너무너무너무너무너무너무너무너무너무너무너무너무너무너무너무너무너무너무너무너무너무너무너무너무너무너무너무너무너무너무너무너무너무너무너무너무너무너무너무너무너무너무너무너무너무너무너무너무너무너무너무너무너무너무너무파이썬 공부\n"
     ]
    }
   ],
   "source": [
    "S6 = \"너무\" * 100 + \"파이썬 공부\"\n",
    "print(S6)"
   ]
  },
  {
   "cell_type": "code",
   "execution_count": 15,
   "id": "b16eb458-f28f-462a-a604-5d798992ef7d",
   "metadata": {},
   "outputs": [
    {
     "name": "stdout",
     "output_type": "stream",
     "text": [
      "P\n",
      "n\n"
     ]
    }
   ],
   "source": [
    "word = 'Python'\n",
    "#인덱스는 0부터 시작된다.\n",
    "print(word[0])\n",
    "print(word[5])"
   ]
  },
  {
   "cell_type": "code",
   "execution_count": 16,
   "id": "17926b5a-30e9-496e-9e61-752c64e40e0f",
   "metadata": {},
   "outputs": [
    {
     "name": "stdout",
     "output_type": "stream",
     "text": [
      "n\n",
      "P\n"
     ]
    }
   ],
   "source": [
    "word = 'Python'\n",
    "#인덱스는 0부터 시작된다.\n",
    "print(word[-1])\n",
    "print(word[-6])"
   ]
  },
  {
   "cell_type": "code",
   "execution_count": 18,
   "id": "a924a8c8-6276-42a5-b21d-c7c26f6a3455",
   "metadata": {},
   "outputs": [
    {
     "name": "stdout",
     "output_type": "stream",
     "text": [
      "실행결과:\n",
      "꺾\n"
     ]
    }
   ],
   "source": [
    "# 인덱스는 [숫자]로 표현. 양수는 앞에서부터 세고, 음수는 뒤에서부터 센다.\n",
    "sentence='중요한 것은 꺾이지 않는 마음'\n",
    "print(\"실행결과:\")\n",
    "print(sentence[7])"
   ]
  },
  {
   "cell_type": "code",
   "execution_count": 30,
   "id": "128e5c20-29ff-4016-97fd-7171984f3f06",
   "metadata": {},
   "outputs": [
    {
     "name": "stdout",
     "output_type": "stream",
     "text": [
      "yth\n",
      "Pto\n"
     ]
    }
   ],
   "source": [
    "# 슬라이싱은 불러올 범위를 지정한다.\n",
    "# [첫 숫자: 끝 숫자: 증감 범위]\n",
    "# 첫 숫자부터 포함하거나, 마지막요소까지 표함하거나, 증감 숫자가 1이면 생략이 가능하다.\n",
    "\n",
    "word = 'Python'\n",
    "\n",
    "print(word[1:4])\n",
    "print(word[::2])"
   ]
  },
  {
   "cell_type": "code",
   "execution_count": 31,
   "id": "93c30ad3-7c2a-49d8-b981-5fec850d36c4",
   "metadata": {},
   "outputs": [
    {
     "name": "stdout",
     "output_type": "stream",
     "text": [
      "\n"
     ]
    }
   ],
   "source": [
    "sentence='중요한 것은 꺾이지 않는 마음'\n",
    "print(sentence[42:])"
   ]
  },
  {
   "cell_type": "code",
   "execution_count": 32,
   "id": "80fb16dd-5a09-4aef-96bd-1beab39c587b",
   "metadata": {},
   "outputs": [
    {
     "name": "stdout",
     "output_type": "stream",
     "text": [
      "한 것은 꺾이지 않는 마음\n"
     ]
    }
   ],
   "source": [
    "sentence='중요한 것은 꺾이지 않는 마음'\n",
    "print(sentence[2:42:])"
   ]
  },
  {
   "cell_type": "code",
   "execution_count": 33,
   "id": "004f6d7c-660a-4c37-aa11-bffe699d11bc",
   "metadata": {},
   "outputs": [
    {
     "name": "stdout",
     "output_type": "stream",
     "text": [
      "꺾이지 않는 마음\n"
     ]
    }
   ],
   "source": [
    "sentence='중요한 것은 꺾이지 않는 마음'\n",
    "print(sentence[7:42:])"
   ]
  },
  {
   "cell_type": "code",
   "execution_count": 44,
   "id": "848b2754-921e-481e-9c9f-868a94c28e4e",
   "metadata": {},
   "outputs": [
    {
     "name": "stdout",
     "output_type": "stream",
     "text": [
      "한요중\n"
     ]
    }
   ],
   "source": [
    "sentence='중요한 것은 꺾이지 않는 마음'\n",
    "print(sentence[-14:-17:-1])"
   ]
  },
  {
   "cell_type": "code",
   "execution_count": 45,
   "id": "104b6f51-2f5a-4d3d-996d-4ff91361e30e",
   "metadata": {},
   "outputs": [
    {
     "name": "stdout",
     "output_type": "stream",
     "text": [
      "대단한 것은 꺾이지 않는 마음\n"
     ]
    }
   ],
   "source": [
    "sentence = \"대단한\"+sentence[3:]\n",
    "print(sentence)"
   ]
  },
  {
   "cell_type": "code",
   "execution_count": 49,
   "id": "d452cf99-c687-4299-b683-fb3d66c5716e",
   "metadata": {},
   "outputs": [
    {
     "name": "stdout",
     "output_type": "stream",
     "text": [
      "재밌어요재밌어요재밌어요재밌어요재밌어요재밌어요재밌어요재밌어요재밌어요재밌어요\n",
      "40\n"
     ]
    }
   ],
   "source": [
    "# len은 시퀀스의 길이를 알려준다\n",
    "\n",
    "s7 = '재밌어요' *10\n",
    "print(s7)\n",
    "print(len(s7))\n"
   ]
  },
  {
   "cell_type": "code",
   "execution_count": 50,
   "id": "71307004-f7cc-4a6e-8a7c-4191c24e1747",
   "metadata": {},
   "outputs": [
    {
     "name": "stdout",
     "output_type": "stream",
     "text": [
      "[1, 4, 9, 16, 25]\n"
     ]
    }
   ],
   "source": [
    "# 리스트\n",
    "squares = [1**2, 2**2, 3**2, 4**2, 5**2]\n",
    "print(squares)"
   ]
  },
  {
   "cell_type": "code",
   "execution_count": 51,
   "id": "24257ed3-07e2-49d3-9b33-507fae724efa",
   "metadata": {},
   "outputs": [
    {
     "name": "stdout",
     "output_type": "stream",
     "text": [
      "1\n",
      "25\n"
     ]
    }
   ],
   "source": [
    "# 리스트의 인덱싱과 슬라이싱\n",
    "\n",
    "print(squares[0])\n",
    "print(squares[-1])"
   ]
  },
  {
   "cell_type": "code",
   "execution_count": 52,
   "id": "355694b4-00a6-402a-907c-654086914cb5",
   "metadata": {},
   "outputs": [
    {
     "name": "stdout",
     "output_type": "stream",
     "text": [
      "[9, 16, 25]\n"
     ]
    }
   ],
   "source": [
    "print(squares[-3:])"
   ]
  },
  {
   "cell_type": "code",
   "execution_count": 53,
   "id": "9dc0aef2-cf20-4e11-85eb-0133e94c54f8",
   "metadata": {},
   "outputs": [
    {
     "name": "stdout",
     "output_type": "stream",
     "text": [
      "[1, 4, 9, 16, 25, 36, 49, 64, 100]\n"
     ]
    }
   ],
   "source": [
    "# 리스트의 더하기와 곱하기\n",
    "\n",
    "print(squares+[36, 49, 64, 100])\n"
   ]
  },
  {
   "cell_type": "code",
   "execution_count": 54,
   "id": "28e25986-a9db-4862-8edb-d34edca341c2",
   "metadata": {},
   "outputs": [
    {
     "name": "stdout",
     "output_type": "stream",
     "text": [
      "['a', 'b', 'c', 'd', 'a', 'b', 'c', 'd', 'a', 'b', 'c', 'd']\n"
     ]
    }
   ],
   "source": [
    "letters= ['a', 'b', 'c', 'd']\n",
    "print(letters*3)"
   ]
  },
  {
   "cell_type": "code",
   "execution_count": 56,
   "id": "a7897053-b693-494f-83cb-bc9aa13ccab3",
   "metadata": {},
   "outputs": [
    {
     "name": "stdout",
     "output_type": "stream",
     "text": [
      "[1, 8, 27, 64, 125]\n"
     ]
    }
   ],
   "source": [
    "# 리스트는 가변. 리스트의 값 변경하기.\n",
    "\n",
    "cubes = [1, 8, 27, 65, 125]\n",
    "cubes[3] = 4**3\n",
    "\n",
    "print(cubes)"
   ]
  },
  {
   "cell_type": "code",
   "execution_count": 59,
   "id": "59748c6f-506c-4f1d-a2b2-4a6a3e29ff5a",
   "metadata": {},
   "outputs": [
    {
     "name": "stdout",
     "output_type": "stream",
     "text": [
      "['a', 'b', 'c', 'd', 'e']\n"
     ]
    }
   ],
   "source": [
    "# 슬라이싱을 통해 값을 변경\n",
    "letters= ['a', 'b', 'c', 'd']\n",
    "\n",
    "letters [2:5] = ['c', 'd', 'e']\n",
    "print(letters)"
   ]
  },
  {
   "cell_type": "code",
   "execution_count": 60,
   "id": "7a88bbb7-0706-42cd-8c11-6495bd7363af",
   "metadata": {},
   "outputs": [
    {
     "name": "stdout",
     "output_type": "stream",
     "text": [
      "5\n"
     ]
    }
   ],
   "source": [
    "print(len(letters))"
   ]
  },
  {
   "cell_type": "code",
   "execution_count": 61,
   "id": "5bc8c409-4554-42c5-83fe-5543bd048e11",
   "metadata": {},
   "outputs": [
    {
     "name": "stdout",
     "output_type": "stream",
     "text": [
      "[['a', 'b', 'c'], [1, 2, 3]]\n"
     ]
    }
   ],
   "source": [
    "# 리스트 안에 리스트\n",
    "\n",
    "a= ['a', 'b', 'c']\n",
    "n= [1, 2, 3]\n",
    "x= [a, n]\n",
    "print(x)\n"
   ]
  },
  {
   "cell_type": "code",
   "execution_count": 62,
   "id": "5da2c2b0-4c71-49ca-a50d-affb7023cab5",
   "metadata": {},
   "outputs": [
    {
     "name": "stdout",
     "output_type": "stream",
     "text": [
      "['a', 'b', 'c']\n"
     ]
    }
   ],
   "source": [
    "print(x[0])"
   ]
  },
  {
   "cell_type": "code",
   "execution_count": 63,
   "id": "7d18acbf-c2dc-4ae5-bd9b-55bc8efbed9a",
   "metadata": {},
   "outputs": [
    {
     "name": "stdout",
     "output_type": "stream",
     "text": [
      "b\n"
     ]
    }
   ],
   "source": [
    "print(x[0][1])"
   ]
  },
  {
   "cell_type": "code",
   "execution_count": 94,
   "id": "53053045-4267-49c4-b29d-e5831145dc6b",
   "metadata": {},
   "outputs": [
    {
     "name": "stdout",
     "output_type": "stream",
     "text": [
      "True\n",
      "False\n"
     ]
    }
   ],
   "source": [
    "# 리스트 안에 00가 있는지 확인\n",
    "\n",
    "numbers = [1,2,3,4,5,6,7]\n",
    "print(5 in numbers)\n",
    "print(8 in numbers)"
   ]
  },
  {
   "cell_type": "code",
   "execution_count": 95,
   "id": "4a2dfbb0-1398-40f8-a61c-399dd015bfb3",
   "metadata": {},
   "outputs": [
    {
     "name": "stdout",
     "output_type": "stream",
     "text": [
      "실행결과:\n"
     ]
    },
    {
     "data": {
      "text/plain": [
       "False"
      ]
     },
     "execution_count": 95,
     "metadata": {},
     "output_type": "execute_result"
    }
   ],
   "source": [
    "#[국어, 영어, 한국사, 선택1, 선택2]\n",
    "scores = [88, 73, 89, 59, 77]\n",
    "\n",
    "print(\"실행결과:\")\n",
    "(scores[1]>60 and scores[2]>60 and scores[3]>60 and scores[4]>60 and scores[5]>60)"
   ]
  },
  {
   "cell_type": "code",
   "execution_count": 96,
   "id": "ff32d0c6-16b9-448f-8eb1-82a6d8453718",
   "metadata": {},
   "outputs": [
    {
     "name": "stdout",
     "output_type": "stream",
     "text": [
      "[1, 2, 3, 4, 5, 6, 7, 8]\n"
     ]
    }
   ],
   "source": [
    "# append로 리스트에 요소 추가\n",
    "numbers.append(8)\n",
    "print(numbers)"
   ]
  },
  {
   "cell_type": "code",
   "execution_count": 97,
   "id": "6a728deb-4548-408d-80f7-35ad2a73e934",
   "metadata": {},
   "outputs": [
    {
     "name": "stdout",
     "output_type": "stream",
     "text": [
      "[0, 1, 2, 3, 0, 4, 0, 5, 6, 7, 8, 0]\n"
     ]
    }
   ],
   "source": [
    "# 윈하는 index위치에 요소 추가\n",
    "numbers.insert(0,0) # 0위치에 0을 넣겠다.\n",
    "numbers.insert(4,0)\n",
    "numbers.insert(6,0)\n",
    "numbers.insert(len(numbers), 0) # 맨 뒤를 표현한기 위해서 len 사용\n",
    "print(numbers)"
   ]
  },
  {
   "cell_type": "code",
   "execution_count": 98,
   "id": "76ee8d2c-8f71-4947-a254-f269043f195c",
   "metadata": {},
   "outputs": [
    {
     "name": "stdout",
     "output_type": "stream",
     "text": [
      "[0, 1, 2, 3, 0, 4, 0, 5, 6, 7, 8, 0, 9, 10, 12]\n"
     ]
    }
   ],
   "source": [
    "# append는 요소, extend는 리스트의 형태로 더함\n",
    "\n",
    "numbers.extend([9, 10, 12])\n",
    "print(numbers)"
   ]
  },
  {
   "cell_type": "code",
   "execution_count": 100,
   "id": "988f51d1-66d7-4485-9fb9-07482fb77f59",
   "metadata": {},
   "outputs": [
    {
     "name": "stdout",
     "output_type": "stream",
     "text": [
      "[1, 2, 3, 4, 0, 5, 6, 7, 8, 0, 9, 10, 12]\n"
     ]
    }
   ],
   "source": [
    "numbers.remove(0)\n",
    "print(numbers)"
   ]
  },
  {
   "cell_type": "code",
   "execution_count": 102,
   "id": "31931f08-112b-4a0c-8129-86a9373a2c67",
   "metadata": {},
   "outputs": [
    {
     "name": "stdout",
     "output_type": "stream",
     "text": [
      "12\n"
     ]
    }
   ],
   "source": [
    "# pop 맨 마지막 요소를 반환하고 제거하기\n",
    "\n",
    "print(numbers.pop())"
   ]
  },
  {
   "cell_type": "code",
   "execution_count": 103,
   "id": "5da7526e-ecb7-4957-a6bf-ac9166b0a6a0",
   "metadata": {},
   "outputs": [
    {
     "name": "stdout",
     "output_type": "stream",
     "text": [
      "[1, 2, 3, 4, 0, 5, 6, 7, 8, 0, 9, 10]\n"
     ]
    }
   ],
   "source": [
    "print(numbers)"
   ]
  },
  {
   "cell_type": "code",
   "execution_count": 105,
   "id": "b7326fd4-9b5e-4221-bade-f9deccafd40c",
   "metadata": {},
   "outputs": [
    {
     "name": "stdout",
     "output_type": "stream",
     "text": [
      "4\n"
     ]
    }
   ],
   "source": [
    "#리스트에서 인자와 같은 값의 요소 인덱스 조회\n",
    "\n",
    "print(numbers.index(0))"
   ]
  },
  {
   "cell_type": "code",
   "execution_count": 107,
   "id": "2a07808b-a4d0-45f7-acbf-b95e96d67224",
   "metadata": {},
   "outputs": [
    {
     "name": "stdout",
     "output_type": "stream",
     "text": [
      "2\n"
     ]
    }
   ],
   "source": [
    "# 이 값이 몇개나 있는지 셀 수 있다\n",
    "print(numbers.count(0))"
   ]
  },
  {
   "cell_type": "code",
   "execution_count": 108,
   "id": "5c1e2c4c-61ac-4c46-b411-baa3eeff1e2f",
   "metadata": {},
   "outputs": [
    {
     "name": "stdout",
     "output_type": "stream",
     "text": [
      "[0, 0, 1, 2, 3, 4, 5, 6, 7, 8, 9, 10]\n"
     ]
    }
   ],
   "source": [
    "# 오름차순으로 정리해준다\n",
    "numbers.sort()\n",
    "print(numbers)"
   ]
  },
  {
   "cell_type": "code",
   "execution_count": 112,
   "id": "94119f94-5605-43f0-b8b2-a0c4435754ea",
   "metadata": {},
   "outputs": [
    {
     "name": "stdout",
     "output_type": "stream",
     "text": [
      "[9, 1, 6, 2, 7]\n"
     ]
    }
   ],
   "source": [
    "reverse_test=[7, 2, 6, 1, 9]\n",
    "reverse_test.reverse()\n",
    "print(reverse_test)"
   ]
  },
  {
   "cell_type": "code",
   "execution_count": 114,
   "id": "3da7ae26-df11-46a9-9fac-b9b9389dfdb1",
   "metadata": {},
   "outputs": [
    {
     "name": "stdout",
     "output_type": "stream",
     "text": [
      "[3, 4, 5, 6, 7]\n",
      "7\n",
      "[3, 4, 5, 6]\n",
      "6\n",
      "5\n",
      "[3, 4]\n"
     ]
    }
   ],
   "source": [
    "# 리스트를 stack 처럼 활용하기\n",
    "# 스택은 데이터가 켜켜이 쌓인 것처럼, 선입후출, 후입선출 방식이다.\n",
    "\n",
    "stack = [3,4,5]\n",
    "stack.append(6)\n",
    "stack.append(7)\n",
    "print(stack)\n",
    "\n",
    "print(stack.pop())\n",
    "\n",
    "print(stack)\n",
    "\n",
    "print(stack.pop())\n",
    "\n",
    "print(stack.pop())\n",
    "\n",
    "print(stack)"
   ]
  },
  {
   "cell_type": "code",
   "execution_count": 117,
   "id": "4c6f5712-0094-410e-8873-b5eff6edde9f",
   "metadata": {},
   "outputs": [],
   "source": [
    "# clear는 리스트의 모든 요소를 제거\n",
    "# numbers.clear()\n",
    "\n"
   ]
  },
  {
   "cell_type": "code",
   "execution_count": 116,
   "id": "bed495f2-91c4-4cd5-83d3-2fcd677046d9",
   "metadata": {},
   "outputs": [],
   "source": [
    "# 튜플은 처음 생성하고 있는 값을 조회하는 건 되나, 추가 수정 삭제 등의 변경은 불가능하다.\n",
    "# 소괄호 생략이 가능하다. 하지만 권장하지는 않음.\n",
    "\n"
   ]
  },
  {
   "cell_type": "code",
   "execution_count": null,
   "id": "d9a72409-a9c4-4781-ac46-dcf3459e6a46",
   "metadata": {},
   "outputs": [],
   "source": []
  }
 ],
 "metadata": {
  "kernelspec": {
   "display_name": "Python 3 (ipykernel)",
   "language": "python",
   "name": "python3"
  },
  "language_info": {
   "codemirror_mode": {
    "name": "ipython",
    "version": 3
   },
   "file_extension": ".py",
   "mimetype": "text/x-python",
   "name": "python",
   "nbconvert_exporter": "python",
   "pygments_lexer": "ipython3",
   "version": "3.9.7"
  }
 },
 "nbformat": 4,
 "nbformat_minor": 5
}
