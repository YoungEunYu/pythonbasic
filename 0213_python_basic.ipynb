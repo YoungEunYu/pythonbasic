{
 "cells": [
  {
   "cell_type": "code",
   "execution_count": 1,
   "id": "aee44bf2-47d9-4eca-b4be-7bedb0a9fe35",
   "metadata": {},
   "outputs": [
    {
     "data": {
      "text/plain": [
       "'#따옴표 안은 리터럴입니다. 문자열 리터럴.'"
      ]
     },
     "execution_count": 1,
     "metadata": {},
     "output_type": "execute_result"
    }
   ],
   "source": [
    "# 주석주석 주석\n",
    "#주석\n",
    "\"#따옴표 안은 리터럴입니다. 문자열 리터럴.\"\n",
    "\n",
    "# 리터럴 = 값 자체. 숫자, 문자열, 참, 거짓 등과 같은 그냥 값.."
   ]
  },
  {
   "cell_type": "code",
   "execution_count": 6,
   "id": "2eac12b9-6c9a-4b3b-831a-a73106e69e9c",
   "metadata": {},
   "outputs": [
    {
     "name": "stdout",
     "output_type": "stream",
     "text": [
      "1\n",
      "#따옴표 안은 리터럴입니다. 문자열 리터럴.\n"
     ]
    }
   ],
   "source": [
    "#함수를 같이 쓸 때는 소괄호를 같이 써서 호출을 한다. call\n",
    "x=1;\n",
    "print(x)\n",
    "\n",
    "text= \"#따옴표 안은 리터럴입니다. 문자열 리터럴.\"\n",
    "print(text)"
   ]
  },
  {
   "cell_type": "code",
   "execution_count": 11,
   "id": "9c36bad2-d6fc-46eb-942d-68b1e236a960",
   "metadata": {},
   "outputs": [
    {
     "name": "stdout",
     "output_type": "stream",
     "text": [
      "Hello World!\n",
      "Hello World!\n",
      "Python Programming\n"
     ]
    }
   ],
   "source": [
    "text = \"Hello World!\"\n",
    "\n",
    "print(text)\n",
    "print(text)\n",
    "print('Python Programming')\n"
   ]
  },
  {
   "cell_type": "code",
   "execution_count": 14,
   "id": "54671586-f5ba-4686-a2d0-5c1e0c5b9198",
   "metadata": {},
   "outputs": [
    {
     "data": {
      "text/plain": [
       "89"
      ]
     },
     "execution_count": 14,
     "metadata": {},
     "output_type": "execute_result"
    }
   ],
   "source": [
    "13+(22-3)*4"
   ]
  },
  {
   "cell_type": "code",
   "execution_count": 15,
   "id": "e5c2b784-b2de-4437-896b-cb6139908068",
   "metadata": {},
   "outputs": [
    {
     "data": {
      "text/plain": [
       "28.2"
      ]
     },
     "execution_count": 15,
     "metadata": {},
     "output_type": "execute_result"
    }
   ],
   "source": [
    "13+((22-3)*4)/5"
   ]
  },
  {
   "cell_type": "code",
   "execution_count": 16,
   "id": "4dba3737-2d56-4300-a2f1-91044fc99485",
   "metadata": {},
   "outputs": [],
   "source": [
    "# 몫 구하기 = //\n",
    "# 나머지 구하기 = %\n",
    "\n",
    "# 거듭제곱 = **\n",
    "# 제곱근 3**(1/2)\n",
    "\n",
    "# 정수 int / 실수 float / 복소수 complex = 실수와 허수로 표현되는 숫자\n",
    "# 실수 접근 -> 복소수.real\n",
    "# 허수 접근 -> 복소수.imag\n",
    "\n",
    "# 실수를 정수로 변환\n",
    "# 문자열을 정수로 변환\n",
    "# 따옴표로 감싸져 있는 부분은 문자열이 된다. "
   ]
  },
  {
   "cell_type": "code",
   "execution_count": 41,
   "id": "ce03f134-77ce-44cd-abd1-1b94d6377c91",
   "metadata": {},
   "outputs": [
    {
     "name": "stdout",
     "output_type": "stream",
     "text": [
      "실행 결과\n",
      "가장 시끄러운 층은 7 층\n"
     ]
    }
   ],
   "source": [
    "#소음이 가장 심한 층은\n",
    "\n",
    "x=int(0.2467 * 12 + 4.159)\n",
    "\n",
    "print(\"실행 결과\")\n",
    "print(\"가장 시끄러운 층은\", x,\"층\")"
   ]
  },
  {
   "cell_type": "code",
   "execution_count": 45,
   "id": "2c492ca3-378e-405b-bba0-6b5a2d38fdf8",
   "metadata": {},
   "outputs": [
    {
     "name": "stdout",
     "output_type": "stream",
     "text": [
      "실행 결과:\n",
      "냉장고 가격은 1272000 입니다.\n"
     ]
    }
   ],
   "source": [
    "print(\"실행 결과:\")\n",
    "print(\"냉장고 가격은\", (53000*24),'입니다.')"
   ]
  },
  {
   "cell_type": "code",
   "execution_count": 47,
   "id": "fc230307-b305-43a6-a6d2-7f5a5301b729",
   "metadata": {},
   "outputs": [
    {
     "name": "stdout",
     "output_type": "stream",
     "text": [
      "실행 결과:\n",
      "총 지불해야 할 금액은 16500000.0 원 입니다.\n"
     ]
    }
   ],
   "source": [
    "people = 250\n",
    "tax = 10/100\n",
    "\n",
    "x=(20000*3*people)+(20000*3*people)*tax\n",
    "\n",
    "print(\"실행 결과:\")\n",
    "print(\"총 지불해야 할 금액은\", x,'원 입니다.')"
   ]
  },
  {
   "cell_type": "code",
   "execution_count": 48,
   "id": "efb706b5-09c7-41c0-a6da-7b1f6882fc85",
   "metadata": {},
   "outputs": [],
   "source": [
    "# 2진법 표기\n",
    "# 0b10001 -> \n",
    "# bin(17) = 0b10001\n",
    "# bin(22) = 0b10110\n",
    "\n",
    "# 16진수 표기\n",
    "# hex(31) -> 0x1f\n",
    "# hex(22) -> 0x16"
   ]
  },
  {
   "cell_type": "code",
   "execution_count": 49,
   "id": "550b3df7-d9f3-4bb1-8c4a-0173f540f3f8",
   "metadata": {},
   "outputs": [
    {
     "data": {
      "text/plain": [
       "453.0"
      ]
     },
     "execution_count": 49,
     "metadata": {},
     "output_type": "execute_result"
    }
   ],
   "source": [
    "AP = 380\n",
    "\n",
    "AP * 0.6 + 225"
   ]
  },
  {
   "cell_type": "code",
   "execution_count": 50,
   "id": "ec237dc0-39da-4b79-9e34-1b775de3dd12",
   "metadata": {},
   "outputs": [],
   "source": [
    "# 클래스명은 pascal case를 권장한다. JustDoIt=good, justdoit=bad\n",
    "# camel case = justDoit\n",
    "\n",
    "# 변수를 삭제할 때는 앞에 del을 붙이면 됨.\n",
    "del x"
   ]
  },
  {
   "cell_type": "code",
   "execution_count": 52,
   "id": "5b5db768-1e0f-462e-b11e-1ce733cfb989",
   "metadata": {},
   "outputs": [
    {
     "name": "stdout",
     "output_type": "stream",
     "text": [
      "30\n"
     ]
    }
   ],
   "source": [
    "a = 10\n",
    "a = a + 20\n",
    "\n",
    "\n",
    "print(a)"
   ]
  },
  {
   "cell_type": "code",
   "execution_count": 53,
   "id": "47ee3884-fb85-4788-91c3-9e37eeddc925",
   "metadata": {},
   "outputs": [
    {
     "ename": "NameError",
     "evalue": "name 'a' is not defined",
     "output_type": "error",
     "traceback": [
      "\u001b[0;31m---------------------------------------------------------------------------\u001b[0m",
      "\u001b[0;31mNameError\u001b[0m                                 Traceback (most recent call last)",
      "\u001b[0;32m/var/folders/pj/m08knkgx3rz6pmvhgttqvmyc0000gn/T/ipykernel_6424/1497285116.py\u001b[0m in \u001b[0;36m<module>\u001b[0;34m\u001b[0m\n\u001b[1;32m      1\u001b[0m \u001b[0;32mdel\u001b[0m \u001b[0ma\u001b[0m\u001b[0;34m\u001b[0m\u001b[0;34m\u001b[0m\u001b[0m\n\u001b[0;32m----> 2\u001b[0;31m \u001b[0mprint\u001b[0m\u001b[0;34m(\u001b[0m\u001b[0ma\u001b[0m\u001b[0;34m)\u001b[0m\u001b[0;34m\u001b[0m\u001b[0;34m\u001b[0m\u001b[0m\n\u001b[0m",
      "\u001b[0;31mNameError\u001b[0m: name 'a' is not defined"
     ]
    }
   ],
   "source": [
    "del a\n",
    "print(a)"
   ]
  },
  {
   "cell_type": "code",
   "execution_count": 55,
   "id": "5b340968-5cab-4485-a711-45bbc3a990db",
   "metadata": {},
   "outputs": [
    {
     "name": "stdout",
     "output_type": "stream",
     "text": [
      "20\n"
     ]
    }
   ],
   "source": [
    "a = 10\n",
    "a += 10 # a = a+10과 같다.\n",
    "print(a)"
   ]
  },
  {
   "cell_type": "code",
   "execution_count": 60,
   "id": "ad0c66b4-5717-49cd-8d0e-becdfdea21d4",
   "metadata": {},
   "outputs": [
    {
     "name": "stdout",
     "output_type": "stream",
     "text": [
      "None\n"
     ]
    }
   ],
   "source": [
    "# 변수에 빈 값 할당하기\n",
    "b = None\n",
    "print(b)"
   ]
  },
  {
   "cell_type": "code",
   "execution_count": 66,
   "id": "09123fa4-74fe-4eca-a5ac-84b33228c136",
   "metadata": {},
   "outputs": [
    {
     "name": "stdout",
     "output_type": "stream",
     "text": [
      "don't do that\n",
      "dont't do that\n"
     ]
    }
   ],
   "source": [
    "# 상수, 파이썬에서 키워드를 통해 상수를 만드는 방법은 없다.(자바의 final 키워드 처럼) 나중에 클래스를 통해 구현 가능\n",
    "# 보통 대문자로만 된 SNAKE_CASE를 활용하여 상수명을 만들어 준다. 상수처럼 사용하는 것.\n",
    "\n",
    "# true false도 변수로 사용 가능하다. 하지만 굳이 사용하지 않음.\n",
    "\n",
    "# 비교 연산자\n",
    "# 연산자 우선순위\n",
    "\n",
    "# 문자열 리터럴 '', \"\" 둘다 잘 쓸 수 있다.\n",
    "\n",
    "# 만약 따옴표를 문자로 사용하고 싶다면 역슬래시\\를 사용하면 된다. \n",
    "\n",
    "text1 = 'don\\'t do that'\n",
    "text2 = \"dont't do that\"\n",
    "print(text1)\n",
    "print(text2)"
   ]
  },
  {
   "cell_type": "code",
   "execution_count": 69,
   "id": "686dd1e9-6446-4923-a5f7-b51b58fc0d5e",
   "metadata": {},
   "outputs": [
    {
     "name": "stdout",
     "output_type": "stream",
     "text": [
      "실행 결과:\n",
      "\"안녕?\"이라는 그 인사를 듣고 나는 '누구지?'라고 생각했다.\n"
     ]
    }
   ],
   "source": [
    "print(\"실행 결과:\")\n",
    "print(\"\\\"안녕?\\\"이라는 그 인사를 듣고 나는 '누구지?'라고 생각했다.\")"
   ]
  },
  {
   "cell_type": "code",
   "execution_count": null,
   "id": "017efce6-8a57-4225-8d7f-fe4740ee9d3d",
   "metadata": {},
   "outputs": [],
   "source": []
  }
 ],
 "metadata": {
  "kernelspec": {
   "display_name": "Python 3 (ipykernel)",
   "language": "python",
   "name": "python3"
  },
  "language_info": {
   "codemirror_mode": {
    "name": "ipython",
    "version": 3
   },
   "file_extension": ".py",
   "mimetype": "text/x-python",
   "name": "python",
   "nbconvert_exporter": "python",
   "pygments_lexer": "ipython3",
   "version": "3.9.7"
  }
 },
 "nbformat": 4,
 "nbformat_minor": 5
}
